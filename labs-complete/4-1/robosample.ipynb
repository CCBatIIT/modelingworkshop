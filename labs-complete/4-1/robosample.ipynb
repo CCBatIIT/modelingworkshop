{
  "nbformat": 4,
  "nbformat_minor": 0,
  "metadata": {
    "colab": {
      "name": "robosample.ipynb",
      "provenance": [],
      "collapsed_sections": []
    },
    "kernelspec": {
      "name": "python3",
      "display_name": "Python 3"
    },
    "language_info": {
      "name": "python"
    },
    "accelerator": "GPU",
    "widgets": {
      "application/vnd.jupyter.widget-state+json": {
        "675c4fe1639945379c3a0eeefa6144c7": {
          "model_module": "nglview-js-widgets",
          "model_name": "ColormakerRegistryModel",
          "model_module_version": "3.0.1",
          "state": {
            "_dom_classes": [],
            "_model_module": "nglview-js-widgets",
            "_model_module_version": "3.0.1",
            "_model_name": "ColormakerRegistryModel",
            "_msg_ar": [],
            "_msg_q": [],
            "_ready": true,
            "_view_count": null,
            "_view_module": "nglview-js-widgets",
            "_view_module_version": "3.0.1",
            "_view_name": "ColormakerRegistryView",
            "layout": "IPY_MODEL_15430b5e203a4f488a1246c9887a49a4"
          }
        },
        "15430b5e203a4f488a1246c9887a49a4": {
          "model_module": "@jupyter-widgets/base",
          "model_name": "LayoutModel",
          "model_module_version": "1.2.0",
          "state": {
            "_model_module": "@jupyter-widgets/base",
            "_model_module_version": "1.2.0",
            "_model_name": "LayoutModel",
            "_view_count": null,
            "_view_module": "@jupyter-widgets/base",
            "_view_module_version": "1.2.0",
            "_view_name": "LayoutView",
            "align_content": null,
            "align_items": null,
            "align_self": null,
            "border": null,
            "bottom": null,
            "display": null,
            "flex": null,
            "flex_flow": null,
            "grid_area": null,
            "grid_auto_columns": null,
            "grid_auto_flow": null,
            "grid_auto_rows": null,
            "grid_column": null,
            "grid_gap": null,
            "grid_row": null,
            "grid_template_areas": null,
            "grid_template_columns": null,
            "grid_template_rows": null,
            "height": null,
            "justify_content": null,
            "justify_items": null,
            "left": null,
            "margin": null,
            "max_height": null,
            "max_width": null,
            "min_height": null,
            "min_width": null,
            "object_fit": null,
            "object_position": null,
            "order": null,
            "overflow": null,
            "overflow_x": null,
            "overflow_y": null,
            "padding": null,
            "right": null,
            "top": null,
            "visibility": null,
            "width": null
          }
        },
        "301b1a374dbe41e6a4fde06b8ca3af6f": {
          "model_module": "@jupyter-widgets/base",
          "model_name": "LayoutModel",
          "model_module_version": "1.2.0",
          "state": {
            "_model_module": "@jupyter-widgets/base",
            "_model_module_version": "1.2.0",
            "_model_name": "LayoutModel",
            "_view_count": null,
            "_view_module": "@jupyter-widgets/base",
            "_view_module_version": "1.2.0",
            "_view_name": "LayoutView",
            "align_content": null,
            "align_items": null,
            "align_self": null,
            "border": null,
            "bottom": null,
            "display": null,
            "flex": null,
            "flex_flow": null,
            "grid_area": null,
            "grid_auto_columns": null,
            "grid_auto_flow": null,
            "grid_auto_rows": null,
            "grid_column": null,
            "grid_gap": null,
            "grid_row": null,
            "grid_template_areas": null,
            "grid_template_columns": null,
            "grid_template_rows": null,
            "height": null,
            "justify_content": null,
            "justify_items": null,
            "left": null,
            "margin": null,
            "max_height": null,
            "max_width": null,
            "min_height": null,
            "min_width": null,
            "object_fit": null,
            "object_position": null,
            "order": null,
            "overflow": null,
            "overflow_x": null,
            "overflow_y": null,
            "padding": null,
            "right": null,
            "top": null,
            "visibility": null,
            "width": null
          }
        },
        "be8dca12985144acb27fb332cf251d38": {
          "model_module": "@jupyter-widgets/base",
          "model_name": "LayoutModel",
          "model_module_version": "1.2.0",
          "state": {
            "_model_module": "@jupyter-widgets/base",
            "_model_module_version": "1.2.0",
            "_model_name": "LayoutModel",
            "_view_count": null,
            "_view_module": "@jupyter-widgets/base",
            "_view_module_version": "1.2.0",
            "_view_name": "LayoutView",
            "align_content": null,
            "align_items": null,
            "align_self": null,
            "border": null,
            "bottom": null,
            "display": null,
            "flex": null,
            "flex_flow": null,
            "grid_area": null,
            "grid_auto_columns": null,
            "grid_auto_flow": null,
            "grid_auto_rows": null,
            "grid_column": null,
            "grid_gap": null,
            "grid_row": null,
            "grid_template_areas": null,
            "grid_template_columns": null,
            "grid_template_rows": null,
            "height": null,
            "justify_content": null,
            "justify_items": null,
            "left": null,
            "margin": null,
            "max_height": null,
            "max_width": null,
            "min_height": null,
            "min_width": null,
            "object_fit": null,
            "object_position": null,
            "order": null,
            "overflow": null,
            "overflow_x": null,
            "overflow_y": null,
            "padding": null,
            "right": null,
            "top": null,
            "visibility": null,
            "width": null
          }
        },
        "46feb99e0d6b47c9879f7aa85fb307a6": {
          "model_module": "@jupyter-widgets/controls",
          "model_name": "DescriptionStyleModel",
          "model_module_version": "1.5.0",
          "state": {
            "_model_module": "@jupyter-widgets/controls",
            "_model_module_version": "1.5.0",
            "_model_name": "DescriptionStyleModel",
            "_view_count": null,
            "_view_module": "@jupyter-widgets/base",
            "_view_module_version": "1.2.0",
            "_view_name": "StyleView",
            "description_width": ""
          }
        },
        "e476762cca5a4e99b48cf23a3848c4ec": {
          "model_module": "@jupyter-widgets/base",
          "model_name": "LayoutModel",
          "model_module_version": "1.2.0",
          "state": {
            "_model_module": "@jupyter-widgets/base",
            "_model_module_version": "1.2.0",
            "_model_name": "LayoutModel",
            "_view_count": null,
            "_view_module": "@jupyter-widgets/base",
            "_view_module_version": "1.2.0",
            "_view_name": "LayoutView",
            "align_content": null,
            "align_items": null,
            "align_self": null,
            "border": null,
            "bottom": null,
            "display": null,
            "flex": null,
            "flex_flow": null,
            "grid_area": null,
            "grid_auto_columns": null,
            "grid_auto_flow": null,
            "grid_auto_rows": null,
            "grid_column": null,
            "grid_gap": null,
            "grid_row": null,
            "grid_template_areas": null,
            "grid_template_columns": null,
            "grid_template_rows": null,
            "height": null,
            "justify_content": null,
            "justify_items": null,
            "left": null,
            "margin": null,
            "max_height": null,
            "max_width": null,
            "min_height": null,
            "min_width": null,
            "object_fit": null,
            "object_position": null,
            "order": null,
            "overflow": null,
            "overflow_x": null,
            "overflow_y": null,
            "padding": null,
            "right": null,
            "top": null,
            "visibility": null,
            "width": null
          }
        },
        "23e834e7b88c425586d3e8267569819d": {
          "model_module": "@jupyter-widgets/controls",
          "model_name": "SliderStyleModel",
          "model_module_version": "1.5.0",
          "state": {
            "_model_module": "@jupyter-widgets/controls",
            "_model_module_version": "1.5.0",
            "_model_name": "SliderStyleModel",
            "_view_count": null,
            "_view_module": "@jupyter-widgets/base",
            "_view_module_version": "1.2.0",
            "_view_name": "StyleView",
            "description_width": "",
            "handle_color": null
          }
        },
        "04d6b4cccafe43f084e1a17c1d0f1aec": {
          "model_module": "@jupyter-widgets/controls",
          "model_name": "PlayModel",
          "model_module_version": "1.5.0",
          "state": {
            "_dom_classes": [],
            "_model_module": "@jupyter-widgets/controls",
            "_model_module_version": "1.5.0",
            "_model_name": "PlayModel",
            "_playing": false,
            "_repeat": false,
            "_view_count": null,
            "_view_module": "@jupyter-widgets/controls",
            "_view_module_version": "1.5.0",
            "_view_name": "PlayView",
            "description": "",
            "description_tooltip": null,
            "disabled": false,
            "interval": 100,
            "layout": "IPY_MODEL_be8dca12985144acb27fb332cf251d38",
            "max": 100,
            "min": 0,
            "show_repeat": true,
            "step": 1,
            "style": "IPY_MODEL_46feb99e0d6b47c9879f7aa85fb307a6",
            "value": 100,
            "playing": false
          }
        },
        "51380f6f0a2d4b0384f165506005db10": {
          "model_module": "@jupyter-widgets/controls",
          "model_name": "IntSliderModel",
          "model_module_version": "1.5.0",
          "state": {
            "_dom_classes": [],
            "_model_module": "@jupyter-widgets/controls",
            "_model_module_version": "1.5.0",
            "_model_name": "IntSliderModel",
            "_view_count": null,
            "_view_module": "@jupyter-widgets/controls",
            "_view_module_version": "1.5.0",
            "_view_name": "IntSliderView",
            "continuous_update": true,
            "description": "",
            "description_tooltip": null,
            "disabled": false,
            "layout": "IPY_MODEL_e476762cca5a4e99b48cf23a3848c4ec",
            "max": 100,
            "min": 0,
            "orientation": "horizontal",
            "readout": true,
            "readout_format": "d",
            "step": 1,
            "style": "IPY_MODEL_23e834e7b88c425586d3e8267569819d",
            "value": 100
          }
        },
        "d0d36fda11654d77a10514bbd4b2fc67": {
          "model_module": "@jupyter-widgets/base",
          "model_name": "LayoutModel",
          "model_module_version": "1.2.0",
          "state": {
            "_model_module": "@jupyter-widgets/base",
            "_model_module_version": "1.2.0",
            "_model_name": "LayoutModel",
            "_view_count": null,
            "_view_module": "@jupyter-widgets/base",
            "_view_module_version": "1.2.0",
            "_view_name": "LayoutView",
            "align_content": null,
            "align_items": null,
            "align_self": null,
            "border": null,
            "bottom": null,
            "display": null,
            "flex": null,
            "flex_flow": null,
            "grid_area": null,
            "grid_auto_columns": null,
            "grid_auto_flow": null,
            "grid_auto_rows": null,
            "grid_column": null,
            "grid_gap": null,
            "grid_row": null,
            "grid_template_areas": null,
            "grid_template_columns": null,
            "grid_template_rows": null,
            "height": null,
            "justify_content": null,
            "justify_items": null,
            "left": null,
            "margin": null,
            "max_height": null,
            "max_width": null,
            "min_height": null,
            "min_width": null,
            "object_fit": null,
            "object_position": null,
            "order": null,
            "overflow": null,
            "overflow_x": null,
            "overflow_y": null,
            "padding": null,
            "right": null,
            "top": null,
            "visibility": null,
            "width": null
          }
        },
        "5695560d00c641d3807465b8be5612eb": {
          "model_module": "nglview-js-widgets",
          "model_name": "NGLModel",
          "model_module_version": "3.0.1",
          "state": {
            "_camera_orientation": [
              9.374851517602824,
              -56.77830893058669,
              34.07811470931705,
              0,
              64.35593356505784,
              15.920811249620868,
              8.821773759251178,
              0,
              -15.601541017744658,
              31.555245400288392,
              56.86686657215118,
              0,
              10.23233938217163,
              2.735536575317383,
              2.0775251388549805,
              1
            ],
            "_camera_str": "orthographic",
            "_dom_classes": [],
            "_gui_theme": null,
            "_ibtn_fullscreen": "IPY_MODEL_1ef6d24ebfaf450e961d277ab34313fa",
            "_igui": null,
            "_iplayer": "IPY_MODEL_a05c9a766cac4455984b1ffbf1374434",
            "_model_module": "nglview-js-widgets",
            "_model_module_version": "3.0.1",
            "_model_name": "NGLModel",
            "_ngl_color_dict": {},
            "_ngl_coordinate_resource": {},
            "_ngl_full_stage_parameters": {
              "impostor": true,
              "quality": "medium",
              "workerDefault": true,
              "sampleLevel": 0,
              "backgroundColor": "white",
              "rotateSpeed": 2,
              "zoomSpeed": 1.2,
              "panSpeed": 1,
              "clipNear": 0,
              "clipFar": 100,
              "clipDist": 10,
              "fogNear": 50,
              "fogFar": 100,
              "cameraFov": 40,
              "cameraEyeSep": 0.3,
              "cameraType": "perspective",
              "lightColor": 14540253,
              "lightIntensity": 1,
              "ambientColor": 14540253,
              "ambientIntensity": 0.2,
              "hoverTimeout": 0,
              "tooltip": true,
              "mousePreset": "default"
            },
            "_ngl_msg_archive": [
              {
                "target": "Stage",
                "type": "call_method",
                "methodName": "loadFile",
                "reconstruc_color_scheme": false,
                "args": [
                  {
                    "type": "blob",
                    "data": "ATOM      1  N   ASP     1       8.834  -9.993 -22.490  1.00  0.00           N  \nATOM      2  H1  ASP     1       7.827 -10.131 -22.352  1.00  0.00           H  \nATOM      3  H2  ASP     1       9.090 -10.631 -23.236  1.00  0.00           H  \nATOM      4  H3  ASP     1       8.953  -9.027 -22.785  1.00  0.00           H  \nATOM      5  CA  ASP     1       9.533 -10.386 -21.232  1.00  0.00           C  \nATOM      6  HA  ASP     1      10.004 -11.382 -21.339  1.00  0.00           H  \nATOM      7  CB  ASP     1      10.639  -9.316 -21.005  1.00  0.00           C  \nATOM      8  HB2 ASP     1      11.267  -9.451 -21.897  1.00  0.00           H  \nATOM      9  HB3 ASP     1      10.281  -8.284 -20.931  1.00  0.00           H  \nATOM     10  CG  ASP     1      11.600  -9.547 -19.881  1.00  0.00           C  \nATOM     11  OD1 ASP     1      11.647 -10.699 -19.339  1.00  0.00           O  \nATOM     12  OD2 ASP     1      12.564  -8.745 -19.714  1.00  0.00           O  \nATOM     13  C   ASP     1       8.502 -10.512 -20.037  1.00  0.00           C  \nATOM     14  O   ASP     1       7.312 -10.407 -20.253  1.00  0.00           O  \nATOM     15  N   ARG     2       8.973 -11.108 -18.948  1.00  0.00           N  \nATOM     16  H   ARG     2       9.923 -11.444 -18.901  1.00  0.00           H  \nATOM     17  CA  ARG     2       8.183 -11.355 -17.755  1.00  0.00           C  \nATOM     18  HA  ARG     2       7.347 -10.671 -17.701  1.00  0.00           H  \nATOM     19  CB  ARG     2       7.504 -12.760 -17.977  1.00  0.00           C  \nATOM     20  HB2 ARG     2       7.046 -13.047 -16.992  1.00  0.00           H  \nATOM     21  HB3 ARG     2       6.662 -12.565 -18.645  1.00  0.00           H  \nATOM     22  CG  ARG     2       8.316 -14.032 -18.419  1.00  0.00           C  \nATOM     23  HG2 ARG     2       8.389 -13.751 -19.508  1.00  0.00           H  \nATOM     24  HG3 ARG     2       9.282 -14.015 -17.876  1.00  0.00           H  \nATOM     25  CD  ARG     2       7.605 -15.403 -18.287  1.00  0.00           C  \nATOM     26  HD2 ARG     2       8.424 -16.043 -18.396  1.00  0.00           H  \nATOM     27  HD3 ARG     2       7.304 -15.465 -17.272  1.00  0.00           H  \nATOM     28  NE  ARG     2       6.518 -15.611 -19.216  1.00  0.00           N  \nATOM     29  HE  ARG     2       5.734 -15.027 -19.147  1.00  0.00           H  \nATOM     30  CZ  ARG     2       6.452 -16.548 -20.174  1.00  0.00           C  \nATOM     31  NH1 ARG     2       7.287 -17.529 -20.452  1.00  0.00           N  \nATOM     32 HH11 ARG     2       8.155 -17.624 -19.941  1.00  0.00           H  \nATOM     33 HH12 ARG     2       7.002 -18.196 -21.113  1.00  0.00           H  \nATOM     34  NH2 ARG     2       5.410 -16.500 -20.991  1.00  0.00           N  \nATOM     35 HH21 ARG     2       4.670 -15.888 -20.763  1.00  0.00           H  \nATOM     36 HH22 ARG     2       5.270 -17.156 -21.721  1.00  0.00           H  \nATOM     37  C   ARG     2       8.991 -11.414 -16.461  1.00  0.00           C  \nATOM     38  O   ARG     2       8.905 -12.371 -15.715  1.00  0.00           O  \nATOM     39  N   GLN     3       9.446 -10.309 -16.010  1.00  0.00           N  \nATOM     40  H   GLN     3       9.258  -9.539 -16.616  1.00  0.00           H  \nATOM     41  CA  GLN     3      10.180 -10.171 -14.731  1.00  0.00           C  \nATOM     42  HA  GLN     3      10.707 -11.102 -14.645  1.00  0.00           H  \nATOM     43  CB  GLN     3      11.075  -8.919 -14.804  1.00  0.00           C  \nATOM     44  HB2 GLN     3      10.443  -8.082 -14.988  1.00  0.00           H  \nATOM     45  HB3 GLN     3      11.579  -8.782 -13.871  1.00  0.00           H  \nATOM     46  CG  GLN     3      12.134  -9.028 -15.940  1.00  0.00           C  \nATOM     47  HG2 GLN     3      11.563  -8.858 -16.884  1.00  0.00           H  \nATOM     48  HG3 GLN     3      12.794  -8.116 -15.789  1.00  0.00           H  \nATOM     49  CD  GLN     3      12.925 -10.310 -15.887  1.00  0.00           C  \nATOM     50  OE1 GLN     3      13.563 -10.574 -14.878  1.00  0.00           O  \nATOM     51  NE2 GLN     3      13.001 -11.128 -16.916  1.00  0.00           N  \nATOM     52 HE21 GLN     3      12.587 -10.886 -17.804  1.00  0.00           H  \nATOM     53 HE22 GLN     3      13.531 -11.990 -16.861  1.00  0.00           H  \nATOM     54  C   GLN     3       9.203 -10.092 -13.498  1.00  0.00           C  \nATOM     55  O   GLN     3       8.232  -9.360 -13.557  1.00  0.00           O  \nATOM     56  N   THR     4       9.507 -10.792 -12.431  1.00  0.00           N  \nATOM     57  H   THR     4      10.251 -11.470 -12.563  1.00  0.00           H  \nATOM     58  CA  THR     4       8.663 -10.637 -11.156  1.00  0.00           C  \nATOM     59  HA  THR     4       8.887 -11.515 -10.547  1.00  0.00           H  \nATOM     60  CB  THR     4       9.053  -9.400 -10.298  1.00  0.00           C  \nATOM     61  HB  THR     4       8.332  -9.229  -9.469  1.00  0.00           H  \nATOM     62  CG2 THR     4      10.446  -9.630  -9.690  1.00  0.00           C  \nATOM     63 HG21 THR     4      10.679  -8.706  -9.112  1.00  0.00           H  \nATOM     64 HG22 THR     4      10.297 -10.485  -9.081  1.00  0.00           H  \nATOM     65 HG23 THR     4      11.176  -9.697 -10.559  1.00  0.00           H  \nATOM     66  OG1 THR     4       8.994  -8.179 -10.971  1.00  0.00           O  \nATOM     67  HG1 THR     4       8.661  -8.380 -11.873  1.00  0.00           H  \nATOM     68  C   THR     4       7.136 -10.838 -11.390  1.00  0.00           C  \nATOM     69  O   THR     4       6.336 -10.112 -10.840  1.00  0.00           O  \nATOM     70  N   ALA     5       6.819 -11.692 -12.365  1.00  0.00           N  \nATOM     71  H   ALA     5       7.505 -12.191 -12.859  1.00  0.00           H  \nATOM     72  CA  ALA     5       5.417 -12.043 -12.618  1.00  0.00           C  \nATOM     73  HA  ALA     5       4.888 -11.128 -12.983  1.00  0.00           H  \nATOM     74  CB  ALA     5       5.430 -13.114 -13.788  1.00  0.00           C  \nATOM     75  HB1 ALA     5       4.436 -13.393 -14.149  1.00  0.00           H  \nATOM     76  HB2 ALA     5       5.921 -12.807 -14.713  1.00  0.00           H  \nATOM     77  HB3 ALA     5       5.955 -14.033 -13.452  1.00  0.00           H  \nATOM     78  C   ALA     5       4.722 -12.584 -11.358  1.00  0.00           C  \nATOM     79  O   ALA     5       5.352 -13.391 -10.705  1.00  0.00           O  \nATOM     80  N   GLN     6       3.458 -12.282 -11.125  1.00  0.00           N  \nATOM     81  H   GLN     6       3.054 -11.663 -11.811  1.00  0.00           H  \nATOM     82  CA  GLN     6       2.629 -12.452  -9.890  1.00  0.00           C  \nATOM     83  HA  GLN     6       1.703 -11.840 -10.022  1.00  0.00           H  \nATOM     84  CB  GLN     6       2.183 -13.897  -9.660  1.00  0.00           C  \nATOM     85  HB2 GLN     6       3.068 -14.550  -9.576  1.00  0.00           H  \nATOM     86  HB3 GLN     6       1.683 -14.076  -8.764  1.00  0.00           H  \nATOM     87  CG  GLN     6       1.206 -14.442 -10.791  1.00  0.00           C  \nATOM     88  HG2 GLN     6       0.136 -14.039 -10.634  1.00  0.00           H  \nATOM     89  HG3 GLN     6       1.522 -14.278 -11.820  1.00  0.00           H  \nATOM     90  CD  GLN     6       1.083 -15.981 -10.799  1.00  0.00           C  \nATOM     91  OE1 GLN     6       1.998 -16.659 -10.383  1.00  0.00           O  \nATOM     92  NE2 GLN     6       0.172 -16.629 -11.537  1.00  0.00           N  \nATOM     93 HE21 GLN     6      -0.475 -16.038 -12.044  1.00  0.00           H  \nATOM     94 HE22 GLN     6       0.101 -17.640 -11.508  1.00  0.00           H  \nATOM     95  C   GLN     6       3.194 -11.842  -8.594  1.00  0.00           C  \nATOM     96  O   GLN     6       2.481 -10.934  -8.073  1.00  0.00           O  \nATOM     97  N   ALA     7       4.518 -11.979  -8.360  1.00  0.00           N  \nATOM     98  H   ALA     7       4.972 -12.684  -9.008  1.00  0.00           H  \nATOM     99  CA  ALA     7       5.184 -11.344  -7.229  1.00  0.00           C  \nATOM    100  HA  ALA     7       4.678 -11.606  -6.284  1.00  0.00           H  \nATOM    101  CB  ALA     7       6.580 -11.964  -7.228  1.00  0.00           C  \nATOM    102  HB1 ALA     7       6.506 -13.047  -7.191  1.00  0.00           H  \nATOM    103  HB2 ALA     7       7.098 -11.655  -8.088  1.00  0.00           H  \nATOM    104  HB3 ALA     7       7.106 -11.592  -6.269  1.00  0.00           H  \nATOM    105  C   ALA     7       5.320  -9.810  -7.190  1.00  0.00           C  \nATOM    106  O   ALA     7       5.314  -9.237  -6.118  1.00  0.00           O  \nATOM    107  N   ALA     8       5.110  -9.086  -8.307  1.00  0.00           N  \nATOM    108  H   ALA     8       5.265  -9.558  -9.192  1.00  0.00           H  \nATOM    109  CA  ALA     8       4.903  -7.668  -8.400  1.00  0.00           C  \nATOM    110  HA  ALA     8       5.473  -7.297  -7.526  1.00  0.00           H  \nATOM    111  CB  ALA     8       5.595  -7.211  -9.648  1.00  0.00           C  \nATOM    112  HB1 ALA     8       5.245  -7.797 -10.486  1.00  0.00           H  \nATOM    113  HB2 ALA     8       5.429  -6.189  -9.802  1.00  0.00           H  \nATOM    114  HB3 ALA     8       6.656  -7.372  -9.532  1.00  0.00           H  \nATOM    115  C   ALA     8       3.422  -7.143  -8.306  1.00  0.00           C  \nATOM    116  O   ALA     8       3.147  -5.950  -8.449  1.00  0.00           O  \nATOM    117  N   GLY     9       2.453  -7.977  -8.010  1.00  0.00           N  \nATOM    118  H   GLY     9       2.692  -8.962  -7.912  1.00  0.00           H  \nATOM    119  CA  GLY     9       0.957  -7.655  -7.915  1.00  0.00           C  \nATOM    120  HA2 GLY     9       0.922  -6.679  -7.550  1.00  0.00           H  \nATOM    121  HA3 GLY     9       0.486  -7.510  -8.844  1.00  0.00           H  \nATOM    122  C   GLY     9      -0.005  -8.571  -7.157  1.00  0.00           C  \nATOM    123  O   GLY     9      -0.192  -8.313  -5.996  1.00  0.00           O  \nATOM    124  N   THR    10      -0.447  -9.728  -7.688  1.00  0.00           N  \nATOM    125  H   THR    10      -0.142 -10.060  -8.564  1.00  0.00           H  \nATOM    126  CA  THR    10      -1.488 -10.580  -7.020  1.00  0.00           C  \nATOM    127  HA  THR    10      -2.391 -10.064  -6.857  1.00  0.00           H  \nATOM    128  CB  THR    10      -1.816 -11.774  -7.973  1.00  0.00           C  \nATOM    129  HB  THR    10      -2.438 -12.571  -7.380  1.00  0.00           H  \nATOM    130  CG2 THR    10      -2.627 -11.506  -9.270  1.00  0.00           C  \nATOM    131 HG21 THR    10      -1.919 -11.358 -10.039  1.00  0.00           H  \nATOM    132 HG22 THR    10      -3.198 -12.376  -9.514  1.00  0.00           H  \nATOM    133 HG23 THR    10      -3.225 -10.630  -9.215  1.00  0.00           H  \nATOM    134  OG1 THR    10      -0.637 -12.405  -8.340  1.00  0.00           O  \nATOM    135  HG1 THR    10      -0.875 -13.269  -8.690  1.00  0.00           H  \nATOM    136  C   THR    10      -0.975 -11.249  -5.740  1.00  0.00           C  \nATOM    137  O   THR    10      -1.858 -11.486  -4.850  1.00  0.00           O  \nATOM    138  N   ASP    11       0.285 -11.463  -5.453  1.00  0.00           N  \nATOM    139  H   ASP    11       0.978 -11.394  -6.223  1.00  0.00           H  \nATOM    140  CA  ASP    11       0.858 -11.897  -4.121  1.00  0.00           C  \nATOM    141  HA  ASP    11       0.623 -12.910  -3.741  1.00  0.00           H  \nATOM    142  CB  ASP    11       2.368 -11.988  -4.356  1.00  0.00           C  \nATOM    143  HB2 ASP    11       2.642 -12.696  -5.204  1.00  0.00           H  \nATOM    144  HB3 ASP    11       2.710 -11.011  -4.690  1.00  0.00           H  \nATOM    145  CG  ASP    11       3.138 -12.326  -3.059  1.00  0.00           C  \nATOM    146  OD1 ASP    11       2.879 -13.430  -2.516  1.00  0.00           O  \nATOM    147  OD2 ASP    11       4.189 -11.698  -2.908  1.00  0.00           O  \nATOM    148  C   ASP    11       0.562 -10.860  -2.980  1.00  0.00           C  \nATOM    149  O   ASP    11       0.788 -11.174  -1.822  1.00  0.00           O  \nATOM    150  N   THR    12       0.172  -9.578  -3.232  1.00  0.00           N  \nATOM    151  H   THR    12      -0.045  -9.380  -4.204  1.00  0.00           H  \nATOM    152  CA  THR    12      -0.091  -8.394  -2.265  1.00  0.00           C  \nATOM    153  HA  THR    12      -0.335  -8.817  -1.287  1.00  0.00           H  \nATOM    154  CB  THR    12       1.170  -7.457  -2.234  1.00  0.00           C  \nATOM    155  HB  THR    12       0.944  -6.698  -1.503  1.00  0.00           H  \nATOM    156  CG2 THR    12       2.413  -8.145  -1.807  1.00  0.00           C  \nATOM    157 HG21 THR    12       2.301  -8.450  -0.746  1.00  0.00           H  \nATOM    158 HG22 THR    12       2.549  -8.980  -2.443  1.00  0.00           H  \nATOM    159 HG23 THR    12       3.318  -7.621  -2.011  1.00  0.00           H  \nATOM    160  OG1 THR    12       1.413  -6.870  -3.522  1.00  0.00           O  \nATOM    161  HG1 THR    12       0.540  -6.419  -3.754  1.00  0.00           H  \nATOM    162  C   THR    12      -1.430  -7.692  -2.696  1.00  0.00           C  \nATOM    163  O   THR    12      -1.392  -6.557  -3.271  1.00  0.00           O  \nATOM    164  N   THR    13      -2.548  -8.318  -2.332  1.00  0.00           N  \nATOM    165  H   THR    13      -2.544  -9.147  -1.730  1.00  0.00           H  \nATOM    166  CA  THR    13      -3.893  -7.712  -2.388  1.00  0.00           C  \nATOM    167  HA  THR    13      -4.126  -7.314  -3.322  1.00  0.00           H  \nATOM    168  CB  THR    13      -4.924  -8.853  -2.283  1.00  0.00           C  \nATOM    169  HB  THR    13      -4.758  -9.278  -1.332  1.00  0.00           H  \nATOM    170  CG2 THR    13      -6.414  -8.362  -2.302  1.00  0.00           C  \nATOM    171 HG21 THR    13      -6.636  -7.945  -1.310  1.00  0.00           H  \nATOM    172 HG22 THR    13      -6.566  -7.625  -3.147  1.00  0.00           H  \nATOM    173 HG23 THR    13      -7.059  -9.202  -2.423  1.00  0.00           H  \nATOM    174  OG1 THR    13      -4.853  -9.894  -3.258  1.00  0.00           O  \nATOM    175  HG1 THR    13      -5.068  -9.651  -4.156  1.00  0.00           H  \nATOM    176  C   THR    13      -4.169  -6.604  -1.350  1.00  0.00           C  \nATOM    177  O   THR    13      -3.801  -6.821  -0.152  1.00  0.00           O  \nATOM    178  N   ILE    14      -4.723  -5.499  -1.805  1.00  0.00           N  \nATOM    179  H   ILE    14      -4.943  -5.413  -2.820  1.00  0.00           H  \nATOM    180  CA  ILE    14      -4.768  -4.257  -1.030  1.00  0.00           C  \nATOM    181  HA  ILE    14      -3.709  -4.267  -0.601  1.00  0.00           H  \nATOM    182  CB  ILE    14      -4.977  -2.942  -1.927  1.00  0.00           C  \nATOM    183  HB  ILE    14      -6.014  -2.913  -2.339  1.00  0.00           H  \nATOM    184  CG2 ILE    14      -4.590  -1.762  -0.962  1.00  0.00           C  \nATOM    185 HG21 ILE    14      -4.661  -0.870  -1.601  1.00  0.00           H  \nATOM    186 HG22 ILE    14      -5.329  -1.613  -0.136  1.00  0.00           H  \nATOM    187 HG23 ILE    14      -3.540  -1.790  -0.594  1.00  0.00           H  \nATOM    188  CG1 ILE    14      -4.044  -2.947  -3.086  1.00  0.00           C  \nATOM    189 HG12 ILE    14      -3.085  -3.236  -2.794  1.00  0.00           H  \nATOM    190 HG13 ILE    14      -4.513  -3.632  -3.703  1.00  0.00           H  \nATOM    191  CD1 ILE    14      -3.905  -1.715  -3.902  1.00  0.00           C  \nATOM    192 HD11 ILE    14      -3.177  -1.846  -4.660  1.00  0.00           H  \nATOM    193 HD12 ILE    14      -4.865  -1.526  -4.455  1.00  0.00           H  \nATOM    194 HD13 ILE    14      -3.637  -0.774  -3.408  1.00  0.00           H  \nATOM    195  C   ILE    14      -5.765  -4.251   0.104  1.00  0.00           C  \nATOM    196  O   ILE    14      -6.894  -3.833  -0.043  1.00  0.00           O  \nATOM    197  N   THR    15      -5.482  -4.808   1.292  1.00  0.00           N  \nATOM    198  H   THR    15      -4.586  -5.275   1.343  1.00  0.00           H  \nATOM    199  CA  THR    15      -6.379  -5.055   2.399  1.00  0.00           C  \nATOM    200  HA  THR    15      -7.109  -5.750   2.012  1.00  0.00           H  \nATOM    201  CB  THR    15      -5.636  -5.826   3.511  1.00  0.00           C  \nATOM    202  HB  THR    15      -4.777  -5.261   3.880  1.00  0.00           H  \nATOM    203  CG2 THR    15      -6.499  -6.068   4.779  1.00  0.00           C  \nATOM    204 HG21 THR    15      -7.295  -6.797   4.723  1.00  0.00           H  \nATOM    205 HG22 THR    15      -5.854  -6.481   5.553  1.00  0.00           H  \nATOM    206 HG23 THR    15      -6.965  -5.234   5.235  1.00  0.00           H  \nATOM    207  OG1 THR    15      -5.256  -7.140   3.143  1.00  0.00           O  \nATOM    208  HG1 THR    15      -4.625  -7.480   3.794  1.00  0.00           H  \nATOM    209  C   THR    15      -7.140  -3.891   2.933  1.00  0.00           C  \nATOM    210  O   THR    15      -8.318  -4.043   3.150  1.00  0.00           O  \nATOM    211  N   LEU    16      -6.618  -2.664   2.754  1.00  0.00           N  \nATOM    212  H   LEU    16      -5.592  -2.590   2.535  1.00  0.00           H  \nATOM    213  CA  LEU    16      -7.246  -1.342   3.200  1.00  0.00           C  \nATOM    214  HA  LEU    16      -7.727  -1.463   4.156  1.00  0.00           H  \nATOM    215  CB  LEU    16      -6.110  -0.311   3.411  1.00  0.00           C  \nATOM    216  HB2 LEU    16      -5.474  -0.710   4.266  1.00  0.00           H  \nATOM    217  HB3 LEU    16      -5.471  -0.384   2.610  1.00  0.00           H  \nATOM    218  CG  LEU    16      -6.600   1.154   3.673  1.00  0.00           C  \nATOM    219  HG  LEU    16      -5.672   1.671   4.036  1.00  0.00           H  \nATOM    220  CD1 LEU    16      -7.091   1.917   2.488  1.00  0.00           C  \nATOM    221 HD11 LEU    16      -8.035   1.608   2.242  1.00  0.00           H  \nATOM    222 HD12 LEU    16      -7.044   3.038   2.681  1.00  0.00           H  \nATOM    223 HD13 LEU    16      -6.432   1.708   1.595  1.00  0.00           H  \nATOM    224  CD2 LEU    16      -7.576   1.300   4.840  1.00  0.00           C  \nATOM    225 HD21 LEU    16      -7.367   2.012   5.651  1.00  0.00           H  \nATOM    226 HD22 LEU    16      -8.611   1.507   4.519  1.00  0.00           H  \nATOM    227 HD23 LEU    16      -7.601   0.313   5.356  1.00  0.00           H  \nATOM    228  C   LEU    16      -8.361  -0.915   2.212  1.00  0.00           C  \nATOM    229  O   LEU    16      -9.494  -0.618   2.565  1.00  0.00           O  \nATOM    230  N   ASN    17      -8.159  -1.136   0.905  1.00  0.00           N  \nATOM    231  H   ASN    17      -7.381  -1.757   0.736  1.00  0.00           H  \nATOM    232  CA  ASN    17      -9.131  -0.871  -0.130  1.00  0.00           C  \nATOM    233  HA  ASN    17      -9.616   0.101   0.016  1.00  0.00           H  \nATOM    234  CB  ASN    17      -8.377  -0.998  -1.533  1.00  0.00           C  \nATOM    235  HB2 ASN    17      -7.940  -2.004  -1.665  1.00  0.00           H  \nATOM    236  HB3 ASN    17      -9.211  -0.907  -2.238  1.00  0.00           H  \nATOM    237  CG  ASN    17      -7.363   0.122  -1.852  1.00  0.00           C  \nATOM    238  OD1 ASN    17      -6.709   0.649  -0.981  1.00  0.00           O  \nATOM    239  ND2 ASN    17      -7.057   0.222  -3.157  1.00  0.00           N  \nATOM    240 HD21 ASN    17      -7.781  -0.163  -3.826  1.00  0.00           H  \nATOM    241 HD22 ASN    17      -6.465   0.922  -3.490  1.00  0.00           H  \nATOM    242  C   ASN    17     -10.259  -1.881  -0.006  1.00  0.00           C  \nATOM    243  O   ASN    17     -11.376  -1.444  -0.189  1.00  0.00           O  \nATOM    244  N   VAL    18     -10.067  -3.183   0.295  1.00  0.00           N  \nATOM    245  H   VAL    18      -9.061  -3.537   0.310  1.00  0.00           H  \nATOM    246  CA  VAL    18     -11.265  -3.988   0.310  1.00  0.00           C  \nATOM    247  HA  VAL    18     -11.800  -3.838  -0.629  1.00  0.00           H  \nATOM    248  CB  VAL    18     -10.870  -5.472   0.368  1.00  0.00           C  \nATOM    249  HB  VAL    18     -10.217  -5.595   1.297  1.00  0.00           H  \nATOM    250  CG1 VAL    18     -11.958  -6.553   0.573  1.00  0.00           C  \nATOM    251 HG11 VAL    18     -12.623  -6.479  -0.397  1.00  0.00           H  \nATOM    252 HG12 VAL    18     -11.684  -7.575   0.726  1.00  0.00           H  \nATOM    253 HG13 VAL    18     -12.613  -6.316   1.368  1.00  0.00           H  \nATOM    254  CG2 VAL    18     -10.137  -6.049  -0.811  1.00  0.00           C  \nATOM    255 HG21 VAL    18      -9.126  -5.521  -0.780  1.00  0.00           H  \nATOM    256 HG22 VAL    18      -9.935  -7.132  -0.677  1.00  0.00           H  \nATOM    257 HG23 VAL    18     -10.672  -5.898  -1.794  1.00  0.00           H  \nATOM    258  C   VAL    18     -12.088  -3.706   1.546  1.00  0.00           C  \nATOM    259  O   VAL    18     -13.330  -3.884   1.571  1.00  0.00           O  \nATOM    260  N   LEU    19     -11.517  -3.495   2.715  1.00  0.00           N  \nATOM    261  H   LEU    19     -10.521  -3.548   2.686  1.00  0.00           H  \nATOM    262  CA  LEU    19     -12.172  -2.989   3.934  1.00  0.00           C  \nATOM    263  HA  LEU    19     -12.984  -3.662   4.231  1.00  0.00           H  \nATOM    264  CB  LEU    19     -11.176  -2.774   5.060  1.00  0.00           C  \nATOM    265  HB2 LEU    19     -10.487  -1.993   4.861  1.00  0.00           H  \nATOM    266  HB3 LEU    19     -11.745  -2.290   5.933  1.00  0.00           H  \nATOM    267  CG  LEU    19     -10.519  -4.057   5.621  1.00  0.00           C  \nATOM    268  HG  LEU    19     -10.242  -4.580   4.784  1.00  0.00           H  \nATOM    269  CD1 LEU    19      -9.313  -3.773   6.452  1.00  0.00           C  \nATOM    270 HD11 LEU    19      -9.130  -4.567   7.150  1.00  0.00           H  \nATOM    271 HD12 LEU    19      -8.563  -3.646   5.742  1.00  0.00           H  \nATOM    272 HD13 LEU    19      -9.550  -2.839   7.038  1.00  0.00           H  \nATOM    273  CD2 LEU    19     -11.512  -4.996   6.421  1.00  0.00           C  \nATOM    274 HD21 LEU    19     -11.007  -5.947   6.709  1.00  0.00           H  \nATOM    275 HD22 LEU    19     -11.858  -4.455   7.216  1.00  0.00           H  \nATOM    276 HD23 LEU    19     -12.323  -5.278   5.707  1.00  0.00           H  \nATOM    277  C   LEU    19     -12.979  -1.647   3.664  1.00  0.00           C  \nATOM    278  O   LEU    19     -14.195  -1.588   4.028  1.00  0.00           O  \nATOM    279  N   ALA    20     -12.374  -0.718   2.903  1.00  0.00           N  \nATOM    280  H   ALA    20     -11.434  -0.855   2.564  1.00  0.00           H  \nATOM    281  CA  ALA    20     -13.223   0.359   2.420  1.00  0.00           C  \nATOM    282  HA  ALA    20     -13.644   0.950   3.222  1.00  0.00           H  \nATOM    283  CB  ALA    20     -12.327   1.287   1.559  1.00  0.00           C  \nATOM    284  HB1 ALA    20     -12.897   2.161   1.265  1.00  0.00           H  \nATOM    285  HB2 ALA    20     -11.420   1.588   2.078  1.00  0.00           H  \nATOM    286  HB3 ALA    20     -12.070   0.828   0.661  1.00  0.00           H  \nATOM    287  C   ALA    20     -14.497  -0.031   1.656  1.00  0.00           C  \nATOM    288  O   ALA    20     -15.490   0.665   1.689  1.00  0.00           O  \nATOM    289  N   TRP    21     -14.319  -1.009   0.783  1.00  0.00           N  \nATOM    290  H   TRP    21     -13.324  -1.321   0.779  1.00  0.00           H  \nATOM    291  CA  TRP    21     -15.215  -1.498  -0.211  1.00  0.00           C  \nATOM    292  HA  TRP    21     -15.489  -0.603  -0.718  1.00  0.00           H  \nATOM    293  CB  TRP    21     -14.526  -2.406  -1.185  1.00  0.00           C  \nATOM    294  HB2 TRP    21     -13.567  -2.082  -1.491  1.00  0.00           H  \nATOM    295  HB3 TRP    21     -14.283  -3.387  -0.816  1.00  0.00           H  \nATOM    296  CG  TRP    21     -15.277  -2.648  -2.448  1.00  0.00           C  \nATOM    297  CD1 TRP    21     -15.125  -1.909  -3.583  1.00  0.00           C  \nATOM    298  HD1 TRP    21     -14.438  -1.083  -3.681  1.00  0.00           H  \nATOM    299  NE1 TRP    21     -15.893  -2.441  -4.572  1.00  0.00           N  \nATOM    300  HE1 TRP    21     -16.097  -1.985  -5.420  1.00  0.00           H  \nATOM    301  CE2 TRP    21     -16.618  -3.546  -4.105  1.00  0.00           C  \nATOM    302  CZ2 TRP    21     -17.569  -4.384  -4.743  1.00  0.00           C  \nATOM    303  HZ2 TRP    21     -17.930  -4.208  -5.726  1.00  0.00           H  \nATOM    304  CH2 TRP    21     -18.004  -5.533  -4.035  1.00  0.00           C  \nATOM    305  HH2 TRP    21     -18.719  -6.229  -4.505  1.00  0.00           H  \nATOM    306  CZ3 TRP    21     -17.567  -5.721  -2.694  1.00  0.00           C  \nATOM    307  HZ3 TRP    21     -17.763  -6.767  -2.192  1.00  0.00           H  \nATOM    308  CE3 TRP    21     -16.815  -4.759  -1.998  1.00  0.00           C  \nATOM    309  HE3 TRP    21     -16.498  -5.030  -1.031  1.00  0.00           H  \nATOM    310  CD2 TRP    21     -16.246  -3.679  -2.745  1.00  0.00           C  \nATOM    311  C   TRP    21     -16.452  -2.211   0.367  1.00  0.00           C  \nATOM    312  O   TRP    21     -17.579  -2.113  -0.133  1.00  0.00           O  \nATOM    313  N   LEU    22     -16.163  -2.852   1.495  1.00  0.00           N  \nATOM    314  H   LEU    22     -15.206  -3.003   1.716  1.00  0.00           H  \nATOM    315  CA  LEU    22     -17.117  -3.523   2.358  1.00  0.00           C  \nATOM    316  HA  LEU    22     -17.820  -4.041   1.719  1.00  0.00           H  \nATOM    317  CB  LEU    22     -16.374  -4.554   3.229  1.00  0.00           C  \nATOM    318  HB2 LEU    22     -15.510  -4.125   3.785  1.00  0.00           H  \nATOM    319  HB3 LEU    22     -17.106  -4.840   4.034  1.00  0.00           H  \nATOM    320  CG  LEU    22     -15.974  -5.839   2.578  1.00  0.00           C  \nATOM    321  HG  LEU    22     -15.485  -5.631   1.619  1.00  0.00           H  \nATOM    322  CD1 LEU    22     -14.988  -6.492   3.478  1.00  0.00           C  \nATOM    323 HD11 LEU    22     -14.827  -7.475   3.067  1.00  0.00           H  \nATOM    324 HD12 LEU    22     -13.996  -5.946   3.450  1.00  0.00           H  \nATOM    325 HD13 LEU    22     -15.304  -6.491   4.471  1.00  0.00           H  \nATOM    326  CD2 LEU    22     -17.130  -6.789   2.351  1.00  0.00           C  \nATOM    327 HD21 LEU    22     -17.622  -7.142   3.275  1.00  0.00           H  \nATOM    328 HD22 LEU    22     -17.883  -6.421   1.756  1.00  0.00           H  \nATOM    329 HD23 LEU    22     -16.783  -7.624   1.725  1.00  0.00           H  \nATOM    330  C   LEU    22     -17.901  -2.503   3.218  1.00  0.00           C  \nATOM    331  O   LEU    22     -19.116  -2.593   3.233  1.00  0.00           O  \nATOM    332  N   TYR    23     -17.294  -1.349   3.585  1.00  0.00           N  \nATOM    333  H   TYR    23     -16.278  -1.292   3.372  1.00  0.00           H  \nATOM    334  CA  TYR    23     -18.073  -0.218   4.092  1.00  0.00           C  \nATOM    335  HA  TYR    23     -18.764  -0.619   4.803  1.00  0.00           H  \nATOM    336  CB  TYR    23     -17.235   0.898   4.819  1.00  0.00           C  \nATOM    337  HB2 TYR    23     -16.359   1.248   4.263  1.00  0.00           H  \nATOM    338  HB3 TYR    23     -17.846   1.779   4.828  1.00  0.00           H  \nATOM    339  CG  TYR    23     -16.834   0.661   6.285  1.00  0.00           C  \nATOM    340  CD1 TYR    23     -17.801   0.868   7.334  1.00  0.00           C  \nATOM    341  HD1 TYR    23     -18.851   1.013   7.082  1.00  0.00           H  \nATOM    342  CE1 TYR    23     -17.458   0.616   8.651  1.00  0.00           C  \nATOM    343  HE1 TYR    23     -18.266   0.559   9.435  1.00  0.00           H  \nATOM    344  CZ  TYR    23     -16.149   0.414   8.957  1.00  0.00           C  \nATOM    345  OH  TYR    23     -15.913   0.197  10.265  1.00  0.00           O  \nATOM    346  HH  TYR    23     -16.597   0.300  10.934  1.00  0.00           H  \nATOM    347  CE2 TYR    23     -15.117   0.313   7.993  1.00  0.00           C  \nATOM    348  HE2 TYR    23     -14.007   0.319   8.275  1.00  0.00           H  \nATOM    349  CD2 TYR    23     -15.480   0.438   6.670  1.00  0.00           C  \nATOM    350  HD2 TYR    23     -14.742   0.322   5.902  1.00  0.00           H  \nATOM    351  C   TYR    23     -18.988   0.379   3.042  1.00  0.00           C  \nATOM    352  O   TYR    23     -20.143   0.451   3.249  1.00  0.00           O  \nATOM    353  N   ALA    24     -18.370   0.663   1.902  1.00  0.00           N  \nATOM    354  H   ALA    24     -17.396   0.499   1.796  1.00  0.00           H  \nATOM    355  CA  ALA    24     -19.089   1.020   0.690  1.00  0.00           C  \nATOM    356  HA  ALA    24     -19.628   1.966   0.765  1.00  0.00           H  \nATOM    357  CB  ALA    24     -17.998   1.314  -0.409  1.00  0.00           C  \nATOM    358  HB1 ALA    24     -18.513   1.174  -1.405  1.00  0.00           H  \nATOM    359  HB2 ALA    24     -17.567   2.287  -0.241  1.00  0.00           H  \nATOM    360  HB3 ALA    24     -17.219   0.550  -0.343  1.00  0.00           H  \nATOM    361  C   ALA    24     -20.250   0.058   0.206  1.00  0.00           C  \nATOM    362  O   ALA    24     -21.334   0.557  -0.102  1.00  0.00           O  \nATOM    363  N   ALA    25     -20.260  -1.248   0.578  1.00  0.00           N  \nATOM    364  H   ALA    25     -19.356  -1.758   0.809  1.00  0.00           H  \nATOM    365  CA  ALA    25     -21.359  -2.231   0.444  1.00  0.00           C  \nATOM    366  HA  ALA    25     -21.893  -2.048  -0.509  1.00  0.00           H  \nATOM    367  CB  ALA    25     -20.773  -3.637   0.428  1.00  0.00           C  \nATOM    368  HB1 ALA    25     -21.548  -4.488   0.301  1.00  0.00           H  \nATOM    369  HB2 ALA    25     -20.012  -3.931  -0.265  1.00  0.00           H  \nATOM    370  HB3 ALA    25     -20.321  -3.789   1.398  1.00  0.00           H  \nATOM    371  C   ALA    25     -22.394  -2.019   1.529  1.00  0.00           C  \nATOM    372  O   ALA    25     -23.511  -1.755   1.117  1.00  0.00           O  \nATOM    373  N   VAL    26     -22.053  -1.771   2.756  1.00  0.00           N  \nATOM    374  H   VAL    26     -21.108  -1.983   3.109  1.00  0.00           H  \nATOM    375  CA  VAL    26     -22.947  -1.553   3.841  1.00  0.00           C  \nATOM    376  HA  VAL    26     -23.688  -2.340   3.852  1.00  0.00           H  \nATOM    377  CB  VAL    26     -22.287  -1.587   5.209  1.00  0.00           C  \nATOM    378  HB  VAL    26     -21.541  -0.793   5.119  1.00  0.00           H  \nATOM    379  CG1 VAL    26     -23.209  -1.027   6.328  1.00  0.00           C  \nATOM    380 HG11 VAL    26     -24.127  -1.581   6.382  1.00  0.00           H  \nATOM    381 HG12 VAL    26     -22.682  -1.178   7.264  1.00  0.00           H  \nATOM    382 HG13 VAL    26     -23.410  -0.028   6.186  1.00  0.00           H  \nATOM    383  CG2 VAL    26     -21.674  -2.914   5.712  1.00  0.00           C  \nATOM    384 HG21 VAL    26     -22.489  -3.647   5.808  1.00  0.00           H  \nATOM    385 HG22 VAL    26     -20.996  -3.331   4.938  1.00  0.00           H  \nATOM    386 HG23 VAL    26     -21.123  -2.767   6.617  1.00  0.00           H  \nATOM    387  C   VAL    26     -23.589  -0.123   3.647  1.00  0.00           C  \nATOM    388  O   VAL    26     -24.805   0.011   3.792  1.00  0.00           O  \nATOM    389  N   ILE    27     -22.856   0.929   3.189  1.00  0.00           N  \nATOM    390  H   ILE    27     -21.860   0.729   3.150  1.00  0.00           H  \nATOM    391  CA  ILE    27     -23.430   2.232   2.886  1.00  0.00           C  \nATOM    392  HA  ILE    27     -23.926   2.715   3.736  1.00  0.00           H  \nATOM    393  CB  ILE    27     -22.247   3.074   2.618  1.00  0.00           C  \nATOM    394  HB  ILE    27     -21.469   2.635   2.032  1.00  0.00           H  \nATOM    395  CG2 ILE    27     -22.549   4.370   1.858  1.00  0.00           C  \nATOM    396 HG21 ILE    27     -23.012   4.172   0.933  1.00  0.00           H  \nATOM    397 HG22 ILE    27     -23.129   5.092   2.481  1.00  0.00           H  \nATOM    398 HG23 ILE    27     -21.632   4.951   1.554  1.00  0.00           H  \nATOM    399  CG1 ILE    27     -21.441   3.539   3.861  1.00  0.00           C  \nATOM    400 HG12 ILE    27     -22.107   4.243   4.399  1.00  0.00           H  \nATOM    401 HG13 ILE    27     -21.245   2.687   4.523  1.00  0.00           H  \nATOM    402  CD1 ILE    27     -20.046   4.120   3.652  1.00  0.00           C  \nATOM    403 HD11 ILE    27     -19.641   4.224   4.679  1.00  0.00           H  \nATOM    404 HD12 ILE    27     -19.550   3.406   3.012  1.00  0.00           H  \nATOM    405 HD13 ILE    27     -20.021   5.066   3.171  1.00  0.00           H  \nATOM    406  C   ILE    27     -24.475   2.223   1.720  1.00  0.00           C  \nATOM    407  O   ILE    27     -25.562   2.800   1.856  1.00  0.00           O  \nATOM    408  N   ASN    28     -24.204   1.545   0.601  1.00  0.00           N  \nATOM    409  H   ASN    28     -23.340   1.116   0.384  1.00  0.00           H  \nATOM    410  CA  ASN    28     -25.230   1.361  -0.423  1.00  0.00           C  \nATOM    411  HA  ASN    28     -25.713   2.300  -0.599  1.00  0.00           H  \nATOM    412  CB  ASN    28     -24.574   0.912  -1.758  1.00  0.00           C  \nATOM    413  HB2 ASN    28     -23.867   0.072  -1.587  1.00  0.00           H  \nATOM    414  HB3 ASN    28     -25.420   0.674  -2.365  1.00  0.00           H  \nATOM    415  CG  ASN    28     -23.899   2.028  -2.544  1.00  0.00           C  \nATOM    416  OD1 ASN    28     -24.379   2.600  -3.532  1.00  0.00           O  \nATOM    417  ND2 ASN    28     -22.612   2.305  -2.298  1.00  0.00           N  \nATOM    418 HD21 ASN    28     -22.208   1.610  -1.611  1.00  0.00           H  \nATOM    419 HD22 ASN    28     -22.102   2.984  -2.727  1.00  0.00           H  \nATOM    420  C   ASN    28     -26.311   0.402   0.188  1.00  0.00           C  \nATOM    421  O   ASN    28     -27.403   0.422  -0.365  1.00  0.00           O  \nATOM    422  N   GLY    29     -26.067  -0.349   1.231  1.00  0.00           N  \nATOM    423  H   GLY    29     -25.132  -0.550   1.443  1.00  0.00           H  \nATOM    424  CA  GLY    29     -27.042  -1.031   2.054  1.00  0.00           C  \nATOM    425  HA2 GLY    29     -27.320  -0.407   2.916  1.00  0.00           H  \nATOM    426  HA3 GLY    29     -27.936  -1.294   1.351  1.00  0.00           H  \nATOM    427  C   GLY    29     -26.498  -2.406   2.554  1.00  0.00           C  \nATOM    428  O   GLY    29     -26.523  -2.641   3.772  1.00  0.00           O  \nATOM    429  N   ASP    30     -26.189  -3.227   1.556  1.00  0.00           N  \nATOM    430  H   ASP    30     -25.926  -2.770   0.695  1.00  0.00           H  \nATOM    431  CA  ASP    30     -25.876  -4.691   1.634  1.00  0.00           C  \nATOM    432  HA  ASP    30     -26.812  -5.220   1.898  1.00  0.00           H  \nATOM    433  CB  ASP    30     -25.258  -5.190   0.280  1.00  0.00           C  \nATOM    434  HB2 ASP    30     -24.305  -4.665   0.181  1.00  0.00           H  \nATOM    435  HB3 ASP    30     -25.117  -6.237   0.388  1.00  0.00           H  \nATOM    436  CG  ASP    30     -26.185  -4.903  -0.859  1.00  0.00           C  \nATOM    437  OD1 ASP    30     -27.428  -5.049  -0.719  1.00  0.00           O  \nATOM    438  OD2 ASP    30     -25.804  -4.006  -1.684  1.00  0.00           O  \nATOM    439  C   ASP    30     -24.868  -5.017   2.770  1.00  0.00           C  \nATOM    440  O   ASP    30     -23.749  -4.456   2.845  1.00  0.00           O  \nATOM    441  N   ARG    31     -25.349  -5.845   3.760  1.00  0.00           N  \nATOM    442  H   ARG    31     -26.358  -5.943   3.835  1.00  0.00           H  \nATOM    443  CA  ARG    31     -24.678  -6.170   5.056  1.00  0.00           C  \nATOM    444  HA  ARG    31     -23.573  -6.258   4.981  1.00  0.00           H  \nATOM    445  CB  ARG    31     -24.954  -5.064   6.107  1.00  0.00           C  \nATOM    446  HB2 ARG    31     -24.308  -5.078   7.008  1.00  0.00           H  \nATOM    447  HB3 ARG    31     -24.767  -4.181   5.534  1.00  0.00           H  \nATOM    448  CG  ARG    31     -26.487  -5.054   6.572  1.00  0.00           C  \nATOM    449  HG2 ARG    31     -27.241  -5.252   5.788  1.00  0.00           H  \nATOM    450  HG3 ARG    31     -26.571  -5.839   7.322  1.00  0.00           H  \nATOM    451  CD  ARG    31     -26.714  -3.750   7.350  1.00  0.00           C  \nATOM    452  HD2 ARG    31     -27.795  -3.761   7.602  1.00  0.00           H  \nATOM    453  HD3 ARG    31     -26.097  -3.693   8.199  1.00  0.00           H  \nATOM    454  NE  ARG    31     -26.539  -2.506   6.443  1.00  0.00           N  \nATOM    455  HE  ARG    31     -26.212  -2.744   5.479  1.00  0.00           H  \nATOM    456  CZ  ARG    31     -27.083  -1.297   6.730  1.00  0.00           C  \nATOM    457  NH1 ARG    31     -27.471  -0.968   7.949  1.00  0.00           N  \nATOM    458 HH11 ARG    31     -27.482  -1.687   8.670  1.00  0.00           H  \nATOM    459 HH12 ARG    31     -28.068  -0.182   8.110  1.00  0.00           H  \nATOM    460  NH2 ARG    31     -27.046  -0.383   5.871  1.00  0.00           N  \nATOM    461 HH21 ARG    31     -26.455  -0.560   5.064  1.00  0.00           H  \nATOM    462 HH22 ARG    31     -27.244   0.583   6.210  1.00  0.00           H  \nATOM    463  C   ARG    31     -25.047  -7.526   5.674  1.00  0.00           C  \nATOM    464  O   ARG    31     -24.633  -7.825   6.766  1.00  0.00           O  \nATOM    465  N   TRP    32     -25.545  -8.382   4.852  1.00  0.00           N  \nATOM    466  H   TRP    32     -25.762  -8.083   3.928  1.00  0.00           H  \nATOM    467  CA  TRP    32     -25.655  -9.844   5.196  1.00  0.00           C  \nATOM    468  HA  TRP    32     -26.216  -9.916   6.132  1.00  0.00           H  \nATOM    469  CB  TRP    32     -26.373 -10.517   3.956  1.00  0.00           C  \nATOM    470  HB2 TRP    32     -26.618 -11.606   4.253  1.00  0.00           H  \nATOM    471  HB3 TRP    32     -27.297  -9.907   3.764  1.00  0.00           H  \nATOM    472  CG  TRP    32     -25.599 -10.591   2.636  1.00  0.00           C  \nATOM    473  CD1 TRP    32     -25.707  -9.682   1.707  1.00  0.00           C  \nATOM    474  HD1 TRP    32     -26.353  -8.788   1.772  1.00  0.00           H  \nATOM    475  NE1 TRP    32     -24.899 -10.024   0.626  1.00  0.00           N  \nATOM    476  HE1 TRP    32     -24.852  -9.603  -0.300  1.00  0.00           H  \nATOM    477  CE2 TRP    32     -24.112 -11.117   0.864  1.00  0.00           C  \nATOM    478  CZ2 TRP    32     -23.078 -11.767   0.141  1.00  0.00           C  \nATOM    479  HZ2 TRP    32     -22.754 -11.469  -0.905  1.00  0.00           H  \nATOM    480  CH2 TRP    32     -22.538 -12.930   0.682  1.00  0.00           C  \nATOM    481  HH2 TRP    32     -21.615 -13.339   0.208  1.00  0.00           H  \nATOM    482  CZ3 TRP    32     -23.002 -13.376   1.970  1.00  0.00           C  \nATOM    483  HZ3 TRP    32     -22.437 -14.128   2.448  1.00  0.00           H  \nATOM    484  CE3 TRP    32     -24.036 -12.736   2.698  1.00  0.00           C  \nATOM    485  HE3 TRP    32     -24.448 -13.065   3.622  1.00  0.00           H  \nATOM    486  CD2 TRP    32     -24.623 -11.573   2.179  1.00  0.00           C  \nATOM    487  C   TRP    32     -24.315 -10.680   5.459  1.00  0.00           C  \nATOM    488  O   TRP    32     -24.221 -11.390   6.412  1.00  0.00           O  \nATOM    489  N   PHE    33     -23.196 -10.384   4.844  1.00  0.00           N  \nATOM    490  H   PHE    33     -23.284  -9.837   3.981  1.00  0.00           H  \nATOM    491  CA  PHE    33     -21.815 -10.861   5.152  1.00  0.00           C  \nATOM    492  HA  PHE    33     -21.814 -11.964   5.313  1.00  0.00           H  \nATOM    493  CB  PHE    33     -20.817 -10.698   3.925  1.00  0.00           C  \nATOM    494  HB2 PHE    33     -19.834 -11.167   4.030  1.00  0.00           H  \nATOM    495  HB3 PHE    33     -21.318 -11.225   3.058  1.00  0.00           H  \nATOM    496  CG  PHE    33     -20.768  -9.205   3.489  1.00  0.00           C  \nATOM    497  CD1 PHE    33     -21.672  -8.694   2.569  1.00  0.00           C  \nATOM    498  HD1 PHE    33     -22.363  -9.363   2.065  1.00  0.00           H  \nATOM    499  CE1 PHE    33     -21.762  -7.309   2.255  1.00  0.00           C  \nATOM    500  HE1 PHE    33     -22.503  -6.945   1.495  1.00  0.00           H  \nATOM    501  CZ  PHE    33     -21.098  -6.414   3.041  1.00  0.00           C  \nATOM    502  HZ  PHE    33     -21.314  -5.342   2.935  1.00  0.00           H  \nATOM    503  CE2 PHE    33     -20.203  -6.890   4.031  1.00  0.00           C  \nATOM    504  HE2 PHE    33     -19.709  -6.149   4.665  1.00  0.00           H  \nATOM    505  CD2 PHE    33     -20.012  -8.270   4.256  1.00  0.00           C  \nATOM    506  HD2 PHE    33     -19.312  -8.652   5.052  1.00  0.00           H  \nATOM    507  C   PHE    33     -21.245 -10.290   6.398  1.00  0.00           C  \nATOM    508  O   PHE    33     -20.213 -10.777   6.844  1.00  0.00           O  \nATOM    509  N   LEU    34     -21.849  -9.325   7.027  1.00  0.00           N  \nATOM    510  H   LEU    34     -22.713  -9.048   6.524  1.00  0.00           H  \nATOM    511  CA  LEU    34     -21.296  -8.388   8.048  1.00  0.00           C  \nATOM    512  HA  LEU    34     -20.222  -8.278   7.974  1.00  0.00           H  \nATOM    513  CB  LEU    34     -21.827  -6.935   7.810  1.00  0.00           C  \nATOM    514  HB2 LEU    34     -21.685  -6.662   6.736  1.00  0.00           H  \nATOM    515  HB3 LEU    34     -22.872  -6.935   8.082  1.00  0.00           H  \nATOM    516  CG  LEU    34     -21.123  -5.767   8.461  1.00  0.00           C  \nATOM    517  HG  LEU    34     -21.437  -4.824   8.034  1.00  0.00           H  \nATOM    518  CD1 LEU    34     -21.394  -5.619  10.001  1.00  0.00           C  \nATOM    519 HD11 LEU    34     -20.919  -6.420  10.533  1.00  0.00           H  \nATOM    520 HD12 LEU    34     -20.859  -4.751  10.435  1.00  0.00           H  \nATOM    521 HD13 LEU    34     -22.459  -5.623  10.254  1.00  0.00           H  \nATOM    522  CD2 LEU    34     -19.556  -5.818   8.287  1.00  0.00           C  \nATOM    523 HD21 LEU    34     -19.131  -6.644   8.730  1.00  0.00           H  \nATOM    524 HD22 LEU    34     -19.331  -5.736   7.243  1.00  0.00           H  \nATOM    525 HD23 LEU    34     -19.184  -4.890   8.717  1.00  0.00           H  \nATOM    526  C   LEU    34     -21.565  -8.971   9.473  1.00  0.00           C  \nATOM    527  O   LEU    34     -22.588  -8.660  10.127  1.00  0.00           O  \nATOM    528  N   ASN    35     -20.824  -9.959   9.902  1.00  0.00           N  \nATOM    529  H   ASN    35     -20.114 -10.176   9.205  1.00  0.00           H  \nATOM    530  CA  ASN    35     -20.801 -10.448  11.327  1.00  0.00           C  \nATOM    531  HA  ASN    35     -21.823 -10.643  11.660  1.00  0.00           H  \nATOM    532  CB  ASN    35     -20.045 -11.790  11.378  1.00  0.00           C  \nATOM    533  HB2 ASN    35     -20.349 -12.328  12.271  1.00  0.00           H  \nATOM    534  HB3 ASN    35     -20.359 -12.393  10.490  1.00  0.00           H  \nATOM    535  CG  ASN    35     -18.525 -11.780  11.415  1.00  0.00           C  \nATOM    536  OD1 ASN    35     -17.937 -11.323  12.338  1.00  0.00           O  \nATOM    537  ND2 ASN    35     -17.812 -12.219  10.428  1.00  0.00           N  \nATOM    538 HD21 ASN    35     -18.204 -12.785   9.695  1.00  0.00           H  \nATOM    539 HD22 ASN    35     -16.803 -12.306  10.543  1.00  0.00           H  \nATOM    540  C   ASN    35     -20.182  -9.474  12.327  1.00  0.00           C  \nATOM    541  O   ASN    35     -19.670  -8.423  11.946  1.00  0.00           O  \nATOM    542  N   ARG    36     -20.239  -9.706  13.633  1.00  0.00           N  \nATOM    543  H   ARG    36     -20.825 -10.485  13.891  1.00  0.00           H  \nATOM    544  CA  ARG    36     -19.656  -8.931  14.737  1.00  0.00           C  \nATOM    545  HA  ARG    36     -19.062  -8.159  14.227  1.00  0.00           H  \nATOM    546  CB  ARG    36     -20.767  -8.097  15.511  1.00  0.00           C  \nATOM    547  HB2 ARG    36     -21.532  -8.727  15.866  1.00  0.00           H  \nATOM    548  HB3 ARG    36     -20.239  -7.675  16.333  1.00  0.00           H  \nATOM    549  CG  ARG    36     -21.224  -6.949  14.618  1.00  0.00           C  \nATOM    550  HG2 ARG    36     -20.436  -6.544  14.037  1.00  0.00           H  \nATOM    551  HG3 ARG    36     -21.927  -7.371  13.852  1.00  0.00           H  \nATOM    552  CD  ARG    36     -21.920  -5.744  15.282  1.00  0.00           C  \nATOM    553  HD2 ARG    36     -21.190  -5.321  15.976  1.00  0.00           H  \nATOM    554  HD3 ARG    36     -22.077  -5.004  14.502  1.00  0.00           H  \nATOM    555  NE  ARG    36     -23.179  -6.028  15.935  1.00  0.00           N  \nATOM    556  HE  ARG    36     -23.748  -6.561  15.359  1.00  0.00           H  \nATOM    557  CZ  ARG    36     -23.658  -5.522  17.070  1.00  0.00           C  \nATOM    558  NH1 ARG    36     -22.849  -4.868  17.840  1.00  0.00           N  \nATOM    559 HH11 ARG    36     -21.905  -4.655  17.546  1.00  0.00           H  \nATOM    560 HH12 ARG    36     -23.137  -4.709  18.823  1.00  0.00           H  \nATOM    561  NH2 ARG    36     -24.902  -5.570  17.443  1.00  0.00           N  \nATOM    562 HH21 ARG    36     -25.579  -6.112  16.949  1.00  0.00           H  \nATOM    563 HH22 ARG    36     -25.087  -5.152  18.328  1.00  0.00           H  \nATOM    564  C   ARG    36     -18.663  -9.655  15.652  1.00  0.00           C  \nATOM    565  O   ARG    36     -18.625  -9.397  16.806  1.00  0.00           O  \nATOM    566  N   PHE    37     -18.074 -10.722  15.103  1.00  0.00           N  \nATOM    567  H   PHE    37     -18.021 -10.739  14.038  1.00  0.00           H  \nATOM    568  CA  PHE    37     -17.354 -11.800  15.907  1.00  0.00           C  \nATOM    569  HA  PHE    37     -17.969 -12.300  16.640  1.00  0.00           H  \nATOM    570  CB  PHE    37     -16.915 -12.909  14.946  1.00  0.00           C  \nATOM    571  HB2 PHE    37     -16.222 -12.545  14.179  1.00  0.00           H  \nATOM    572  HB3 PHE    37     -16.258 -13.535  15.506  1.00  0.00           H  \nATOM    573  CG  PHE    37     -18.025 -13.822  14.287  1.00  0.00           C  \nATOM    574  CD1 PHE    37     -19.322 -13.895  14.780  1.00  0.00           C  \nATOM    575  HD1 PHE    37     -19.584 -13.490  15.730  1.00  0.00           H  \nATOM    576  CE1 PHE    37     -20.298 -14.621  14.020  1.00  0.00           C  \nATOM    577  HE1 PHE    37     -21.306 -14.735  14.357  1.00  0.00           H  \nATOM    578  CZ  PHE    37     -19.929 -15.186  12.805  1.00  0.00           C  \nATOM    579  HZ  PHE    37     -20.649 -15.728  12.191  1.00  0.00           H  \nATOM    580  CE2 PHE    37     -18.596 -15.039  12.330  1.00  0.00           C  \nATOM    581  HE2 PHE    37     -18.316 -15.461  11.382  1.00  0.00           H  \nATOM    582  CD2 PHE    37     -17.643 -14.377  13.093  1.00  0.00           C  \nATOM    583  HD2 PHE    37     -16.700 -14.243  12.708  1.00  0.00           H  \nATOM    584  C   PHE    37     -16.072 -11.262  16.650  1.00  0.00           C  \nATOM    585  O   PHE    37     -15.471 -11.970  17.481  1.00  0.00           O  \nATOM    586  N   THR    38     -15.659 -10.000  16.326  1.00  0.00           N  \nATOM    587  H   THR    38     -16.373  -9.456  15.809  1.00  0.00           H  \nATOM    588  CA  THR    38     -14.426  -9.317  16.665  1.00  0.00           C  \nATOM    589  HA  THR    38     -14.396  -8.448  16.123  1.00  0.00           H  \nATOM    590  CB  THR    38     -14.418  -8.977  18.139  1.00  0.00           C  \nATOM    591  HB  THR    38     -13.562  -8.222  18.387  1.00  0.00           H  \nATOM    592  CG2 THR    38     -15.663  -8.398  18.754  1.00  0.00           C  \nATOM    593 HG21 THR    38     -15.367  -8.097  19.757  1.00  0.00           H  \nATOM    594 HG22 THR    38     -16.008  -7.546  18.166  1.00  0.00           H  \nATOM    595 HG23 THR    38     -16.515  -9.080  18.857  1.00  0.00           H  \nATOM    596  OG1 THR    38     -14.197 -10.143  18.926  1.00  0.00           O  \nATOM    597  HG1 THR    38     -14.832 -10.837  18.682  1.00  0.00           H  \nATOM    598  C   THR    38     -13.097 -10.122  16.349  1.00  0.00           C  \nATOM    599  O   THR    38     -13.094 -11.255  15.764  1.00  0.00           O  \nATOM    600  N   THR    39     -11.990  -9.392  16.341  1.00  0.00           N  \nATOM    601  H   THR    39     -12.020  -8.501  16.942  1.00  0.00           H  \nATOM    602  CA  THR    39     -10.710 -10.061  15.969  1.00  0.00           C  \nATOM    603  HA  THR    39     -10.660 -11.029  16.482  1.00  0.00           H  \nATOM    604  CB  THR    39     -10.613 -10.315  14.460  1.00  0.00           C  \nATOM    605  HB  THR    39     -11.615 -10.666  14.150  1.00  0.00           H  \nATOM    606  CG2 THR    39     -10.271  -9.123  13.571  1.00  0.00           C  \nATOM    607 HG21 THR    39     -10.190  -9.533  12.567  1.00  0.00           H  \nATOM    608 HG22 THR    39     -11.074  -8.387  13.653  1.00  0.00           H  \nATOM    609 HG23 THR    39      -9.423  -8.559  13.853  1.00  0.00           H  \nATOM    610  OG1 THR    39      -9.585 -11.228  14.097  1.00  0.00           O  \nATOM    611  HG1 THR    39      -8.733 -10.797  14.001  1.00  0.00           H  \nATOM    612  C   THR    39      -9.540  -9.313  16.481  1.00  0.00           C  \nATOM    613  O   THR    39      -9.636  -8.177  16.747  1.00  0.00           O  \nATOM    614  N   THR    40      -8.433 -10.064  16.688  1.00  0.00           N  \nATOM    615  H   THR    40      -8.350 -11.045  16.460  1.00  0.00           H  \nATOM    616  CA  THR    40      -7.106  -9.412  16.986  1.00  0.00           C  \nATOM    617  HA  THR    40      -7.196  -8.539  17.653  1.00  0.00           H  \nATOM    618  CB  THR    40      -6.204 -10.296  17.784  1.00  0.00           C  \nATOM    619  HB  THR    40      -5.217  -9.896  17.991  1.00  0.00           H  \nATOM    620  CG2 THR    40      -6.703 -10.856  19.100  1.00  0.00           C  \nATOM    621 HG21 THR    40      -6.002 -11.594  19.372  1.00  0.00           H  \nATOM    622 HG22 THR    40      -6.640 -10.082  19.863  1.00  0.00           H  \nATOM    623 HG23 THR    40      -7.697 -11.382  19.083  1.00  0.00           H  \nATOM    624  OG1 THR    40      -5.919 -11.374  16.904  1.00  0.00           O  \nATOM    625  HG1 THR    40      -5.265 -11.989  17.291  1.00  0.00           H  \nATOM    626  C   THR    40      -6.467  -8.936  15.756  1.00  0.00           C  \nATOM    627  O   THR    40      -6.845  -9.364  14.673  1.00  0.00           O  \nATOM    628  N   LEU    41      -5.487  -8.004  15.911  1.00  0.00           N  \nATOM    629  H   LEU    41      -5.322  -7.746  16.860  1.00  0.00           H  \nATOM    630  CA  LEU    41      -4.671  -7.528  14.754  1.00  0.00           C  \nATOM    631  HA  LEU    41      -5.296  -7.390  13.843  1.00  0.00           H  \nATOM    632  CB  LEU    41      -4.124  -6.176  15.220  1.00  0.00           C  \nATOM    633  HB2 LEU    41      -4.948  -5.532  15.424  1.00  0.00           H  \nATOM    634  HB3 LEU    41      -3.545  -6.217  16.107  1.00  0.00           H  \nATOM    635  CG  LEU    41      -3.236  -5.432  14.151  1.00  0.00           C  \nATOM    636  HG  LEU    41      -2.435  -6.065  13.805  1.00  0.00           H  \nATOM    637  CD1 LEU    41      -4.080  -4.939  12.941  1.00  0.00           C  \nATOM    638 HD11 LEU    41      -4.374  -5.836  12.429  1.00  0.00           H  \nATOM    639 HD12 LEU    41      -4.975  -4.494  13.226  1.00  0.00           H  \nATOM    640 HD13 LEU    41      -3.454  -4.263  12.308  1.00  0.00           H  \nATOM    641  CD2 LEU    41      -2.658  -4.125  14.718  1.00  0.00           C  \nATOM    642 HD21 LEU    41      -2.324  -4.234  15.754  1.00  0.00           H  \nATOM    643 HD22 LEU    41      -1.796  -3.771  14.170  1.00  0.00           H  \nATOM    644 HD23 LEU    41      -3.344  -3.276  14.806  1.00  0.00           H  \nATOM    645  C   LEU    41      -3.612  -8.501  14.361  1.00  0.00           C  \nATOM    646  O   LEU    41      -3.525  -8.731  13.146  1.00  0.00           O  \nATOM    647  N   ASN    42      -3.104  -9.310  15.277  1.00  0.00           N  \nATOM    648  H   ASN    42      -3.303  -9.023  16.259  1.00  0.00           H  \nATOM    649  CA  ASN    42      -2.245 -10.410  15.108  1.00  0.00           C  \nATOM    650  HA  ASN    42      -1.358 -10.002  14.486  1.00  0.00           H  \nATOM    651  CB  ASN    42      -1.570 -10.836  16.438  1.00  0.00           C  \nATOM    652  HB2 ASN    42      -1.431 -10.065  17.066  1.00  0.00           H  \nATOM    653  HB3 ASN    42      -2.188 -11.580  16.934  1.00  0.00           H  \nATOM    654  CG  ASN    42      -0.245 -11.636  16.100  1.00  0.00           C  \nATOM    655  OD1 ASN    42      -0.271 -12.811  15.801  1.00  0.00           O  \nATOM    656  ND2 ASN    42       0.813 -10.910  15.913  1.00  0.00           N  \nATOM    657 HD21 ASN    42       0.750  -9.931  15.990  1.00  0.00           H  \nATOM    658 HD22 ASN    42       1.665 -11.376  15.580  1.00  0.00           H  \nATOM    659  C   ASN    42      -2.809 -11.522  14.254  1.00  0.00           C  \nATOM    660  O   ASN    42      -2.250 -11.795  13.204  1.00  0.00           O  \nATOM    661  N   ASP    43      -3.991 -12.084  14.597  1.00  0.00           N  \nATOM    662  H   ASP    43      -4.340 -11.887  15.515  1.00  0.00           H  \nATOM    663  CA  ASP    43      -4.561 -13.288  13.826  1.00  0.00           C  \nATOM    664  HA  ASP    43      -3.788 -14.010  13.642  1.00  0.00           H  \nATOM    665  CB  ASP    43      -5.674 -13.851  14.696  1.00  0.00           C  \nATOM    666  HB2 ASP    43      -5.260 -14.048  15.695  1.00  0.00           H  \nATOM    667  HB3 ASP    43      -6.440 -13.094  14.885  1.00  0.00           H  \nATOM    668  CG  ASP    43      -6.369 -15.093  14.134  1.00  0.00           C  \nATOM    669  OD1 ASP    43      -5.685 -16.099  13.960  1.00  0.00           O  \nATOM    670  OD2 ASP    43      -7.561 -15.007  13.679  1.00  0.00           O  \nATOM    671  C   ASP    43      -5.196 -12.774  12.554  1.00  0.00           C  \nATOM    672  O   ASP    43      -5.106 -13.489  11.557  1.00  0.00           O  \nATOM    673  N   PHE    44      -5.650 -11.464  12.411  1.00  0.00           N  \nATOM    674  H   PHE    44      -5.497 -10.824  13.179  1.00  0.00           H  \nATOM    675  CA  PHE    44      -6.157 -10.903  11.198  1.00  0.00           C  \nATOM    676  HA  PHE    44      -6.906 -11.574  10.856  1.00  0.00           H  \nATOM    677  CB  PHE    44      -6.921  -9.524  11.391  1.00  0.00           C  \nATOM    678  HB2 PHE    44      -7.698  -9.595  12.121  1.00  0.00           H  \nATOM    679  HB3 PHE    44      -6.311  -8.779  11.912  1.00  0.00           H  \nATOM    680  CG  PHE    44      -7.550  -9.028  10.155  1.00  0.00           C  \nATOM    681  CD1 PHE    44      -8.621  -9.770   9.623  1.00  0.00           C  \nATOM    682  HD1 PHE    44      -8.979 -10.631  10.159  1.00  0.00           H  \nATOM    683  CE1 PHE    44      -9.213  -9.280   8.431  1.00  0.00           C  \nATOM    684  HE1 PHE    44     -10.129  -9.804   8.068  1.00  0.00           H  \nATOM    685  CZ  PHE    44      -8.621  -8.162   7.791  1.00  0.00           C  \nATOM    686  HZ  PHE    44      -9.078  -7.782   6.894  1.00  0.00           H  \nATOM    687  CE2 PHE    44      -7.445  -7.504   8.325  1.00  0.00           C  \nATOM    688  HE2 PHE    44      -6.985  -6.606   7.822  1.00  0.00           H  \nATOM    689  CD2 PHE    44      -6.906  -7.926   9.586  1.00  0.00           C  \nATOM    690  HD2 PHE    44      -6.018  -7.519  10.060  1.00  0.00           H  \nATOM    691  C   PHE    44      -5.098 -10.740  10.151  1.00  0.00           C  \nATOM    692  O   PHE    44      -5.300 -11.270   9.017  1.00  0.00           O  \nATOM    693  N   ASN    45      -3.866 -10.397  10.635  1.00  0.00           N  \nATOM    694  H   ASN    45      -3.751 -10.018  11.589  1.00  0.00           H  \nATOM    695  CA  ASN    45      -2.642 -10.244   9.883  1.00  0.00           C  \nATOM    696  HA  ASN    45      -2.734  -9.778   8.927  1.00  0.00           H  \nATOM    697  CB  ASN    45      -1.625  -9.382  10.561  1.00  0.00           C  \nATOM    698  HB2 ASN    45      -1.337  -9.704  11.588  1.00  0.00           H  \nATOM    699  HB3 ASN    45      -0.681  -9.483  10.002  1.00  0.00           H  \nATOM    700  CG  ASN    45      -2.032  -7.936  10.563  1.00  0.00           C  \nATOM    701  OD1 ASN    45      -3.086  -7.560  10.000  1.00  0.00           O  \nATOM    702  ND2 ASN    45      -1.111  -7.075  10.770  1.00  0.00           N  \nATOM    703 HD21 ASN    45      -0.164  -7.289  11.025  1.00  0.00           H  \nATOM    704 HD22 ASN    45      -1.383  -6.092  10.634  1.00  0.00           H  \nATOM    705  C   ASN    45      -2.030 -11.553   9.382  1.00  0.00           C  \nATOM    706  O   ASN    45      -1.674 -11.670   8.252  1.00  0.00           O  \nATOM    707  N   LEU    46      -2.005 -12.623  10.217  1.00  0.00           N  \nATOM    708  H   LEU    46      -2.208 -12.370  11.192  1.00  0.00           H  \nATOM    709  CA  LEU    46      -1.683 -14.026   9.874  1.00  0.00           C  \nATOM    710  HA  LEU    46      -0.646 -14.005   9.444  1.00  0.00           H  \nATOM    711  CB  LEU    46      -1.674 -14.897  11.164  1.00  0.00           C  \nATOM    712  HB2 LEU    46      -2.543 -14.651  11.687  1.00  0.00           H  \nATOM    713  HB3 LEU    46      -1.635 -15.966  10.974  1.00  0.00           H  \nATOM    714  CG  LEU    46      -0.494 -14.511  12.029  1.00  0.00           C  \nATOM    715  HG  LEU    46      -0.627 -13.464  12.240  1.00  0.00           H  \nATOM    716  CD1 LEU    46      -0.562 -15.264  13.390  1.00  0.00           C  \nATOM    717 HD11 LEU    46      -0.385 -16.363  13.162  1.00  0.00           H  \nATOM    718 HD12 LEU    46       0.242 -15.059  14.065  1.00  0.00           H  \nATOM    719 HD13 LEU    46      -1.520 -15.200  13.808  1.00  0.00           H  \nATOM    720  CD2 LEU    46       0.845 -14.867  11.405  1.00  0.00           C  \nATOM    721 HD21 LEU    46       1.591 -14.868  12.157  1.00  0.00           H  \nATOM    722 HD22 LEU    46       0.821 -15.809  10.902  1.00  0.00           H  \nATOM    723 HD23 LEU    46       1.032 -14.120  10.645  1.00  0.00           H  \nATOM    724  C   LEU    46      -2.591 -14.616   8.786  1.00  0.00           C  \nATOM    725  O   LEU    46      -2.106 -15.262   7.872  1.00  0.00           O  \nATOM    726  N   VAL    47      -3.893 -14.391   8.848  1.00  0.00           N  \nATOM    727  H   VAL    47      -4.291 -13.921   9.673  1.00  0.00           H  \nATOM    728  CA  VAL    47      -4.792 -14.892   7.788  1.00  0.00           C  \nATOM    729  HA  VAL    47      -4.442 -15.987   7.595  1.00  0.00           H  \nATOM    730  CB  VAL    47      -6.281 -14.917   8.280  1.00  0.00           C  \nATOM    731  HB  VAL    47      -6.565 -13.963   8.712  1.00  0.00           H  \nATOM    732  CG1 VAL    47      -7.245 -15.344   7.188  1.00  0.00           C  \nATOM    733 HG11 VAL    47      -8.209 -15.214   7.680  1.00  0.00           H  \nATOM    734 HG12 VAL    47      -7.142 -14.721   6.258  1.00  0.00           H  \nATOM    735 HG13 VAL    47      -7.214 -16.446   6.996  1.00  0.00           H  \nATOM    736  CG2 VAL    47      -6.406 -15.946   9.416  1.00  0.00           C  \nATOM    737 HG21 VAL    47      -7.460 -16.141   9.563  1.00  0.00           H  \nATOM    738 HG22 VAL    47      -5.940 -16.952   9.091  1.00  0.00           H  \nATOM    739 HG23 VAL    47      -5.936 -15.647  10.366  1.00  0.00           H  \nATOM    740  C   VAL    47      -4.635 -14.244   6.410  1.00  0.00           C  \nATOM    741  O   VAL    47      -4.415 -14.933   5.395  1.00  0.00           O  \nATOM    742  N   ALA    48      -4.527 -12.902   6.397  1.00  0.00           N  \nATOM    743  H   ALA    48      -4.761 -12.349   7.198  1.00  0.00           H  \nATOM    744  CA  ALA    48      -4.229 -12.106   5.160  1.00  0.00           C  \nATOM    745  HA  ALA    48      -4.987 -12.234   4.384  1.00  0.00           H  \nATOM    746  CB  ALA    48      -4.195 -10.623   5.491  1.00  0.00           C  \nATOM    747  HB1 ALA    48      -5.188 -10.267   5.769  1.00  0.00           H  \nATOM    748  HB2 ALA    48      -3.710 -10.548   6.507  1.00  0.00           H  \nATOM    749  HB3 ALA    48      -3.783  -9.984   4.723  1.00  0.00           H  \nATOM    750  C   ALA    48      -2.877 -12.570   4.521  1.00  0.00           C  \nATOM    751  O   ALA    48      -2.967 -12.974   3.385  1.00  0.00           O  \nATOM    752  N   MET    49      -1.874 -12.736   5.408  1.00  0.00           N  \nATOM    753  H   MET    49      -1.984 -12.409   6.336  1.00  0.00           H  \nATOM    754  CA  MET    49      -0.566 -13.138   4.939  1.00  0.00           C  \nATOM    755  HA  MET    49      -0.240 -12.438   4.148  1.00  0.00           H  \nATOM    756  CB  MET    49       0.489 -12.990   6.097  1.00  0.00           C  \nATOM    757  HB2 MET    49       0.109 -13.358   7.014  1.00  0.00           H  \nATOM    758  HB3 MET    49       1.420 -13.555   5.722  1.00  0.00           H  \nATOM    759  CG  MET    49       0.816 -11.483   6.238  1.00  0.00           C  \nATOM    760  HG2 MET    49       1.127 -11.146   5.310  1.00  0.00           H  \nATOM    761  HG3 MET    49      -0.038 -10.933   6.587  1.00  0.00           H  \nATOM    762  SD  MET    49       2.177 -11.066   7.348  1.00  0.00           S  \nATOM    763  CE  MET    49       1.738 -12.041   8.796  1.00  0.00           C  \nATOM    764  HE1 MET    49       2.449 -11.904   9.604  1.00  0.00           H  \nATOM    765  HE2 MET    49       0.689 -11.684   9.079  1.00  0.00           H  \nATOM    766  HE3 MET    49       1.805 -13.106   8.739  1.00  0.00           H  \nATOM    767  C   MET    49      -0.499 -14.513   4.271  1.00  0.00           C  \nATOM    768  O   MET    49       0.169 -14.633   3.218  1.00  0.00           O  \nATOM    769  N   LYS    50      -1.232 -15.533   4.707  1.00  0.00           N  \nATOM    770  H   LYS    50      -1.738 -15.314   5.530  1.00  0.00           H  \nATOM    771  CA  LYS    50      -1.607 -16.872   4.113  1.00  0.00           C  \nATOM    772  HA  LYS    50      -0.708 -17.469   3.954  1.00  0.00           H  \nATOM    773  CB  LYS    50      -2.453 -17.640   5.106  1.00  0.00           C  \nATOM    774  HB2 LYS    50      -1.884 -17.947   6.017  1.00  0.00           H  \nATOM    775  HB3 LYS    50      -3.338 -17.048   5.284  1.00  0.00           H  \nATOM    776  CG  LYS    50      -3.005 -18.924   4.522  1.00  0.00           C  \nATOM    777  HG2 LYS    50      -3.449 -18.818   3.524  1.00  0.00           H  \nATOM    778  HG3 LYS    50      -2.175 -19.621   4.324  1.00  0.00           H  \nATOM    779  CD  LYS    50      -4.035 -19.556   5.510  1.00  0.00           C  \nATOM    780  HD2 LYS    50      -3.548 -19.917   6.469  1.00  0.00           H  \nATOM    781  HD3 LYS    50      -4.860 -18.887   5.827  1.00  0.00           H  \nATOM    782  CE  LYS    50      -4.669 -20.815   4.866  1.00  0.00           C  \nATOM    783  HE2 LYS    50      -5.468 -21.108   5.539  1.00  0.00           H  \nATOM    784  HE3 LYS    50      -5.187 -20.587   3.942  1.00  0.00           H  \nATOM    785  NZ  LYS    50      -3.645 -21.893   4.664  1.00  0.00           N  \nATOM    786  HZ1 LYS    50      -2.765 -21.635   4.121  1.00  0.00           H  \nATOM    787  HZ2 LYS    50      -3.254 -22.289   5.545  1.00  0.00           H  \nATOM    788  HZ3 LYS    50      -4.120 -22.707   4.281  1.00  0.00           H  \nATOM    789  C   LYS    50      -2.224 -16.668   2.697  1.00  0.00           C  \nATOM    790  O   LYS    50      -1.633 -17.035   1.687  1.00  0.00           O  \nATOM    791  N   TYR    51      -3.333 -15.968   2.635  1.00  0.00           N  \nATOM    792  H   TYR    51      -3.659 -15.634   3.582  1.00  0.00           H  \nATOM    793  CA  TYR    51      -4.068 -15.679   1.398  1.00  0.00           C  \nATOM    794  HA  TYR    51      -4.033 -16.474   0.661  1.00  0.00           H  \nATOM    795  CB  TYR    51      -5.543 -15.495   1.864  1.00  0.00           C  \nATOM    796  HB2 TYR    51      -5.622 -14.773   2.643  1.00  0.00           H  \nATOM    797  HB3 TYR    51      -6.122 -15.219   0.961  1.00  0.00           H  \nATOM    798  CG  TYR    51      -6.190 -16.829   2.346  1.00  0.00           C  \nATOM    799  CD1 TYR    51      -6.425 -17.904   1.474  1.00  0.00           C  \nATOM    800  HD1 TYR    51      -6.313 -17.808   0.435  1.00  0.00           H  \nATOM    801  CE1 TYR    51      -6.872 -19.132   2.040  1.00  0.00           C  \nATOM    802  HE1 TYR    51      -7.066 -19.969   1.388  1.00  0.00           H  \nATOM    803  CZ  TYR    51      -7.216 -19.230   3.385  1.00  0.00           C  \nATOM    804  OH  TYR    51      -7.714 -20.373   3.816  1.00  0.00           O  \nATOM    805  HH  TYR    51      -7.711 -21.101   3.226  1.00  0.00           H  \nATOM    806  CE2 TYR    51      -6.955 -18.152   4.286  1.00  0.00           C  \nATOM    807  HE2 TYR    51      -7.331 -18.284   5.289  1.00  0.00           H  \nATOM    808  CD2 TYR    51      -6.491 -16.971   3.731  1.00  0.00           C  \nATOM    809  HD2 TYR    51      -6.371 -16.172   4.464  1.00  0.00           H  \nATOM    810  C   TYR    51      -3.619 -14.437   0.560  1.00  0.00           C  \nATOM    811  O   TYR    51      -4.435 -13.911  -0.239  1.00  0.00           O  \nATOM    812  N   ASN    52      -2.377 -14.130   0.421  1.00  0.00           N  \nATOM    813  H   ASN    52      -1.729 -14.665   0.971  1.00  0.00           H  \nATOM    814  CA  ASN    52      -1.829 -13.087  -0.503  1.00  0.00           C  \nATOM    815  HA  ASN    52      -0.735 -13.022  -0.336  1.00  0.00           H  \nATOM    816  CB  ASN    52      -1.990 -13.508  -1.947  1.00  0.00           C  \nATOM    817  HB2 ASN    52      -3.022 -13.486  -2.285  1.00  0.00           H  \nATOM    818  HB3 ASN    52      -1.551 -12.688  -2.471  1.00  0.00           H  \nATOM    819  CG  ASN    52      -1.253 -14.749  -2.505  1.00  0.00           C  \nATOM    820  OD1 ASN    52      -0.191 -15.233  -2.100  1.00  0.00           O  \nATOM    821  ND2 ASN    52      -1.892 -15.248  -3.576  1.00  0.00           N  \nATOM    822 HD21 ASN    52      -2.640 -14.755  -4.063  1.00  0.00           H  \nATOM    823 HD22 ASN    52      -1.403 -15.987  -4.098  1.00  0.00           H  \nATOM    824  C   ASN    52      -2.202 -11.596  -0.222  1.00  0.00           C  \nATOM    825  O   ASN    52      -1.842 -10.649  -0.951  1.00  0.00           O  \nATOM    826  N   TYR    53      -3.056 -11.386   0.768  1.00  0.00           N  \nATOM    827  H   TYR    53      -3.121 -12.226   1.407  1.00  0.00           H  \nATOM    828  CA  TYR    53      -3.593 -10.114   1.276  1.00  0.00           C  \nATOM    829  HA  TYR    53      -3.793  -9.503   0.406  1.00  0.00           H  \nATOM    830  CB  TYR    53      -4.951 -10.391   1.940  1.00  0.00           C  \nATOM    831  HB2 TYR    53      -4.851 -11.348   2.513  1.00  0.00           H  \nATOM    832  HB3 TYR    53      -5.231  -9.566   2.704  1.00  0.00           H  \nATOM    833  CG  TYR    53      -6.176 -10.437   0.997  1.00  0.00           C  \nATOM    834  CD1 TYR    53      -6.133 -11.255  -0.138  1.00  0.00           C  \nATOM    835  HD1 TYR    53      -5.206 -11.567  -0.485  1.00  0.00           H  \nATOM    836  CE1 TYR    53      -7.251 -11.539  -0.939  1.00  0.00           C  \nATOM    837  HE1 TYR    53      -7.104 -12.137  -1.845  1.00  0.00           H  \nATOM    838  CZ  TYR    53      -8.540 -11.243  -0.513  1.00  0.00           C  \nATOM    839  OH  TYR    53      -9.571 -11.525  -1.384  1.00  0.00           O  \nATOM    840  HH  TYR    53     -10.369 -11.094  -1.128  1.00  0.00           H  \nATOM    841  CE2 TYR    53      -8.657 -10.294   0.627  1.00  0.00           C  \nATOM    842  HE2 TYR    53      -9.622  -9.896   0.927  1.00  0.00           H  \nATOM    843  CD2 TYR    53      -7.476 -10.075   1.455  1.00  0.00           C  \nATOM    844  HD2 TYR    53      -7.466  -9.476   2.297  1.00  0.00           H  \nATOM    845  C   TYR    53      -2.504  -9.470   2.238  1.00  0.00           C  \nATOM    846  O   TYR    53      -1.846 -10.242   2.962  1.00  0.00           O  \nATOM    847  N   GLU    54      -2.374  -8.155   2.258  1.00  0.00           N  \nATOM    848  H   GLU    54      -2.929  -7.587   1.590  1.00  0.00           H  \nATOM    849  CA  GLU    54      -1.534  -7.453   3.134  1.00  0.00           C  \nATOM    850  HA  GLU    54      -0.600  -7.972   3.109  1.00  0.00           H  \nATOM    851  CB  GLU    54      -1.420  -5.960   2.714  1.00  0.00           C  \nATOM    852  HB2 GLU    54      -2.380  -5.616   2.473  1.00  0.00           H  \nATOM    853  HB3 GLU    54      -0.933  -5.206   3.423  1.00  0.00           H  \nATOM    854  CG  GLU    54      -0.636  -5.881   1.441  1.00  0.00           C  \nATOM    855  HG2 GLU    54      -1.043  -6.592   0.689  1.00  0.00           H  \nATOM    856  HG3 GLU    54      -0.623  -4.901   0.998  1.00  0.00           H  \nATOM    857  CD  GLU    54       0.806  -6.277   1.739  1.00  0.00           C  \nATOM    858  OE1 GLU    54       1.412  -5.524   2.543  1.00  0.00           O  \nATOM    859  OE2 GLU    54       1.297  -7.401   1.489  1.00  0.00           O  \nATOM    860  C   GLU    54      -2.031  -7.508   4.618  1.00  0.00           C  \nATOM    861  O   GLU    54      -3.224  -7.478   4.946  1.00  0.00           O  \nATOM    862  N   PRO    55      -1.088  -7.496   5.579  1.00  0.00           N  \nATOM    863  CD  PRO    55       0.361  -7.812   5.325  1.00  0.00           C  \nATOM    864  HD2 PRO    55       0.794  -7.279   4.453  1.00  0.00           H  \nATOM    865  HD3 PRO    55       0.495  -8.857   5.176  1.00  0.00           H  \nATOM    866  CG  PRO    55       1.106  -7.461   6.610  1.00  0.00           C  \nATOM    867  HG2 PRO    55       1.412  -6.433   6.458  1.00  0.00           H  \nATOM    868  HG3 PRO    55       2.065  -8.023   6.782  1.00  0.00           H  \nATOM    869  CB  PRO    55       0.056  -7.529   7.756  1.00  0.00           C  \nATOM    870  HB2 PRO    55       0.268  -6.867   8.596  1.00  0.00           H  \nATOM    871  HB3 PRO    55      -0.019  -8.592   7.976  1.00  0.00           H  \nATOM    872  CA  PRO    55      -1.339  -7.217   7.047  1.00  0.00           C  \nATOM    873  HA  PRO    55      -2.149  -7.868   7.482  1.00  0.00           H  \nATOM    874  C   PRO    55      -1.754  -5.753   7.310  1.00  0.00           C  \nATOM    875  O   PRO    55      -1.130  -4.860   6.719  1.00  0.00           O  \nATOM    876  N   LEU    56      -2.736  -5.536   8.157  1.00  0.00           N  \nATOM    877  H   LEU    56      -3.143  -6.351   8.573  1.00  0.00           H  \nATOM    878  CA  LEU    56      -3.179  -4.226   8.554  1.00  0.00           C  \nATOM    879  HA  LEU    56      -3.316  -3.546   7.739  1.00  0.00           H  \nATOM    880  CB  LEU    56      -4.550  -4.500   9.190  1.00  0.00           C  \nATOM    881  HB2 LEU    56      -5.149  -5.226   8.632  1.00  0.00           H  \nATOM    882  HB3 LEU    56      -4.382  -4.778  10.152  1.00  0.00           H  \nATOM    883  CG  LEU    56      -5.539  -3.299   9.367  1.00  0.00           C  \nATOM    884  HG  LEU    56      -4.999  -2.453   9.894  1.00  0.00           H  \nATOM    885  CD1 LEU    56      -5.985  -2.722   8.041  1.00  0.00           C  \nATOM    886 HD11 LEU    56      -5.122  -2.399   7.452  1.00  0.00           H  \nATOM    887 HD12 LEU    56      -6.560  -3.376   7.428  1.00  0.00           H  \nATOM    888 HD13 LEU    56      -6.539  -1.805   8.231  1.00  0.00           H  \nATOM    889  CD2 LEU    56      -6.870  -3.601  10.109  1.00  0.00           C  \nATOM    890 HD21 LEU    56      -7.462  -2.785  10.343  1.00  0.00           H  \nATOM    891 HD22 LEU    56      -7.474  -4.185   9.409  1.00  0.00           H  \nATOM    892 HD23 LEU    56      -6.693  -4.300  11.015  1.00  0.00           H  \nATOM    893  C   LEU    56      -2.203  -3.438   9.440  1.00  0.00           C  \nATOM    894  O   LEU    56      -1.536  -4.151  10.253  1.00  0.00           O  \nATOM    895  N   THR    57      -2.183  -2.135   9.355  1.00  0.00           N  \nATOM    896  H   THR    57      -2.578  -1.563   8.582  1.00  0.00           H  \nATOM    897  CA  THR    57      -1.419  -1.339  10.333  1.00  0.00           C  \nATOM    898  HA  THR    57      -0.903  -1.978  11.042  1.00  0.00           H  \nATOM    899  CB  THR    57      -0.286  -0.531   9.702  1.00  0.00           C  \nATOM    900  HB  THR    57       0.355  -0.056  10.524  1.00  0.00           H  \nATOM    901  CG2 THR    57       0.579  -1.257   8.704  1.00  0.00           C  \nATOM    902 HG21 THR    57       1.243  -1.843   9.280  1.00  0.00           H  \nATOM    903 HG22 THR    57       0.119  -1.784   7.943  1.00  0.00           H  \nATOM    904 HG23 THR    57       1.222  -0.512   8.292  1.00  0.00           H  \nATOM    905  OG1 THR    57      -0.884   0.524   8.972  1.00  0.00           O  \nATOM    906  HG1 THR    57      -1.190   0.059   8.226  1.00  0.00           H  \nATOM    907  C   THR    57      -2.430  -0.515  11.149  1.00  0.00           C  \nATOM    908  O   THR    57      -3.604  -0.460  10.764  1.00  0.00           O  \nATOM    909  N   GLN    58      -1.931   0.324  12.089  1.00  0.00           N  \nATOM    910  H   GLN    58      -0.943   0.436  12.206  1.00  0.00           H  \nATOM    911  CA  GLN    58      -2.740   1.230  12.936  1.00  0.00           C  \nATOM    912  HA  GLN    58      -3.663   0.742  13.183  1.00  0.00           H  \nATOM    913  CB  GLN    58      -2.044   1.614  14.223  1.00  0.00           C  \nATOM    914  HB2 GLN    58      -1.797   0.648  14.682  1.00  0.00           H  \nATOM    915  HB3 GLN    58      -1.071   2.186  14.041  1.00  0.00           H  \nATOM    916  CG  GLN    58      -2.857   2.630  15.096  1.00  0.00           C  \nATOM    917  HG2 GLN    58      -3.038   3.602  14.512  1.00  0.00           H  \nATOM    918  HG3 GLN    58      -3.906   2.197  15.331  1.00  0.00           H  \nATOM    919  CD  GLN    58      -2.212   3.126  16.416  1.00  0.00           C  \nATOM    920  OE1 GLN    58      -1.949   2.285  17.235  1.00  0.00           O  \nATOM    921  NE2 GLN    58      -2.095   4.386  16.673  1.00  0.00           N  \nATOM    922 HE21 GLN    58      -2.190   5.024  15.927  1.00  0.00           H  \nATOM    923 HE22 GLN    58      -1.591   4.569  17.624  1.00  0.00           H  \nATOM    924  C   GLN    58      -3.165   2.488  12.149  1.00  0.00           C  \nATOM    925  O   GLN    58      -4.281   2.912  12.310  1.00  0.00           O  \nATOM    926  N   ASP    59      -2.407   2.921  11.086  1.00  0.00           N  \nATOM    927  H   ASP    59      -1.480   2.553  11.024  1.00  0.00           H  \nATOM    928  CA  ASP    59      -2.836   4.051  10.199  1.00  0.00           C  \nATOM    929  HA  ASP    59      -3.163   4.932  10.788  1.00  0.00           H  \nATOM    930  CB  ASP    59      -1.579   4.541   9.399  1.00  0.00           C  \nATOM    931  HB2 ASP    59      -1.097   3.812   8.766  1.00  0.00           H  \nATOM    932  HB3 ASP    59      -1.971   5.314   8.715  1.00  0.00           H  \nATOM    933  CG  ASP    59      -0.519   5.258  10.242  1.00  0.00           C  \nATOM    934  OD1 ASP    59       0.451   5.734   9.623  1.00  0.00           O  \nATOM    935  OD2 ASP    59      -0.807   5.775  11.385  1.00  0.00           O  \nATOM    936  C   ASP    59      -3.990   3.631   9.319  1.00  0.00           C  \nATOM    937  O   ASP    59      -4.895   4.397   9.096  1.00  0.00           O  \nATOM    938  N   HIE    60      -4.122   2.368   8.876  1.00  0.00           N  \nATOM    939  H   HIE    60      -3.386   1.705   9.098  1.00  0.00           H  \nATOM    940  CA  HIE    60      -5.269   1.789   8.125  1.00  0.00           C  \nATOM    941  HA  HIE    60      -5.495   2.424   7.270  1.00  0.00           H  \nATOM    942  CB  HIE    60      -4.947   0.389   7.686  1.00  0.00           C  \nATOM    943  HB2 HIE    60      -4.936  -0.229   8.488  1.00  0.00           H  \nATOM    944  HB3 HIE    60      -5.730   0.103   7.012  1.00  0.00           H  \nATOM    945  CG  HIE    60      -3.686   0.325   6.959  1.00  0.00           C  \nATOM    946  ND1 HIE    60      -2.869  -0.782   6.836  1.00  0.00           N  \nATOM    947  CE1 HIE    60      -1.933  -0.442   5.967  1.00  0.00           C  \nATOM    948  HE1 HIE    60      -1.193  -1.209   5.672  1.00  0.00           H  \nATOM    949  NE2 HIE    60      -2.055   0.793   5.522  1.00  0.00           N  \nATOM    950  HE2 HIE    60      -1.550   1.089   4.715  1.00  0.00           H  \nATOM    951  CD2 HIE    60      -3.147   1.313   6.113  1.00  0.00           C  \nATOM    952  HD2 HIE    60      -3.727   2.275   5.835  1.00  0.00           H  \nATOM    953  C   HIE    60      -6.619   1.822   8.950  1.00  0.00           C  \nATOM    954  O   HIE    60      -7.540   2.486   8.488  1.00  0.00           O  \nATOM    955  N   VAL    61      -6.471   1.625  10.240  1.00  0.00           N  \nATOM    956  H   VAL    61      -5.735   1.055  10.614  1.00  0.00           H  \nATOM    957  CA  VAL    61      -7.610   1.760  11.280  1.00  0.00           C  \nATOM    958  HA  VAL    61      -8.458   1.227  10.914  1.00  0.00           H  \nATOM    959  CB  VAL    61      -7.205   1.215  12.662  1.00  0.00           C  \nATOM    960  HB  VAL    61      -6.327   1.677  12.972  1.00  0.00           H  \nATOM    961  CG1 VAL    61      -8.240   1.390  13.789  1.00  0.00           C  \nATOM    962 HG11 VAL    61      -8.261   2.449  14.109  1.00  0.00           H  \nATOM    963 HG12 VAL    61      -9.196   1.141  13.334  1.00  0.00           H  \nATOM    964 HG13 VAL    61      -8.018   0.777  14.661  1.00  0.00           H  \nATOM    965  CG2 VAL    61      -6.996  -0.290  12.525  1.00  0.00           C  \nATOM    966 HG21 VAL    61      -6.616  -0.746  13.455  1.00  0.00           H  \nATOM    967 HG22 VAL    61      -7.861  -0.751  12.121  1.00  0.00           H  \nATOM    968 HG23 VAL    61      -6.336  -0.430  11.686  1.00  0.00           H  \nATOM    969  C   VAL    61      -8.067   3.179  11.393  1.00  0.00           C  \nATOM    970  O   VAL    61      -9.224   3.439  11.156  1.00  0.00           O  \nATOM    971  N   ASP    62      -7.129   4.125  11.249  1.00  0.00           N  \nATOM    972  H   ASP    62      -6.126   3.870  11.162  1.00  0.00           H  \nATOM    973  CA  ASP    62      -7.484   5.555  11.351  1.00  0.00           C  \nATOM    974  HA  ASP    62      -8.250   5.604  12.133  1.00  0.00           H  \nATOM    975  CB  ASP    62      -6.299   6.430  11.761  1.00  0.00           C  \nATOM    976  HB2 ASP    62      -5.697   5.879  12.364  1.00  0.00           H  \nATOM    977  HB3 ASP    62      -5.767   6.728  10.875  1.00  0.00           H  \nATOM    978  CG  ASP    62      -6.632   7.694  12.546  1.00  0.00           C  \nATOM    979  OD1 ASP    62      -7.525   7.743  13.421  1.00  0.00           O  \nATOM    980  OD2 ASP    62      -5.668   8.581  12.555  1.00  0.00           O  \nATOM    981  C   ASP    62      -8.096   6.132  10.081  1.00  0.00           C  \nATOM    982  O   ASP    62      -8.703   7.174  10.114  1.00  0.00           O  \nATOM    983  N   ILE    63      -7.679   5.647   8.934  1.00  0.00           N  \nATOM    984  H   ILE    63      -7.086   4.869   8.934  1.00  0.00           H  \nATOM    985  CA  ILE    63      -8.284   6.089   7.621  1.00  0.00           C  \nATOM    986  HA  ILE    63      -8.294   7.200   7.551  1.00  0.00           H  \nATOM    987  CB  ILE    63      -7.460   5.491   6.549  1.00  0.00           C  \nATOM    988  HB  ILE    63      -7.380   4.450   6.684  1.00  0.00           H  \nATOM    989  CG2 ILE    63      -8.008   5.669   5.146  1.00  0.00           C  \nATOM    990 HG21 ILE    63      -9.039   5.247   5.075  1.00  0.00           H  \nATOM    991 HG22 ILE    63      -8.053   6.694   4.908  1.00  0.00           H  \nATOM    992 HG23 ILE    63      -7.408   5.212   4.357  1.00  0.00           H  \nATOM    993  CG1 ILE    63      -5.999   5.965   6.572  1.00  0.00           C  \nATOM    994 HG12 ILE    63      -5.976   6.993   6.136  1.00  0.00           H  \nATOM    995 HG13 ILE    63      -5.553   6.070   7.616  1.00  0.00           H  \nATOM    996  CD1 ILE    63      -4.947   5.078   5.838  1.00  0.00           C  \nATOM    997 HD11 ILE    63      -5.090   5.137   4.736  1.00  0.00           H  \nATOM    998 HD12 ILE    63      -3.899   5.425   6.006  1.00  0.00           H  \nATOM    999 HD13 ILE    63      -4.999   3.932   6.158  1.00  0.00           H  \nATOM   1000  C   ILE    63      -9.794   5.610   7.431  1.00  0.00           C  \nATOM   1001  O   ILE    63     -10.610   6.444   7.039  1.00  0.00           O  \nATOM   1002  N   LEU    64     -10.098   4.439   8.091  1.00  0.00           N  \nATOM   1003  H   LEU    64      -9.367   3.946   8.477  1.00  0.00           H  \nATOM   1004  CA  LEU    64     -11.509   3.917   8.051  1.00  0.00           C  \nATOM   1005  HA  LEU    64     -12.010   4.308   7.124  1.00  0.00           H  \nATOM   1006  CB  LEU    64     -11.531   2.382   8.263  1.00  0.00           C  \nATOM   1007  HB2 LEU    64     -11.164   2.158   9.260  1.00  0.00           H  \nATOM   1008  HB3 LEU    64     -12.550   1.965   8.248  1.00  0.00           H  \nATOM   1009  CG  LEU    64     -10.636   1.543   7.299  1.00  0.00           C  \nATOM   1010  HG  LEU    64      -9.648   1.965   7.197  1.00  0.00           H  \nATOM   1011  CD1 LEU    64     -10.421   0.030   7.731  1.00  0.00           C  \nATOM   1012 HD11 LEU    64      -9.770  -0.065   8.648  1.00  0.00           H  \nATOM   1013 HD12 LEU    64     -11.382  -0.378   7.908  1.00  0.00           H  \nATOM   1014 HD13 LEU    64      -9.826  -0.425   6.999  1.00  0.00           H  \nATOM   1015  CD2 LEU    64     -11.264   1.532   5.901  1.00  0.00           C  \nATOM   1016 HD21 LEU    64     -10.823   0.743   5.286  1.00  0.00           H  \nATOM   1017 HD22 LEU    64     -12.284   1.212   5.849  1.00  0.00           H  \nATOM   1018 HD23 LEU    64     -10.937   2.501   5.444  1.00  0.00           H  \nATOM   1019  C   LEU    64     -12.303   4.482   9.216  1.00  0.00           C  \nATOM   1020  O   LEU    64     -13.499   4.456   9.054  1.00  0.00           O  \nATOM   1021  N   GLY    65     -11.715   5.190  10.232  1.00  0.00           N  \nATOM   1022  H   GLY    65     -10.710   5.182  10.185  1.00  0.00           H  \nATOM   1023  CA  GLY    65     -12.417   5.904  11.336  1.00  0.00           C  \nATOM   1024  HA2 GLY    65     -12.594   5.121  12.134  1.00  0.00           H  \nATOM   1025  HA3 GLY    65     -11.731   6.669  11.731  1.00  0.00           H  \nATOM   1026  C   GLY    65     -13.720   6.681  11.032  1.00  0.00           C  \nATOM   1027  O   GLY    65     -14.784   6.184  11.418  1.00  0.00           O  \nATOM   1028  N   PRO    66     -13.736   7.614  10.036  1.00  0.00           N  \nATOM   1029  CD  PRO    66     -12.548   8.016   9.320  1.00  0.00           C  \nATOM   1030  HD2 PRO    66     -11.949   7.134   8.985  1.00  0.00           H  \nATOM   1031  HD3 PRO    66     -11.917   8.686   9.897  1.00  0.00           H  \nATOM   1032  CG  PRO    66     -13.091   8.809   8.170  1.00  0.00           C  \nATOM   1033  HG2 PRO    66     -13.100   8.154   7.261  1.00  0.00           H  \nATOM   1034  HG3 PRO    66     -12.492   9.702   7.969  1.00  0.00           H  \nATOM   1035  CB  PRO    66     -14.516   9.329   8.531  1.00  0.00           C  \nATOM   1036  HB2 PRO    66     -15.202   9.500   7.694  1.00  0.00           H  \nATOM   1037  HB3 PRO    66     -14.395  10.192   9.144  1.00  0.00           H  \nATOM   1038  CA  PRO    66     -14.991   8.255   9.563  1.00  0.00           C  \nATOM   1039  HA  PRO    66     -15.407   8.830  10.415  1.00  0.00           H  \nATOM   1040  C   PRO    66     -16.037   7.340   9.000  1.00  0.00           C  \nATOM   1041  O   PRO    66     -17.210   7.670   9.145  1.00  0.00           O  \nATOM   1042  N   LEU    67     -15.716   6.204   8.414  1.00  0.00           N  \nATOM   1043  H   LEU    67     -14.726   5.977   8.365  1.00  0.00           H  \nATOM   1044  CA  LEU    67     -16.666   5.196   7.927  1.00  0.00           C  \nATOM   1045  HA  LEU    67     -17.441   5.640   7.276  1.00  0.00           H  \nATOM   1046  CB  LEU    67     -15.881   4.208   6.990  1.00  0.00           C  \nATOM   1047  HB2 LEU    67     -15.316   3.529   7.646  1.00  0.00           H  \nATOM   1048  HB3 LEU    67     -16.511   3.537   6.328  1.00  0.00           H  \nATOM   1049  CG  LEU    67     -14.889   4.791   5.975  1.00  0.00           C  \nATOM   1050  HG  LEU    67     -14.186   5.524   6.393  1.00  0.00           H  \nATOM   1051  CD1 LEU    67     -14.039   3.702   5.319  1.00  0.00           C  \nATOM   1052 HD11 LEU    67     -13.343   4.197   4.735  1.00  0.00           H  \nATOM   1053 HD12 LEU    67     -13.565   3.056   6.114  1.00  0.00           H  \nATOM   1054 HD13 LEU    67     -14.584   3.071   4.604  1.00  0.00           H  \nATOM   1055  CD2 LEU    67     -15.593   5.586   4.916  1.00  0.00           C  \nATOM   1056 HD21 LEU    67     -16.253   4.953   4.238  1.00  0.00           H  \nATOM   1057 HD22 LEU    67     -16.146   6.417   5.369  1.00  0.00           H  \nATOM   1058 HD23 LEU    67     -14.840   6.156   4.302  1.00  0.00           H  \nATOM   1059  C   LEU    67     -17.337   4.383   8.990  1.00  0.00           C  \nATOM   1060  O   LEU    67     -18.543   4.237   8.913  1.00  0.00           O  \nATOM   1061  N   SER    68     -16.667   4.132  10.111  1.00  0.00           N  \nATOM   1062  H   SER    68     -15.675   4.226  10.223  1.00  0.00           H  \nATOM   1063  CA  SER    68     -17.342   3.655  11.306  1.00  0.00           C  \nATOM   1064  HA  SER    68     -17.817   2.718  11.054  1.00  0.00           H  \nATOM   1065  CB  SER    68     -16.351   3.184  12.396  1.00  0.00           C  \nATOM   1066  HB2 SER    68     -16.982   2.786  13.126  1.00  0.00           H  \nATOM   1067  HB3 SER    68     -15.600   2.501  11.915  1.00  0.00           H  \nATOM   1068  OG  SER    68     -15.557   4.262  12.948  1.00  0.00           O  \nATOM   1069  HG  SER    68     -15.182   4.849  12.266  1.00  0.00           H  \nATOM   1070  C   SER    68     -18.267   4.718  11.868  1.00  0.00           C  \nATOM   1071  O   SER    68     -19.413   4.422  12.117  1.00  0.00           O  \nATOM   1072  N   ALA    69     -17.904   5.946  11.806  1.00  0.00           N  \nATOM   1073  H   ALA    69     -16.921   6.156  11.460  1.00  0.00           H  \nATOM   1074  CA  ALA    69     -18.760   7.062  12.148  1.00  0.00           C  \nATOM   1075  HA  ALA    69     -19.018   6.882  13.210  1.00  0.00           H  \nATOM   1076  CB  ALA    69     -17.994   8.412  12.195  1.00  0.00           C  \nATOM   1077  HB1 ALA    69     -17.702   8.705  11.215  1.00  0.00           H  \nATOM   1078  HB2 ALA    69     -18.637   9.086  12.616  1.00  0.00           H  \nATOM   1079  HB3 ALA    69     -17.112   8.272  12.786  1.00  0.00           H  \nATOM   1080  C   ALA    69     -20.058   7.157  11.374  1.00  0.00           C  \nATOM   1081  O   ALA    69     -21.062   6.985  12.014  1.00  0.00           O  \nATOM   1082  N   GLN    70     -20.014   7.000   9.980  1.00  0.00           N  \nATOM   1083  H   GLN    70     -19.188   6.895   9.501  1.00  0.00           H  \nATOM   1084  CA  GLN    70     -21.179   7.061   9.051  1.00  0.00           C  \nATOM   1085  HA  GLN    70     -21.772   7.942   9.261  1.00  0.00           H  \nATOM   1086  CB  GLN    70     -20.704   7.231   7.623  1.00  0.00           C  \nATOM   1087  HB2 GLN    70     -20.119   6.393   7.341  1.00  0.00           H  \nATOM   1088  HB3 GLN    70     -21.645   7.213   7.079  1.00  0.00           H  \nATOM   1089  CG  GLN    70     -19.915   8.584   7.300  1.00  0.00           C  \nATOM   1090  HG2 GLN    70     -18.992   8.604   7.855  1.00  0.00           H  \nATOM   1091  HG3 GLN    70     -19.555   8.537   6.251  1.00  0.00           H  \nATOM   1092  CD  GLN    70     -20.595   9.949   7.497  1.00  0.00           C  \nATOM   1093  OE1 GLN    70     -19.925  10.868   7.928  1.00  0.00           O  \nATOM   1094  NE2 GLN    70     -21.894  10.044   7.413  1.00  0.00           N  \nATOM   1095 HE21 GLN    70     -22.456   9.268   7.149  1.00  0.00           H  \nATOM   1096 HE22 GLN    70     -22.256  10.997   7.669  1.00  0.00           H  \nATOM   1097  C   GLN    70     -22.039   5.869   9.145  1.00  0.00           C  \nATOM   1098  O   GLN    70     -23.253   5.895   8.828  1.00  0.00           O  \nATOM   1099  N   THR    71     -21.527   4.673   9.452  1.00  0.00           N  \nATOM   1100  H   THR    71     -20.512   4.673   9.632  1.00  0.00           H  \nATOM   1101  CA  THR    71     -22.207   3.381   9.383  1.00  0.00           C  \nATOM   1102  HA  THR    71     -23.090   3.485   8.819  1.00  0.00           H  \nATOM   1103  CB  THR    71     -21.412   2.197   8.769  1.00  0.00           C  \nATOM   1104  HB  THR    71     -22.091   1.349   8.961  1.00  0.00           H  \nATOM   1105  CG2 THR    71     -21.083   2.323   7.285  1.00  0.00           C  \nATOM   1106 HG21 THR    71     -20.254   3.039   7.134  1.00  0.00           H  \nATOM   1107 HG22 THR    71     -21.078   1.370   6.830  1.00  0.00           H  \nATOM   1108 HG23 THR    71     -22.009   2.751   6.810  1.00  0.00           H  \nATOM   1109  OG1 THR    71     -20.323   1.995   9.614  1.00  0.00           O  \nATOM   1110  HG1 THR    71     -19.544   2.558   9.440  1.00  0.00           H  \nATOM   1111  C   THR    71     -22.646   2.856  10.730  1.00  0.00           C  \nATOM   1112  O   THR    71     -23.676   2.218  10.768  1.00  0.00           O  \nATOM   1113  N   GLY    72     -21.972   3.055  11.918  1.00  0.00           N  \nATOM   1114  H   GLY    72     -21.136   3.668  11.889  1.00  0.00           H  \nATOM   1115  CA  GLY    72     -22.211   2.444  13.265  1.00  0.00           C  \nATOM   1116  HA2 GLY    72     -22.023   3.116  14.112  1.00  0.00           H  \nATOM   1117  HA3 GLY    72     -23.227   2.210  13.281  1.00  0.00           H  \nATOM   1118  C   GLY    72     -21.392   1.146  13.475  1.00  0.00           C  \nATOM   1119  O   GLY    72     -21.525   0.468  14.491  1.00  0.00           O  \nATOM   1120  N   ILE    73     -20.583   0.659  12.473  1.00  0.00           N  \nATOM   1121  H   ILE    73     -20.623   1.136  11.598  1.00  0.00           H  \nATOM   1122  CA  ILE    73     -19.797  -0.549  12.600  1.00  0.00           C  \nATOM   1123  HA  ILE    73     -20.227  -1.166  13.439  1.00  0.00           H  \nATOM   1124  CB  ILE    73     -19.858  -1.505  11.362  1.00  0.00           C  \nATOM   1125  HB  ILE    73     -19.397  -0.872  10.572  1.00  0.00           H  \nATOM   1126  CG2 ILE    73     -19.069  -2.771  11.417  1.00  0.00           C  \nATOM   1127 HG21 ILE    73     -19.030  -3.296  10.447  1.00  0.00           H  \nATOM   1128 HG22 ILE    73     -18.016  -2.565  11.683  1.00  0.00           H  \nATOM   1129 HG23 ILE    73     -19.499  -3.478  12.157  1.00  0.00           H  \nATOM   1130  CG1 ILE    73     -21.272  -1.956  10.902  1.00  0.00           C  \nATOM   1131 HG12 ILE    73     -21.807  -1.080  10.576  1.00  0.00           H  \nATOM   1132 HG13 ILE    73     -21.104  -2.476   9.950  1.00  0.00           H  \nATOM   1133  CD1 ILE    73     -22.157  -2.764  11.879  1.00  0.00           C  \nATOM   1134 HD11 ILE    73     -22.390  -2.172  12.689  1.00  0.00           H  \nATOM   1135 HD12 ILE    73     -23.093  -3.097  11.393  1.00  0.00           H  \nATOM   1136 HD13 ILE    73     -21.665  -3.619  12.227  1.00  0.00           H  \nATOM   1137  C   ILE    73     -18.380  -0.167  13.037  1.00  0.00           C  \nATOM   1138  O   ILE    73     -17.672   0.589  12.395  1.00  0.00           O  \nATOM   1139  N   ALA    74     -18.013  -0.660  14.193  1.00  0.00           N  \nATOM   1140  H   ALA    74     -18.698  -1.208  14.698  1.00  0.00           H  \nATOM   1141  CA  ALA    74     -16.565  -0.591  14.632  1.00  0.00           C  \nATOM   1142  HA  ALA    74     -16.322   0.450  14.808  1.00  0.00           H  \nATOM   1143  CB  ALA    74     -16.489  -1.306  15.991  1.00  0.00           C  \nATOM   1144  HB1 ALA    74     -16.706  -2.409  15.917  1.00  0.00           H  \nATOM   1145  HB2 ALA    74     -15.487  -1.134  16.381  1.00  0.00           H  \nATOM   1146  HB3 ALA    74     -17.151  -0.744  16.698  1.00  0.00           H  \nATOM   1147  C   ALA    74     -15.650  -1.224  13.526  1.00  0.00           C  \nATOM   1148  O   ALA    74     -15.941  -2.303  12.987  1.00  0.00           O  \nATOM   1149  N   VAL    75     -14.386  -0.808  13.343  1.00  0.00           N  \nATOM   1150  H   VAL    75     -14.052   0.001  13.891  1.00  0.00           H  \nATOM   1151  CA  VAL    75     -13.428  -1.342  12.252  1.00  0.00           C  \nATOM   1152  HA  VAL    75     -13.957  -1.354  11.263  1.00  0.00           H  \nATOM   1153  CB  VAL    75     -12.220  -0.431  12.011  1.00  0.00           C  \nATOM   1154  HB  VAL    75     -11.671  -0.437  12.915  1.00  0.00           H  \nATOM   1155  CG1 VAL    75     -11.366  -0.890  10.834  1.00  0.00           C  \nATOM   1156 HG11 VAL    75     -12.011  -0.879   9.942  1.00  0.00           H  \nATOM   1157 HG12 VAL    75     -10.451  -0.322  10.696  1.00  0.00           H  \nATOM   1158 HG13 VAL    75     -11.025  -1.885  10.930  1.00  0.00           H  \nATOM   1159  CG2 VAL    75     -12.701   0.970  11.680  1.00  0.00           C  \nATOM   1160 HG21 VAL    75     -13.393   0.803  10.843  1.00  0.00           H  \nATOM   1161 HG22 VAL    75     -13.270   1.462  12.496  1.00  0.00           H  \nATOM   1162 HG23 VAL    75     -11.853   1.585  11.445  1.00  0.00           H  \nATOM   1163  C   VAL    75     -12.970  -2.775  12.550  1.00  0.00           C  \nATOM   1164  O   VAL    75     -12.819  -3.576  11.629  1.00  0.00           O  \nATOM   1165  N   LEU    76     -13.101  -3.229  13.785  1.00  0.00           N  \nATOM   1166  H   LEU    76     -13.634  -2.668  14.469  1.00  0.00           H  \nATOM   1167  CA  LEU    76     -12.619  -4.558  14.169  1.00  0.00           C  \nATOM   1168  HA  LEU    76     -11.757  -4.830  13.524  1.00  0.00           H  \nATOM   1169  CB  LEU    76     -12.146  -4.582  15.624  1.00  0.00           C  \nATOM   1170  HB2 LEU    76     -13.076  -4.614  16.216  1.00  0.00           H  \nATOM   1171  HB3 LEU    76     -11.713  -5.588  15.747  1.00  0.00           H  \nATOM   1172  CG  LEU    76     -11.036  -3.506  15.951  1.00  0.00           C  \nATOM   1173  HG  LEU    76     -11.144  -2.544  15.444  1.00  0.00           H  \nATOM   1174  CD1 LEU    76     -10.995  -3.384  17.484  1.00  0.00           C  \nATOM   1175 HD11 LEU    76     -11.885  -2.881  17.845  1.00  0.00           H  \nATOM   1176 HD12 LEU    76     -11.032  -4.398  17.958  1.00  0.00           H  \nATOM   1177 HD13 LEU    76     -10.092  -2.805  17.827  1.00  0.00           H  \nATOM   1178  CD2 LEU    76      -9.664  -3.980  15.619  1.00  0.00           C  \nATOM   1179 HD21 LEU    76      -9.747  -4.390  14.552  1.00  0.00           H  \nATOM   1180 HD22 LEU    76      -8.981  -3.081  15.559  1.00  0.00           H  \nATOM   1181 HD23 LEU    76      -9.415  -4.832  16.244  1.00  0.00           H  \nATOM   1182  C   LEU    76     -13.677  -5.581  13.909  1.00  0.00           C  \nATOM   1183  O   LEU    76     -13.414  -6.724  13.521  1.00  0.00           O  \nATOM   1184  N   ASP    77     -14.950  -5.123  13.732  1.00  0.00           N  \nATOM   1185  H   ASP    77     -15.154  -4.116  13.891  1.00  0.00           H  \nATOM   1186  CA  ASP    77     -15.980  -6.006  13.112  1.00  0.00           C  \nATOM   1187  HA  ASP    77     -15.847  -7.056  13.481  1.00  0.00           H  \nATOM   1188  CB  ASP    77     -17.349  -5.487  13.647  1.00  0.00           C  \nATOM   1189  HB2 ASP    77     -17.358  -4.381  13.541  1.00  0.00           H  \nATOM   1190  HB3 ASP    77     -18.177  -5.927  13.096  1.00  0.00           H  \nATOM   1191  CG  ASP    77     -17.593  -5.697  15.171  1.00  0.00           C  \nATOM   1192  OD1 ASP    77     -17.191  -6.826  15.577  1.00  0.00           O  \nATOM   1193  OD2 ASP    77     -18.498  -5.034  15.740  1.00  0.00           O  \nATOM   1194  C   ASP    77     -15.871  -5.961  11.581  1.00  0.00           C  \nATOM   1195  O   ASP    77     -16.212  -6.961  10.919  1.00  0.00           O  \nATOM   1196  N   MET    78     -15.578  -4.792  10.921  1.00  0.00           N  \nATOM   1197  H   MET    78     -15.481  -3.854  11.394  1.00  0.00           H  \nATOM   1198  CA  MET    78     -15.315  -4.905   9.467  1.00  0.00           C  \nATOM   1199  HA  MET    78     -16.236  -5.281   9.104  1.00  0.00           H  \nATOM   1200  CB  MET    78     -15.118  -3.510   8.956  1.00  0.00           C  \nATOM   1201  HB2 MET    78     -15.709  -2.726   9.391  1.00  0.00           H  \nATOM   1202  HB3 MET    78     -14.091  -3.260   9.130  1.00  0.00           H  \nATOM   1203  CG  MET    78     -15.271  -3.507   7.428  1.00  0.00           C  \nATOM   1204  HG2 MET    78     -14.909  -2.492   7.142  1.00  0.00           H  \nATOM   1205  HG3 MET    78     -14.612  -4.344   7.127  1.00  0.00           H  \nATOM   1206  SD  MET    78     -16.905  -3.894   6.746  1.00  0.00           S  \nATOM   1207  CE  MET    78     -17.887  -2.500   7.436  1.00  0.00           C  \nATOM   1208  HE1 MET    78     -17.150  -1.672   7.278  1.00  0.00           H  \nATOM   1209  HE2 MET    78     -18.822  -2.290   6.966  1.00  0.00           H  \nATOM   1210  HE3 MET    78     -17.883  -2.601   8.483  1.00  0.00           H  \nATOM   1211  C   MET    78     -14.177  -5.855   9.054  1.00  0.00           C  \nATOM   1212  O   MET    78     -14.306  -6.660   8.146  1.00  0.00           O  \nATOM   1213  N   CYS    79     -13.227  -6.037   9.973  1.00  0.00           N  \nATOM   1214  H   CYS    79     -13.230  -5.500  10.853  1.00  0.00           H  \nATOM   1215  CA  CYS    79     -12.163  -6.981   9.949  1.00  0.00           C  \nATOM   1216  HA  CYS    79     -11.737  -6.986   8.922  1.00  0.00           H  \nATOM   1217  CB  CYS    79     -11.080  -6.568  10.938  1.00  0.00           C  \nATOM   1218  HB2 CYS    79     -11.591  -6.547  11.911  1.00  0.00           H  \nATOM   1219  HB3 CYS    79     -10.354  -7.357  10.943  1.00  0.00           H  \nATOM   1220  SG  CYS    79     -10.315  -4.979  10.659  1.00  0.00           S  \nATOM   1221  HG  CYS    79     -11.518  -4.254  10.692  1.00  0.00           H  \nATOM   1222  C   CYS    79     -12.602  -8.403  10.254  1.00  0.00           C  \nATOM   1223  O   CYS    79     -12.367  -9.322   9.410  1.00  0.00           O  \nATOM   1224  N   ALA    80     -13.487  -8.533  11.250  1.00  0.00           N  \nATOM   1225  H   ALA    80     -13.902  -7.792  11.795  1.00  0.00           H  \nATOM   1226  CA  ALA    80     -14.053  -9.857  11.428  1.00  0.00           C  \nATOM   1227  HA  ALA    80     -13.221 -10.488  11.599  1.00  0.00           H  \nATOM   1228  CB  ALA    80     -14.953  -9.841  12.727  1.00  0.00           C  \nATOM   1229  HB1 ALA    80     -15.923  -9.396  12.554  1.00  0.00           H  \nATOM   1230  HB2 ALA    80     -15.086 -10.844  13.082  1.00  0.00           H  \nATOM   1231  HB3 ALA    80     -14.434  -9.512  13.586  1.00  0.00           H  \nATOM   1232  C   ALA    80     -14.947 -10.371  10.262  1.00  0.00           C  \nATOM   1233  O   ALA    80     -14.980 -11.574   9.963  1.00  0.00           O  \nATOM   1234  N   ALA    81     -15.527  -9.421   9.543  1.00  0.00           N  \nATOM   1235  H   ALA    81     -15.737  -8.509   9.853  1.00  0.00           H  \nATOM   1236  CA  ALA    81     -16.274  -9.723   8.354  1.00  0.00           C  \nATOM   1237  HA  ALA    81     -16.848 -10.553   8.596  1.00  0.00           H  \nATOM   1238  CB  ALA    81     -17.322  -8.680   7.943  1.00  0.00           C  \nATOM   1239  HB1 ALA    81     -16.807  -7.722   7.770  1.00  0.00           H  \nATOM   1240  HB2 ALA    81     -17.735  -8.910   6.993  1.00  0.00           H  \nATOM   1241  HB3 ALA    81     -18.065  -8.656   8.712  1.00  0.00           H  \nATOM   1242  C   ALA    81     -15.346 -10.134   7.179  1.00  0.00           C  \nATOM   1243  O   ALA    81     -15.585 -11.114   6.466  1.00  0.00           O  \nATOM   1244  N   LEU    82     -14.291  -9.375   6.904  1.00  0.00           N  \nATOM   1245  H   LEU    82     -14.088  -8.559   7.568  1.00  0.00           H  \nATOM   1246  CA  LEU    82     -13.222  -9.781   5.936  1.00  0.00           C  \nATOM   1247  HA  LEU    82     -13.819  -9.987   5.042  1.00  0.00           H  \nATOM   1248  CB  LEU    82     -12.283  -8.529   5.562  1.00  0.00           C  \nATOM   1249  HB2 LEU    82     -12.919  -7.701   5.339  1.00  0.00           H  \nATOM   1250  HB3 LEU    82     -11.618  -8.221   6.396  1.00  0.00           H  \nATOM   1251  CG  LEU    82     -11.354  -8.786   4.370  1.00  0.00           C  \nATOM   1252  HG  LEU    82     -10.698  -9.598   4.677  1.00  0.00           H  \nATOM   1253  CD1 LEU    82     -12.109  -9.279   3.113  1.00  0.00           C  \nATOM   1254 HD11 LEU    82     -11.394  -9.248   2.268  1.00  0.00           H  \nATOM   1255 HD12 LEU    82     -12.423 -10.342   3.110  1.00  0.00           H  \nATOM   1256 HD13 LEU    82     -12.954  -8.573   2.811  1.00  0.00           H  \nATOM   1257  CD2 LEU    82     -10.540  -7.525   4.062  1.00  0.00           C  \nATOM   1258 HD21 LEU    82      -9.879  -7.686   3.222  1.00  0.00           H  \nATOM   1259 HD22 LEU    82     -11.163  -6.633   3.884  1.00  0.00           H  \nATOM   1260 HD23 LEU    82      -9.831  -7.310   4.913  1.00  0.00           H  \nATOM   1261  C   LEU    82     -12.441 -11.103   6.323  1.00  0.00           C  \nATOM   1262  O   LEU    82     -12.062 -11.816   5.404  1.00  0.00           O  \nATOM   1263  N   LYS    83     -12.323 -11.476   7.603  1.00  0.00           N  \nATOM   1264  H   LYS    83     -12.675 -10.814   8.240  1.00  0.00           H  \nATOM   1265  CA  LYS    83     -11.804 -12.716   8.098  1.00  0.00           C  \nATOM   1266  HA  LYS    83     -10.825 -12.831   7.643  1.00  0.00           H  \nATOM   1267  CB  LYS    83     -11.539 -12.595   9.632  1.00  0.00           C  \nATOM   1268  HB2 LYS    83     -11.002 -11.676   9.830  1.00  0.00           H  \nATOM   1269  HB3 LYS    83     -12.439 -12.636  10.206  1.00  0.00           H  \nATOM   1270  CG  LYS    83     -10.552 -13.684  10.065  1.00  0.00           C  \nATOM   1271  HG2 LYS    83     -11.108 -14.620   9.927  1.00  0.00           H  \nATOM   1272  HG3 LYS    83      -9.824 -13.755   9.271  1.00  0.00           H  \nATOM   1273  CD  LYS    83      -9.937 -13.574  11.434  1.00  0.00           C  \nATOM   1274  HD2 LYS    83      -8.940 -14.096  11.469  1.00  0.00           H  \nATOM   1275  HD3 LYS    83      -9.632 -12.568  11.737  1.00  0.00           H  \nATOM   1276  CE  LYS    83     -10.853 -14.217  12.542  1.00  0.00           C  \nATOM   1277  HE2 LYS    83     -11.773 -13.684  12.468  1.00  0.00           H  \nATOM   1278  HE3 LYS    83     -11.098 -15.251  12.210  1.00  0.00           H  \nATOM   1279  NZ  LYS    83     -10.204 -14.185  13.840  1.00  0.00           N  \nATOM   1280  HZ1 LYS    83     -10.126 -13.192  14.144  1.00  0.00           H  \nATOM   1281  HZ2 LYS    83     -10.750 -14.788  14.449  1.00  0.00           H  \nATOM   1282  HZ3 LYS    83      -9.285 -14.597  13.720  1.00  0.00           H  \nATOM   1283  C   LYS    83     -12.681 -13.923   7.766  1.00  0.00           C  \nATOM   1284  O   LYS    83     -12.327 -14.856   7.024  1.00  0.00           O  \nATOM   1285  N   GLU    84     -13.997 -13.782   7.974  1.00  0.00           N  \nATOM   1286  H   GLU    84     -14.400 -13.052   8.504  1.00  0.00           H  \nATOM   1287  CA  GLU    84     -14.999 -14.671   7.462  1.00  0.00           C  \nATOM   1288  HA  GLU    84     -14.730 -15.617   7.857  1.00  0.00           H  \nATOM   1289  CB  GLU    84     -16.313 -14.330   8.137  1.00  0.00           C  \nATOM   1290  HB2 GLU    84     -16.304 -14.210   9.233  1.00  0.00           H  \nATOM   1291  HB3 GLU    84     -16.664 -13.327   7.765  1.00  0.00           H  \nATOM   1292  CG  GLU    84     -17.447 -15.326   7.809  1.00  0.00           C  \nATOM   1293  HG2 GLU    84     -17.579 -15.489   6.788  1.00  0.00           H  \nATOM   1294  HG3 GLU    84     -17.166 -16.261   8.173  1.00  0.00           H  \nATOM   1295  CD  GLU    84     -18.855 -15.039   8.335  1.00  0.00           C  \nATOM   1296  OE1 GLU    84     -19.336 -13.943   8.781  1.00  0.00           O  \nATOM   1297  OE2 GLU    84     -19.570 -16.016   8.383  1.00  0.00           O  \nATOM   1298  C   GLU    84     -15.117 -14.867   5.947  1.00  0.00           C  \nATOM   1299  O   GLU    84     -14.975 -16.022   5.511  1.00  0.00           O  \nATOM   1300  N   LEU    85     -14.946 -13.785   5.243  1.00  0.00           N  \nATOM   1301  H   LEU    85     -14.929 -12.902   5.702  1.00  0.00           H  \nATOM   1302  CA  LEU    85     -14.862 -13.905   3.742  1.00  0.00           C  \nATOM   1303  HA  LEU    85     -15.658 -14.530   3.306  1.00  0.00           H  \nATOM   1304  CB  LEU    85     -14.974 -12.448   3.141  1.00  0.00           C  \nATOM   1305  HB2 LEU    85     -14.315 -11.715   3.574  1.00  0.00           H  \nATOM   1306  HB3 LEU    85     -14.661 -12.422   2.127  1.00  0.00           H  \nATOM   1307  CG  LEU    85     -16.433 -11.799   3.101  1.00  0.00           C  \nATOM   1308  HG  LEU    85     -16.898 -11.841   4.035  1.00  0.00           H  \nATOM   1309  CD1 LEU    85     -16.365 -10.396   2.677  1.00  0.00           C  \nATOM   1310 HD11 LEU    85     -15.687 -10.167   1.907  1.00  0.00           H  \nATOM   1311 HD12 LEU    85     -17.333  -9.916   2.629  1.00  0.00           H  \nATOM   1312 HD13 LEU    85     -15.961  -9.776   3.603  1.00  0.00           H  \nATOM   1313  CD2 LEU    85     -17.452 -12.655   2.272  1.00  0.00           C  \nATOM   1314 HD21 LEU    85     -18.005 -13.383   2.856  1.00  0.00           H  \nATOM   1315 HD22 LEU    85     -18.123 -11.946   1.745  1.00  0.00           H  \nATOM   1316 HD23 LEU    85     -16.842 -13.133   1.553  1.00  0.00           H  \nATOM   1317  C   LEU    85     -13.489 -14.406   3.307  1.00  0.00           C  \nATOM   1318  O   LEU    85     -13.406 -15.090   2.254  1.00  0.00           O  \nATOM   1319  N   LEU    86     -12.399 -14.231   3.950  1.00  0.00           N  \nATOM   1320  H   LEU    86     -12.361 -13.622   4.702  1.00  0.00           H  \nATOM   1321  CA  LEU    86     -11.026 -14.769   3.657  1.00  0.00           C  \nATOM   1322  HA  LEU    86     -10.763 -14.572   2.662  1.00  0.00           H  \nATOM   1323  CB  LEU    86      -9.916 -14.200   4.577  1.00  0.00           C  \nATOM   1324  HB2 LEU    86     -10.257 -14.000   5.593  1.00  0.00           H  \nATOM   1325  HB3 LEU    86      -9.009 -14.855   4.631  1.00  0.00           H  \nATOM   1326  CG  LEU    86      -9.331 -12.862   4.048  1.00  0.00           C  \nATOM   1327  HG  LEU    86     -10.091 -12.299   3.502  1.00  0.00           H  \nATOM   1328  CD1 LEU    86      -8.822 -11.994   5.162  1.00  0.00           C  \nATOM   1329 HD11 LEU    86      -8.008 -12.487   5.670  1.00  0.00           H  \nATOM   1330 HD12 LEU    86      -8.457 -11.008   4.821  1.00  0.00           H  \nATOM   1331 HD13 LEU    86      -9.620 -11.797   5.848  1.00  0.00           H  \nATOM   1332  CD2 LEU    86      -8.239 -13.146   3.040  1.00  0.00           C  \nATOM   1333 HD21 LEU    86      -8.652 -13.733   2.264  1.00  0.00           H  \nATOM   1334 HD22 LEU    86      -7.785 -12.159   2.704  1.00  0.00           H  \nATOM   1335 HD23 LEU    86      -7.497 -13.769   3.517  1.00  0.00           H  \nATOM   1336  C   LEU    86     -11.048 -16.313   3.881  1.00  0.00           C  \nATOM   1337  O   LEU    86     -10.305 -17.023   3.202  1.00  0.00           O  \nATOM   1338  N   GLN    87     -11.540 -16.766   5.042  1.00  0.00           N  \nATOM   1339  H   GLN    87     -11.855 -16.099   5.714  1.00  0.00           H  \nATOM   1340  CA  GLN    87     -11.636 -18.227   5.386  1.00  0.00           C  \nATOM   1341  HA  GLN    87     -10.728 -18.677   5.046  1.00  0.00           H  \nATOM   1342  CB  GLN    87     -11.730 -18.377   6.966  1.00  0.00           C  \nATOM   1343  HB2 GLN    87     -12.514 -17.704   7.361  1.00  0.00           H  \nATOM   1344  HB3 GLN    87     -12.077 -19.380   7.201  1.00  0.00           H  \nATOM   1345  CG  GLN    87     -10.371 -18.048   7.554  1.00  0.00           C  \nATOM   1346  HG2 GLN    87      -9.626 -18.858   7.221  1.00  0.00           H  \nATOM   1347  HG3 GLN    87      -9.999 -17.134   7.161  1.00  0.00           H  \nATOM   1348  CD  GLN    87     -10.331 -18.090   9.138  1.00  0.00           C  \nATOM   1349  OE1 GLN    87     -11.233 -17.704   9.852  1.00  0.00           O  \nATOM   1350  NE2 GLN    87      -9.290 -18.617   9.775  1.00  0.00           N  \nATOM   1351 HE21 GLN    87      -8.450 -18.667   9.230  1.00  0.00           H  \nATOM   1352 HE22 GLN    87      -9.294 -18.695  10.807  1.00  0.00           H  \nATOM   1353  C   GLN    87     -12.795 -19.000   4.736  1.00  0.00           C  \nATOM   1354  O   GLN    87     -12.769 -20.221   4.597  1.00  0.00           O  \nATOM   1355  N   ASN    88     -13.853 -18.313   4.261  1.00  0.00           N  \nATOM   1356  H   ASN    88     -13.761 -17.276   4.209  1.00  0.00           H  \nATOM   1357  CA  ASN    88     -15.111 -18.943   3.829  1.00  0.00           C  \nATOM   1358  HA  ASN    88     -14.866 -20.000   3.832  1.00  0.00           H  \nATOM   1359  CB  ASN    88     -16.166 -18.794   4.891  1.00  0.00           C  \nATOM   1360  HB2 ASN    88     -16.465 -17.792   5.070  1.00  0.00           H  \nATOM   1361  HB3 ASN    88     -17.078 -19.306   4.625  1.00  0.00           H  \nATOM   1362  CG  ASN    88     -15.855 -19.419   6.268  1.00  0.00           C  \nATOM   1363  OD1 ASN    88     -15.916 -20.670   6.370  1.00  0.00           O  \nATOM   1364  ND2 ASN    88     -15.681 -18.599   7.263  1.00  0.00           N  \nATOM   1365 HD21 ASN    88     -15.617 -17.561   7.083  1.00  0.00           H  \nATOM   1366 HD22 ASN    88     -15.212 -19.083   8.078  1.00  0.00           H  \nATOM   1367  C   ASN    88     -15.632 -18.625   2.353  1.00  0.00           C  \nATOM   1368  O   ASN    88     -16.108 -19.535   1.695  1.00  0.00           O  \nATOM   1369  N   GLY    89     -15.321 -17.403   1.855  1.00  0.00           N  \nATOM   1370  H   GLY    89     -14.623 -16.803   2.320  1.00  0.00           H  \nATOM   1371  CA  GLY    89     -15.775 -16.917   0.575  1.00  0.00           C  \nATOM   1372  HA2 GLY    89     -15.282 -15.895   0.425  1.00  0.00           H  \nATOM   1373  HA3 GLY    89     -15.417 -17.437  -0.272  1.00  0.00           H  \nATOM   1374  C   GLY    89     -17.261 -16.634   0.532  1.00  0.00           C  \nATOM   1375  O   GLY    89     -17.971 -16.373   1.514  1.00  0.00           O  \nATOM   1376  N   MET    90     -17.663 -16.346  -0.712  1.00  0.00           N  \nATOM   1377  H   MET    90     -16.994 -16.510  -1.472  1.00  0.00           H  \nATOM   1378  CA  MET    90     -18.959 -15.712  -1.035  1.00  0.00           C  \nATOM   1379  HA  MET    90     -19.748 -16.061  -0.382  1.00  0.00           H  \nATOM   1380  CB  MET    90     -18.902 -14.141  -0.859  1.00  0.00           C  \nATOM   1381  HB2 MET    90     -19.848 -13.661  -1.085  1.00  0.00           H  \nATOM   1382  HB3 MET    90     -18.673 -14.052   0.247  1.00  0.00           H  \nATOM   1383  CG  MET    90     -17.736 -13.464  -1.682  1.00  0.00           C  \nATOM   1384  HG2 MET    90     -17.004 -13.205  -0.958  1.00  0.00           H  \nATOM   1385  HG3 MET    90     -17.244 -14.284  -2.271  1.00  0.00           H  \nATOM   1386  SD  MET    90     -17.995 -12.102  -2.820  1.00  0.00           S  \nATOM   1387  CE  MET    90     -19.000 -12.698  -4.189  1.00  0.00           C  \nATOM   1388  HE1 MET    90     -19.320 -11.887  -4.853  1.00  0.00           H  \nATOM   1389  HE2 MET    90     -18.282 -13.257  -4.771  1.00  0.00           H  \nATOM   1390  HE3 MET    90     -19.861 -13.374  -3.859  1.00  0.00           H  \nATOM   1391  C   MET    90     -19.545 -16.127  -2.364  1.00  0.00           C  \nATOM   1392  O   MET    90     -20.575 -15.581  -2.734  1.00  0.00           O  \nATOM   1393  N   ASN    91     -18.821 -16.937  -3.167  1.00  0.00           N  \nATOM   1394  H   ASN    91     -18.082 -17.493  -2.770  1.00  0.00           H  \nATOM   1395  CA  ASN    91     -19.088 -17.164  -4.621  1.00  0.00           C  \nATOM   1396  HA  ASN    91     -19.006 -16.193  -5.122  1.00  0.00           H  \nATOM   1397  CB  ASN    91     -17.970 -18.160  -5.013  1.00  0.00           C  \nATOM   1398  HB2 ASN    91     -17.674 -18.050  -6.049  1.00  0.00           H  \nATOM   1399  HB3 ASN    91     -17.047 -17.902  -4.541  1.00  0.00           H  \nATOM   1400  CG  ASN    91     -18.238 -19.666  -4.793  1.00  0.00           C  \nATOM   1401  OD1 ASN    91     -18.273 -20.195  -3.687  1.00  0.00           O  \nATOM   1402  ND2 ASN    91     -18.504 -20.378  -5.877  1.00  0.00           N  \nATOM   1403 HD21 ASN    91     -18.514 -19.941  -6.822  1.00  0.00           H  \nATOM   1404 HD22 ASN    91     -18.683 -21.357  -5.697  1.00  0.00           H  \nATOM   1405  C   ASN    91     -20.503 -17.691  -5.039  1.00  0.00           C  \nATOM   1406  O   ASN    91     -20.998 -17.225  -6.065  1.00  0.00           O  \nATOM   1407  N   GLY    92     -21.269 -18.347  -4.172  1.00  0.00           N  \nATOM   1408  H   GLY    92     -20.790 -18.627  -3.322  1.00  0.00           H  \nATOM   1409  CA  GLY    92     -22.690 -18.631  -4.256  1.00  0.00           C  \nATOM   1410  HA2 GLY    92     -22.852 -19.183  -5.177  1.00  0.00           H  \nATOM   1411  HA3 GLY    92     -22.923 -19.263  -3.506  1.00  0.00           H  \nATOM   1412  C   GLY    92     -23.679 -17.529  -4.228  1.00  0.00           C  \nATOM   1413  O   GLY    92     -24.866 -17.792  -4.502  1.00  0.00           O  \nATOM   1414  N   ARG    93     -23.278 -16.239  -3.984  1.00  0.00           N  \nATOM   1415  H   ARG    93     -22.252 -15.995  -3.773  1.00  0.00           H  \nATOM   1416  CA  ARG    93     -24.136 -15.049  -3.827  1.00  0.00           C  \nATOM   1417  HA  ARG    93     -25.107 -15.299  -4.166  1.00  0.00           H  \nATOM   1418  CB  ARG    93     -24.364 -14.685  -2.320  1.00  0.00           C  \nATOM   1419  HB2 ARG    93     -23.452 -14.702  -1.726  1.00  0.00           H  \nATOM   1420  HB3 ARG    93     -24.709 -13.600  -2.254  1.00  0.00           H  \nATOM   1421  CG  ARG    93     -25.392 -15.603  -1.591  1.00  0.00           C  \nATOM   1422  HG2 ARG    93     -26.369 -15.530  -2.104  1.00  0.00           H  \nATOM   1423  HG3 ARG    93     -25.064 -16.685  -1.627  1.00  0.00           H  \nATOM   1424  CD  ARG    93     -25.604 -15.206  -0.066  1.00  0.00           C  \nATOM   1425  HD2 ARG    93     -26.048 -16.113   0.384  1.00  0.00           H  \nATOM   1426  HD3 ARG    93     -24.719 -14.849   0.471  1.00  0.00           H  \nATOM   1427  NE  ARG    93     -26.620 -14.147   0.009  1.00  0.00           N  \nATOM   1428  HE  ARG    93     -26.534 -13.353  -0.606  1.00  0.00           H  \nATOM   1429  CZ  ARG    93     -27.581 -13.972   0.918  1.00  0.00           C  \nATOM   1430  NH1 ARG    93     -27.641 -14.705   2.013  1.00  0.00           N  \nATOM   1431 HH11 ARG    93     -26.833 -15.370   2.139  1.00  0.00           H  \nATOM   1432 HH12 ARG    93     -28.283 -14.435   2.709  1.00  0.00           H  \nATOM   1433  NH2 ARG    93     -28.363 -12.944   0.880  1.00  0.00           N  \nATOM   1434 HH21 ARG    93     -28.233 -12.272   0.125  1.00  0.00           H  \nATOM   1435 HH22 ARG    93     -29.200 -12.901   1.425  1.00  0.00           H  \nATOM   1436  C   ARG    93     -23.576 -13.903  -4.652  1.00  0.00           C  \nATOM   1437  O   ARG    93     -22.416 -13.617  -4.741  1.00  0.00           O  \nATOM   1438  N   THR    94     -24.399 -12.879  -4.877  1.00  0.00           N  \nATOM   1439  H   THR    94     -25.320 -13.068  -4.500  1.00  0.00           H  \nATOM   1440  CA  THR    94     -23.928 -11.520  -5.390  1.00  0.00           C  \nATOM   1441  HA  THR    94     -23.065 -11.712  -5.975  1.00  0.00           H  \nATOM   1442  CB  THR    94     -24.927 -10.937  -6.367  1.00  0.00           C  \nATOM   1443  HB  THR    94     -24.726  -9.890  -6.625  1.00  0.00           H  \nATOM   1444  CG2 THR    94     -25.008 -11.704  -7.671  1.00  0.00           C  \nATOM   1445 HG21 THR    94     -24.153 -11.784  -8.188  1.00  0.00           H  \nATOM   1446 HG22 THR    94     -25.454 -12.662  -7.522  1.00  0.00           H  \nATOM   1447 HG23 THR    94     -25.666 -11.155  -8.289  1.00  0.00           H  \nATOM   1448  OG1 THR    94     -26.224 -10.918  -5.880  1.00  0.00           O  \nATOM   1449  HG1 THR    94     -26.163 -10.405  -5.062  1.00  0.00           H  \nATOM   1450  C   THR    94     -23.751 -10.582  -4.216  1.00  0.00           C  \nATOM   1451  O   THR    94     -24.749 -10.239  -3.529  1.00  0.00           O  \nATOM   1452  N   ILE    95     -22.510 -10.090  -3.931  1.00  0.00           N  \nATOM   1453  H   ILE    95     -21.716 -10.293  -4.542  1.00  0.00           H  \nATOM   1454  CA  ILE    95     -22.297  -9.283  -2.683  1.00  0.00           C  \nATOM   1455  HA  ILE    95     -23.070  -9.608  -1.967  1.00  0.00           H  \nATOM   1456  CB  ILE    95     -20.847  -9.610  -2.098  1.00  0.00           C  \nATOM   1457  HB  ILE    95     -20.706 -10.620  -2.139  1.00  0.00           H  \nATOM   1458  CG2 ILE    95     -19.761  -8.900  -2.950  1.00  0.00           C  \nATOM   1459 HG21 ILE    95     -19.747  -7.819  -2.701  1.00  0.00           H  \nATOM   1460 HG22 ILE    95     -18.780  -9.208  -2.718  1.00  0.00           H  \nATOM   1461 HG23 ILE    95     -19.931  -8.925  -4.026  1.00  0.00           H  \nATOM   1462  CG1 ILE    95     -20.560  -9.190  -0.634  1.00  0.00           C  \nATOM   1463 HG12 ILE    95     -20.153  -8.115  -0.590  1.00  0.00           H  \nATOM   1464 HG13 ILE    95     -21.485  -9.083  -0.057  1.00  0.00           H  \nATOM   1465  CD1 ILE    95     -19.679 -10.087   0.219  1.00  0.00           C  \nATOM   1466 HD11 ILE    95     -18.650 -10.228  -0.272  1.00  0.00           H  \nATOM   1467 HD12 ILE    95     -19.381  -9.658   1.215  1.00  0.00           H  \nATOM   1468 HD13 ILE    95     -20.081 -11.156   0.373  1.00  0.00           H  \nATOM   1469  C   ILE    95     -22.580  -7.730  -2.809  1.00  0.00           C  \nATOM   1470  O   ILE    95     -22.947  -7.064  -1.827  1.00  0.00           O  \nATOM   1471  N   LEU    96     -22.519  -7.074  -3.960  1.00  0.00           N  \nATOM   1472  H   LEU    96     -22.263  -7.608  -4.780  1.00  0.00           H  \nATOM   1473  CA  LEU    96     -22.724  -5.628  -4.203  1.00  0.00           C  \nATOM   1474  HA  LEU    96     -23.472  -5.221  -3.499  1.00  0.00           H  \nATOM   1475  CB  LEU    96     -21.400  -4.887  -3.957  1.00  0.00           C  \nATOM   1476  HB2 LEU    96     -20.872  -5.519  -3.292  1.00  0.00           H  \nATOM   1477  HB3 LEU    96     -20.710  -4.794  -4.786  1.00  0.00           H  \nATOM   1478  CG  LEU    96     -21.644  -3.476  -3.338  1.00  0.00           C  \nATOM   1479  HG  LEU    96     -22.197  -3.646  -2.359  1.00  0.00           H  \nATOM   1480  CD1 LEU    96     -20.339  -2.689  -2.948  1.00  0.00           C  \nATOM   1481 HD11 LEU    96     -20.054  -1.864  -3.606  1.00  0.00           H  \nATOM   1482 HD12 LEU    96     -20.444  -2.207  -1.978  1.00  0.00           H  \nATOM   1483 HD13 LEU    96     -19.488  -3.367  -2.717  1.00  0.00           H  \nATOM   1484  CD2 LEU    96     -22.502  -2.597  -4.242  1.00  0.00           C  \nATOM   1485 HD21 LEU    96     -22.733  -1.657  -3.794  1.00  0.00           H  \nATOM   1486 HD22 LEU    96     -21.985  -2.301  -5.109  1.00  0.00           H  \nATOM   1487 HD23 LEU    96     -23.450  -3.027  -4.487  1.00  0.00           H  \nATOM   1488  C   LEU    96     -23.287  -5.313  -5.633  1.00  0.00           C  \nATOM   1489  O   LEU    96     -22.633  -4.581  -6.408  1.00  0.00           O  \nATOM   1490  N   GLY    97     -24.131  -6.166  -6.216  1.00  0.00           N  \nATOM   1491  H   GLY    97     -24.599  -6.849  -5.639  1.00  0.00           H  \nATOM   1492  CA  GLY    97     -24.437  -6.233  -7.656  1.00  0.00           C  \nATOM   1493  HA2 GLY    97     -25.403  -6.634  -7.756  1.00  0.00           H  \nATOM   1494  HA3 GLY    97     -24.676  -5.218  -8.048  1.00  0.00           H  \nATOM   1495  C   GLY    97     -23.420  -7.090  -8.490  1.00  0.00           C  \nATOM   1496  O   GLY    97     -23.784  -7.881  -9.288  1.00  0.00           O  \nATOM   1497  N   SER    98     -22.114  -6.807  -8.254  1.00  0.00           N  \nATOM   1498  H   SER    98     -21.866  -6.118  -7.582  1.00  0.00           H  \nATOM   1499  CA  SER    98     -20.996  -7.556  -8.767  1.00  0.00           C  \nATOM   1500  HA  SER    98     -21.110  -7.658  -9.826  1.00  0.00           H  \nATOM   1501  CB  SER    98     -19.675  -6.811  -8.440  1.00  0.00           C  \nATOM   1502  HB2 SER    98     -19.787  -5.922  -9.036  1.00  0.00           H  \nATOM   1503  HB3 SER    98     -19.724  -6.688  -7.297  1.00  0.00           H  \nATOM   1504  OG  SER    98     -18.542  -7.514  -8.830  1.00  0.00           O  \nATOM   1505  HG  SER    98     -17.878  -7.456  -8.041  1.00  0.00           H  \nATOM   1506  C   SER    98     -20.784  -8.936  -8.131  1.00  0.00           C  \nATOM   1507  O   SER    98     -21.165  -9.153  -6.966  1.00  0.00           O  \nATOM   1508  N   THR    99     -20.528  -9.969  -8.940  1.00  0.00           N  \nATOM   1509  H   THR    99     -20.523  -9.655  -9.877  1.00  0.00           H  \nATOM   1510  CA  THR    99     -20.146 -11.416  -8.617  1.00  0.00           C  \nATOM   1511  HA  THR    99     -20.913 -11.934  -7.981  1.00  0.00           H  \nATOM   1512  CB  THR    99     -20.072 -12.246  -9.929  1.00  0.00           C  \nATOM   1513  HB  THR    99     -19.550 -13.153  -9.734  1.00  0.00           H  \nATOM   1514  CG2 THR    99     -21.406 -12.437 -10.708  1.00  0.00           C  \nATOM   1515 HG21 THR    99     -21.309 -13.085 -11.585  1.00  0.00           H  \nATOM   1516 HG22 THR    99     -22.089 -12.885  -9.959  1.00  0.00           H  \nATOM   1517 HG23 THR    99     -21.711 -11.402 -11.032  1.00  0.00           H  \nATOM   1518  OG1 THR    99     -19.201 -11.557 -10.743  1.00  0.00           O  \nATOM   1519  HG1 THR    99     -18.649 -12.113 -11.354  1.00  0.00           H  \nATOM   1520  C   THR    99     -18.745 -11.430  -7.939  1.00  0.00           C  \nATOM   1521  O   THR    99     -18.374 -12.561  -7.613  1.00  0.00           O  \nATOM   1522  N   ILE   100     -17.902 -10.344  -7.857  1.00  0.00           N  \nATOM   1523  H   ILE   100     -18.296  -9.462  -8.288  1.00  0.00           H  \nATOM   1524  CA  ILE   100     -16.497 -10.314  -7.254  1.00  0.00           C  \nATOM   1525  HA  ILE   100     -16.377 -11.312  -6.862  1.00  0.00           H  \nATOM   1526  CB  ILE   100     -15.416 -10.240  -8.302  1.00  0.00           C  \nATOM   1527  HB  ILE   100     -15.325  -9.234  -8.711  1.00  0.00           H  \nATOM   1528  CG2 ILE   100     -14.106 -10.745  -7.630  1.00  0.00           C  \nATOM   1529 HG21 ILE   100     -13.307 -10.596  -8.343  1.00  0.00           H  \nATOM   1530 HG22 ILE   100     -13.762 -10.209  -6.719  1.00  0.00           H  \nATOM   1531 HG23 ILE   100     -14.206 -11.774  -7.397  1.00  0.00           H  \nATOM   1532  CG1 ILE   100     -15.722 -11.107  -9.578  1.00  0.00           C  \nATOM   1533 HG12 ILE   100     -15.757 -12.123  -9.229  1.00  0.00           H  \nATOM   1534 HG13 ILE   100     -16.700 -10.802  -9.888  1.00  0.00           H  \nATOM   1535  CD1 ILE   100     -14.783 -11.162 -10.744  1.00  0.00           C  \nATOM   1536 HD11 ILE   100     -14.636 -10.190 -11.271  1.00  0.00           H  \nATOM   1537 HD12 ILE   100     -13.895 -11.607 -10.254  1.00  0.00           H  \nATOM   1538 HD13 ILE   100     -15.054 -11.840 -11.554  1.00  0.00           H  \nATOM   1539  C   ILE   100     -16.437  -9.218  -6.239  1.00  0.00           C  \nATOM   1540  O   ILE   100     -16.729  -8.072  -6.591  1.00  0.00           O  \nATOM   1541  N   LEU   101     -15.743  -9.370  -5.113  1.00  0.00           N  \nATOM   1542  H   LEU   101     -15.149 -10.159  -4.948  1.00  0.00           H  \nATOM   1543  CA  LEU   101     -15.396  -8.250  -4.217  1.00  0.00           C  \nATOM   1544  HA  LEU   101     -16.160  -7.476  -4.273  1.00  0.00           H  \nATOM   1545  CB  LEU   101     -15.414  -8.842  -2.757  1.00  0.00           C  \nATOM   1546  HB2 LEU   101     -15.579  -8.043  -1.965  1.00  0.00           H  \nATOM   1547  HB3 LEU   101     -16.314  -9.399  -2.708  1.00  0.00           H  \nATOM   1548  CG  LEU   101     -14.299  -9.790  -2.274  1.00  0.00           C  \nATOM   1549  HG  LEU   101     -14.056 -10.513  -3.041  1.00  0.00           H  \nATOM   1550  CD1 LEU   101     -12.906  -9.158  -1.965  1.00  0.00           C  \nATOM   1551 HD11 LEU   101     -12.182  -9.529  -2.714  1.00  0.00           H  \nATOM   1552 HD12 LEU   101     -12.924  -8.148  -2.303  1.00  0.00           H  \nATOM   1553 HD13 LEU   101     -12.492  -9.195  -1.008  1.00  0.00           H  \nATOM   1554  CD2 LEU   101     -14.692 -10.663  -1.087  1.00  0.00           C  \nATOM   1555 HD21 LEU   101     -15.057 -10.042  -0.345  1.00  0.00           H  \nATOM   1556 HD22 LEU   101     -15.465 -11.375  -1.454  1.00  0.00           H  \nATOM   1557 HD23 LEU   101     -13.848 -11.234  -0.742  1.00  0.00           H  \nATOM   1558  C   LEU   101     -13.980  -7.658  -4.600  1.00  0.00           C  \nATOM   1559  O   LEU   101     -13.191  -8.482  -5.110  1.00  0.00           O  \nATOM   1560  N   GLU   102     -13.844  -6.299  -4.570  1.00  0.00           N  \nATOM   1561  H   GLU   102     -14.616  -5.825  -4.156  1.00  0.00           H  \nATOM   1562  CA  GLU   102     -12.842  -5.447  -5.224  1.00  0.00           C  \nATOM   1563  HA  GLU   102     -12.140  -6.065  -5.790  1.00  0.00           H  \nATOM   1564  CB  GLU   102     -13.527  -4.454  -6.164  1.00  0.00           C  \nATOM   1565  HB2 GLU   102     -14.466  -4.162  -5.618  1.00  0.00           H  \nATOM   1566  HB3 GLU   102     -12.919  -3.547  -6.191  1.00  0.00           H  \nATOM   1567  CG  GLU   102     -13.783  -5.070  -7.544  1.00  0.00           C  \nATOM   1568  HG2 GLU   102     -14.450  -5.925  -7.514  1.00  0.00           H  \nATOM   1569  HG3 GLU   102     -14.228  -4.345  -8.218  1.00  0.00           H  \nATOM   1570  CD  GLU   102     -12.504  -5.399  -8.348  1.00  0.00           C  \nATOM   1571  OE1 GLU   102     -11.365  -5.069  -7.931  1.00  0.00           O  \nATOM   1572  OE2 GLU   102     -12.561  -6.318  -9.170  1.00  0.00           O  \nATOM   1573  C   GLU   102     -11.952  -4.641  -4.267  1.00  0.00           C  \nATOM   1574  O   GLU   102     -12.304  -4.327  -3.108  1.00  0.00           O  \nATOM   1575  N   ASP   103     -10.753  -4.492  -4.847  1.00  0.00           N  \nATOM   1576  H   ASP   103     -10.804  -4.707  -5.817  1.00  0.00           H  \nATOM   1577  CA  ASP   103      -9.554  -3.803  -4.264  1.00  0.00           C  \nATOM   1578  HA  ASP   103      -9.934  -3.260  -3.425  1.00  0.00           H  \nATOM   1579  CB  ASP   103      -8.472  -4.745  -3.777  1.00  0.00           C  \nATOM   1580  HB2 ASP   103      -8.006  -4.280  -2.866  1.00  0.00           H  \nATOM   1581  HB3 ASP   103      -8.851  -5.683  -3.324  1.00  0.00           H  \nATOM   1582  CG  ASP   103      -7.309  -5.091  -4.753  1.00  0.00           C  \nATOM   1583  OD1 ASP   103      -7.692  -5.335  -5.879  1.00  0.00           O  \nATOM   1584  OD2 ASP   103      -6.155  -5.359  -4.314  1.00  0.00           O  \nATOM   1585  C   ASP   103      -9.029  -2.749  -5.179  1.00  0.00           C  \nATOM   1586  O   ASP   103      -8.545  -1.744  -4.733  1.00  0.00           O  \nATOM   1587  N   GLU   104      -9.511  -2.713  -6.407  1.00  0.00           N  \nATOM   1588  H   GLU   104      -9.922  -3.604  -6.701  1.00  0.00           H  \nATOM   1589  CA  GLU   104      -9.093  -1.714  -7.364  1.00  0.00           C  \nATOM   1590  HA  GLU   104      -8.008  -1.707  -7.358  1.00  0.00           H  \nATOM   1591  CB  GLU   104      -9.678  -2.250  -8.697  1.00  0.00           C  \nATOM   1592  HB2 GLU   104      -9.216  -3.271  -8.842  1.00  0.00           H  \nATOM   1593  HB3 GLU   104     -10.767  -2.380  -8.574  1.00  0.00           H  \nATOM   1594  CG  GLU   104      -9.527  -1.370  -9.890  1.00  0.00           C  \nATOM   1595  HG2 GLU   104     -10.127  -0.489  -9.653  1.00  0.00           H  \nATOM   1596  HG3 GLU   104      -8.477  -1.079  -9.981  1.00  0.00           H  \nATOM   1597  CD  GLU   104     -10.074  -1.936 -11.256  1.00  0.00           C  \nATOM   1598  OE1 GLU   104      -9.231  -2.537 -12.017  1.00  0.00           O  \nATOM   1599  OE2 GLU   104     -11.279  -1.907 -11.567  1.00  0.00           O  \nATOM   1600  C   GLU   104      -9.578  -0.256  -6.874  1.00  0.00           C  \nATOM   1601  O   GLU   104      -9.081   0.723  -7.386  1.00  0.00           O  \nATOM   1602  N   PHE   105     -10.775  -0.256  -6.266  1.00  0.00           N  \nATOM   1603  H   PHE   105     -11.198  -1.130  -5.982  1.00  0.00           H  \nATOM   1604  CA  PHE   105     -11.487   0.919  -5.815  1.00  0.00           C  \nATOM   1605  HA  PHE   105     -11.617   1.505  -6.680  1.00  0.00           H  \nATOM   1606  CB  PHE   105     -12.847   0.658  -5.229  1.00  0.00           C  \nATOM   1607  HB2 PHE   105     -12.792  -0.032  -4.369  1.00  0.00           H  \nATOM   1608  HB3 PHE   105     -13.227   1.634  -4.805  1.00  0.00           H  \nATOM   1609  CG  PHE   105     -13.953   0.256  -6.236  1.00  0.00           C  \nATOM   1610  CD1 PHE   105     -13.735  -0.342  -7.516  1.00  0.00           C  \nATOM   1611  HD1 PHE   105     -12.787  -0.747  -7.813  1.00  0.00           H  \nATOM   1612  CE1 PHE   105     -14.843  -0.471  -8.378  1.00  0.00           C  \nATOM   1613  HE1 PHE   105     -14.785  -1.078  -9.281  1.00  0.00           H  \nATOM   1614  CZ  PHE   105     -16.128  -0.002  -8.030  1.00  0.00           C  \nATOM   1615  HZ  PHE   105     -16.923  -0.267  -8.735  1.00  0.00           H  \nATOM   1616  CE2 PHE   105     -16.393   0.513  -6.789  1.00  0.00           C  \nATOM   1617  HE2 PHE   105     -17.405   0.577  -6.423  1.00  0.00           H  \nATOM   1618  CD2 PHE   105     -15.289   0.654  -5.933  1.00  0.00           C  \nATOM   1619  HD2 PHE   105     -15.487   1.090  -4.959  1.00  0.00           H  \nATOM   1620  C   PHE   105     -10.716   1.843  -4.883  1.00  0.00           C  \nATOM   1621  O   PHE   105     -10.228   1.366  -3.830  1.00  0.00           O  \nATOM   1622  N   THR   106     -10.558   3.160  -5.278  1.00  0.00           N  \nATOM   1623  H   THR   106     -11.030   3.414  -6.133  1.00  0.00           H  \nATOM   1624  CA  THR   106      -9.881   4.113  -4.471  1.00  0.00           C  \nATOM   1625  HA  THR   106      -8.856   3.819  -4.249  1.00  0.00           H  \nATOM   1626  CB  THR   106      -9.591   5.344  -5.331  1.00  0.00           C  \nATOM   1627  HB  THR   106      -9.168   4.966  -6.285  1.00  0.00           H  \nATOM   1628  CG2 THR   106     -10.780   6.256  -5.761  1.00  0.00           C  \nATOM   1629 HG21 THR   106     -10.442   7.129  -6.310  1.00  0.00           H  \nATOM   1630 HG22 THR   106     -11.413   5.691  -6.385  1.00  0.00           H  \nATOM   1631 HG23 THR   106     -11.302   6.558  -4.906  1.00  0.00           H  \nATOM   1632  OG1 THR   106      -8.799   6.137  -4.476  1.00  0.00           O  \nATOM   1633  HG1 THR   106      -8.317   6.842  -5.007  1.00  0.00           H  \nATOM   1634  C   THR   106     -10.779   4.434  -3.182  1.00  0.00           C  \nATOM   1635  O   THR   106     -12.031   4.503  -3.319  1.00  0.00           O  \nATOM   1636  N   PRO   107     -10.310   4.300  -1.963  1.00  0.00           N  \nATOM   1637  CD  PRO   107      -8.961   3.966  -1.703  1.00  0.00           C  \nATOM   1638  HD2 PRO   107      -8.395   4.632  -2.279  1.00  0.00           H  \nATOM   1639  HD3 PRO   107      -8.722   2.956  -1.989  1.00  0.00           H  \nATOM   1640  CG  PRO   107      -8.730   4.340  -0.248  1.00  0.00           C  \nATOM   1641  HG2 PRO   107      -8.532   5.427  -0.205  1.00  0.00           H  \nATOM   1642  HG3 PRO   107      -7.940   3.843   0.214  1.00  0.00           H  \nATOM   1643  CB  PRO   107     -10.108   4.010   0.222  1.00  0.00           C  \nATOM   1644  HB2 PRO   107     -10.144   4.443   1.219  1.00  0.00           H  \nATOM   1645  HB3 PRO   107     -10.287   2.956   0.331  1.00  0.00           H  \nATOM   1646  CA  PRO   107     -11.067   4.589  -0.769  1.00  0.00           C  \nATOM   1647  HA  PRO   107     -11.976   3.984  -0.679  1.00  0.00           H  \nATOM   1648  C   PRO   107     -11.381   6.072  -0.466  1.00  0.00           C  \nATOM   1649  O   PRO   107     -10.823   6.958  -1.088  1.00  0.00           O  \nATOM   1650  N   PHE   108     -11.995   6.373   0.698  1.00  0.00           N  \nATOM   1651  H   PHE   108     -12.171   5.601   1.371  1.00  0.00           H  \nATOM   1652  CA  PHE   108     -12.303   7.815   1.131  1.00  0.00           C  \nATOM   1653  HA  PHE   108     -12.769   7.724   2.113  1.00  0.00           H  \nATOM   1654  CB  PHE   108     -11.049   8.662   1.368  1.00  0.00           C  \nATOM   1655  HB2 PHE   108     -10.212   7.931   1.459  1.00  0.00           H  \nATOM   1656  HB3 PHE   108     -10.773   9.325   0.486  1.00  0.00           H  \nATOM   1657  CG  PHE   108     -11.153   9.541   2.604  1.00  0.00           C  \nATOM   1658  CD1 PHE   108     -11.024   8.946   3.880  1.00  0.00           C  \nATOM   1659  HD1 PHE   108     -10.823   7.889   3.993  1.00  0.00           H  \nATOM   1660  CE1 PHE   108     -10.887   9.740   5.069  1.00  0.00           C  \nATOM   1661  HE1 PHE   108     -10.658   9.284   6.013  1.00  0.00           H  \nATOM   1662  CZ  PHE   108     -10.874  11.126   4.938  1.00  0.00           C  \nATOM   1663  HZ  PHE   108     -10.625  11.866   5.710  1.00  0.00           H  \nATOM   1664  CE2 PHE   108     -11.039  11.689   3.659  1.00  0.00           C  \nATOM   1665  HE2 PHE   108     -10.953  12.733   3.507  1.00  0.00           H  \nATOM   1666  CD2 PHE   108     -11.132  10.904   2.497  1.00  0.00           C  \nATOM   1667  HD2 PHE   108     -11.235  11.395   1.587  1.00  0.00           H  \nATOM   1668  C   PHE   108     -13.389   8.616   0.280  1.00  0.00           C  \nATOM   1669  O   PHE   108     -14.031   9.436   0.846  1.00  0.00           O  \nATOM   1670  N   ASP   109     -13.840   8.213  -0.912  1.00  0.00           N  \nATOM   1671  H   ASP   109     -13.196   7.658  -1.398  1.00  0.00           H  \nATOM   1672  CA  ASP   109     -14.863   8.894  -1.685  1.00  0.00           C  \nATOM   1673  HA  ASP   109     -14.655   9.969  -1.696  1.00  0.00           H  \nATOM   1674  CB  ASP   109     -14.832   8.444  -3.266  1.00  0.00           C  \nATOM   1675  HB2 ASP   109     -13.804   8.471  -3.610  1.00  0.00           H  \nATOM   1676  HB3 ASP   109     -15.216   7.469  -3.303  1.00  0.00           H  \nATOM   1677  CG  ASP   109     -15.593   9.377  -4.156  1.00  0.00           C  \nATOM   1678  OD1 ASP   109     -16.443   8.869  -4.955  1.00  0.00           O  \nATOM   1679  OD2 ASP   109     -15.696  10.580  -3.796  1.00  0.00           O  \nATOM   1680  C   ASP   109     -16.287   8.834  -1.088  1.00  0.00           C  \nATOM   1681  O   ASP   109     -17.128   9.685  -1.332  1.00  0.00           O  \nATOM   1682  N   VAL   110     -16.518   7.889  -0.247  1.00  0.00           N  \nATOM   1683  H   VAL   110     -15.766   7.249   0.001  1.00  0.00           H  \nATOM   1684  CA  VAL   110     -17.883   7.671   0.327  1.00  0.00           C  \nATOM   1685  HA  VAL   110     -18.575   8.181  -0.351  1.00  0.00           H  \nATOM   1686  CB  VAL   110     -18.250   6.121   0.359  1.00  0.00           C  \nATOM   1687  HB  VAL   110     -19.159   6.040   0.908  1.00  0.00           H  \nATOM   1688  CG1 VAL   110     -18.654   5.629  -1.067  1.00  0.00           C  \nATOM   1689 HG11 VAL   110     -18.926   4.561  -1.144  1.00  0.00           H  \nATOM   1690 HG12 VAL   110     -19.411   6.211  -1.564  1.00  0.00           H  \nATOM   1691 HG13 VAL   110     -17.711   5.716  -1.656  1.00  0.00           H  \nATOM   1692  CG2 VAL   110     -17.196   5.170   0.926  1.00  0.00           C  \nATOM   1693 HG21 VAL   110     -16.436   5.075   0.153  1.00  0.00           H  \nATOM   1694 HG22 VAL   110     -16.635   5.453   1.874  1.00  0.00           H  \nATOM   1695 HG23 VAL   110     -17.658   4.187   1.197  1.00  0.00           H  \nATOM   1696  C   VAL   110     -18.008   8.398   1.719  1.00  0.00           C  \nATOM   1697  O   VAL   110     -19.137   8.372   2.270  1.00  0.00           O  \nATOM   1698  N   VAL   111     -17.040   9.108   2.146  1.00  0.00           N  \nATOM   1699  H   VAL   111     -16.290   9.244   1.500  1.00  0.00           H  \nATOM   1700  CA  VAL   111     -17.136   9.990   3.304  1.00  0.00           C  \nATOM   1701  HA  VAL   111     -17.711   9.368   3.999  1.00  0.00           H  \nATOM   1702  CB  VAL   111     -15.782  10.325   3.898  1.00  0.00           C  \nATOM   1703  HB  VAL   111     -15.810  10.694   4.897  1.00  0.00           H  \nATOM   1704  CG1 VAL   111     -14.976   8.990   4.077  1.00  0.00           C  \nATOM   1705 HG11 VAL   111     -14.657   8.520   3.157  1.00  0.00           H  \nATOM   1706 HG12 VAL   111     -14.116   9.137   4.772  1.00  0.00           H  \nATOM   1707 HG13 VAL   111     -15.617   8.273   4.612  1.00  0.00           H  \nATOM   1708  CG2 VAL   111     -15.078  11.363   3.096  1.00  0.00           C  \nATOM   1709 HG21 VAL   111     -13.968  11.301   3.259  1.00  0.00           H  \nATOM   1710 HG22 VAL   111     -15.271  11.145   1.991  1.00  0.00           H  \nATOM   1711 HG23 VAL   111     -15.464  12.402   3.283  1.00  0.00           H  \nATOM   1712  C   VAL   111     -18.023  11.278   3.112  1.00  0.00           C  \nATOM   1713  O   VAL   111     -18.311  11.947   4.092  1.00  0.00           O  \nATOM   1714  N   ARG   112     -18.391  11.561   1.890  1.00  0.00           N  \nATOM   1715  H   ARG   112     -18.138  10.879   1.214  1.00  0.00           H  \nATOM   1716  CA  ARG   112     -19.309  12.573   1.431  1.00  0.00           C  \nATOM   1717  HA  ARG   112     -18.973  13.533   1.797  1.00  0.00           H  \nATOM   1718  CB  ARG   112     -19.361  12.589  -0.180  1.00  0.00           C  \nATOM   1719  HB2 ARG   112     -19.494  11.539  -0.575  1.00  0.00           H  \nATOM   1720  HB3 ARG   112     -20.148  13.236  -0.552  1.00  0.00           H  \nATOM   1721  CG  ARG   112     -18.051  13.065  -0.765  1.00  0.00           C  \nATOM   1722  HG2 ARG   112     -17.830  14.106  -0.347  1.00  0.00           H  \nATOM   1723  HG3 ARG   112     -17.244  12.327  -0.453  1.00  0.00           H  \nATOM   1724  CD  ARG   112     -17.988  13.371  -2.302  1.00  0.00           C  \nATOM   1725  HD2 ARG   112     -18.861  13.995  -2.488  1.00  0.00           H  \nATOM   1726  HD3 ARG   112     -17.081  13.991  -2.590  1.00  0.00           H  \nATOM   1727  NE  ARG   112     -17.960  12.110  -3.127  1.00  0.00           N  \nATOM   1728  HE  ARG   112     -17.070  11.673  -3.228  1.00  0.00           H  \nATOM   1729  CZ  ARG   112     -18.957  11.398  -3.568  1.00  0.00           C  \nATOM   1730  NH1 ARG   112     -20.178  11.718  -3.386  1.00  0.00           N  \nATOM   1731 HH11 ARG   112     -20.553  12.574  -2.991  1.00  0.00           H  \nATOM   1732 HH12 ARG   112     -20.750  11.024  -3.907  1.00  0.00           H  \nATOM   1733  NH2 ARG   112     -18.713  10.286  -4.190  1.00  0.00           N  \nATOM   1734 HH21 ARG   112     -17.692  10.065  -4.284  1.00  0.00           H  \nATOM   1735 HH22 ARG   112     -19.446   9.642  -4.367  1.00  0.00           H  \nATOM   1736  C   ARG   112     -20.774  12.406   1.961  1.00  0.00           C  \nATOM   1737  O   ARG   112     -21.186  11.355   2.387  1.00  0.00           O  \nATOM   1738  N   GLN   113     -21.660  13.379   1.668  1.00  0.00           N  \nATOM   1739  H   GLN   113     -21.343  14.243   1.212  1.00  0.00           H  \nATOM   1740  CA  GLN   113     -23.070  13.450   2.099  1.00  0.00           C  \nATOM   1741  HA  GLN   113     -22.978  13.143   3.178  1.00  0.00           H  \nATOM   1742  CB  GLN   113     -23.539  14.890   2.046  1.00  0.00           C  \nATOM   1743  HB2 GLN   113     -23.486  15.267   0.986  1.00  0.00           H  \nATOM   1744  HB3 GLN   113     -24.542  14.901   2.317  1.00  0.00           H  \nATOM   1745  CG  GLN   113     -22.969  15.925   3.075  1.00  0.00           C  \nATOM   1746  HG2 GLN   113     -23.554  16.833   2.944  1.00  0.00           H  \nATOM   1747  HG3 GLN   113     -23.286  15.642   4.039  1.00  0.00           H  \nATOM   1748  CD  GLN   113     -21.464  16.246   3.045  1.00  0.00           C  \nATOM   1749  OE1 GLN   113     -20.887  16.546   1.992  1.00  0.00           O  \nATOM   1750  NE2 GLN   113     -20.713  16.178   4.135  1.00  0.00           N  \nATOM   1751 HE21 GLN   113     -21.060  15.999   5.063  1.00  0.00           H  \nATOM   1752 HE22 GLN   113     -19.735  16.549   4.044  1.00  0.00           H  \nATOM   1753  C   GLN   113     -24.033  12.481   1.440  1.00  0.00           C  \nATOM   1754  O   GLN   113     -24.974  12.884   0.831  1.00  0.00           O  \nATOM   1755  N   CYS   114     -23.647  11.175   1.358  1.00  0.00           N  \nATOM   1756  H   CYS   114     -22.861  10.844   1.939  1.00  0.00           H  \nATOM   1757  CA  CYS   114     -24.303  10.181   0.583  1.00  0.00           C  \nATOM   1758  HA  CYS   114     -24.605  10.642  -0.361  1.00  0.00           H  \nATOM   1759  CB  CYS   114     -23.315   8.917   0.316  1.00  0.00           C  \nATOM   1760  HB2 CYS   114     -23.297   8.201   1.142  1.00  0.00           H  \nATOM   1761  HB3 CYS   114     -23.687   8.506  -0.652  1.00  0.00           H  \nATOM   1762  SG  CYS   114     -21.618   9.480  -0.063  1.00  0.00           S  \nATOM   1763  HG  CYS   114     -20.985   9.526   1.118  1.00  0.00           H  \nATOM   1764  C   CYS   114     -25.691   9.709   1.099  1.00  0.00           C  \nATOM   1765  O   CYS   114     -25.799   8.572   1.642  1.00  0.00           O  \nATOM   1766  N   SER   115     -26.526  10.676   1.501  1.00  0.00           N  \nATOM   1767  H   SER   115     -26.253  11.589   1.164  1.00  0.00           H  \nATOM   1768  CA  SER   115     -27.626  10.633   2.491  1.00  0.00           C  \nATOM   1769  HA  SER   115     -27.284  10.135   3.345  1.00  0.00           H  \nATOM   1770  CB  SER   115     -28.048  12.024   2.926  1.00  0.00           C  \nATOM   1771  HB2 SER   115     -28.429  12.536   1.993  1.00  0.00           H  \nATOM   1772  HB3 SER   115     -28.874  11.991   3.677  1.00  0.00           H  \nATOM   1773  OG  SER   115     -26.992  12.830   3.431  1.00  0.00           O  \nATOM   1774  HG  SER   115     -27.437  13.293   4.129  1.00  0.00           H  \nATOM   1775  C   SER   115     -28.889   9.762   2.115  1.00  0.00           C  \nATOM   1776  O   SER   115     -29.965  10.320   1.823  1.00  0.00           O  \nATOM   1777  N   GLY   116     -28.560   8.689   1.417  1.00  0.00           N  \nATOM   1778  H   GLY   116     -27.574   8.396   1.439  1.00  0.00           H  \nATOM   1779  CA  GLY   116     -29.587   7.769   0.820  1.00  0.00           C  \nATOM   1780  HA2 GLY   116     -28.953   6.884   0.579  1.00  0.00           H  \nATOM   1781  HA3 GLY   116     -30.355   7.677   1.528  1.00  0.00           H  \nATOM   1782  C   GLY   116     -30.201   8.156  -0.565  1.00  0.00           C  \nATOM   1783  O   GLY   116     -30.955   7.367  -1.152  1.00  0.00           O  \nATOM   1784  N   VAL   117     -29.855   9.341  -1.193  1.00  0.00           N  \nATOM   1785  H   VAL   117     -29.365   9.996  -0.668  1.00  0.00           H  \nATOM   1786  CA  VAL   117     -30.371   9.822  -2.496  1.00  0.00           C  \nATOM   1787  HA  VAL   117     -31.427   9.420  -2.548  1.00  0.00           H  \nATOM   1788  CB  VAL   117     -30.579  11.328  -2.652  1.00  0.00           C  \nATOM   1789  HB  VAL   117     -30.796  11.515  -3.641  1.00  0.00           H  \nATOM   1790  CG1 VAL   117     -31.717  11.771  -1.778  1.00  0.00           C  \nATOM   1791 HG11 VAL   117     -32.004  12.816  -1.858  1.00  0.00           H  \nATOM   1792 HG12 VAL   117     -32.585  11.335  -2.239  1.00  0.00           H  \nATOM   1793 HG13 VAL   117     -31.600  11.441  -0.740  1.00  0.00           H  \nATOM   1794  CG2 VAL   117     -29.357  12.218  -2.295  1.00  0.00           C  \nATOM   1795 HG21 VAL   117     -28.481  11.893  -2.795  1.00  0.00           H  \nATOM   1796 HG22 VAL   117     -29.434  13.257  -2.512  1.00  0.00           H  \nATOM   1797 HG23 VAL   117     -29.208  12.175  -1.186  1.00  0.00           H  \nATOM   1798  C   VAL   117     -29.483   9.367  -3.656  1.00  0.00           C  \nATOM   1799  O   VAL   117     -29.952   9.036  -4.782  1.00  0.00           O  \nATOM   1800  N   THR   118     -28.141   9.572  -3.465  1.00  0.00           N  \nATOM   1801  H   THR   118     -27.932   9.888  -2.538  1.00  0.00           H  \nATOM   1802  CA  THR   118     -27.025   9.398  -4.381  1.00  0.00           C  \nATOM   1803  HA  THR   118     -27.283   8.571  -5.059  1.00  0.00           H  \nATOM   1804  CB  THR   118     -26.728  10.570  -5.309  1.00  0.00           C  \nATOM   1805  HB  THR   118     -25.763  10.385  -5.688  1.00  0.00           H  \nATOM   1806  CG2 THR   118     -27.615  10.693  -6.470  1.00  0.00           C  \nATOM   1807 HG21 THR   118     -27.577   9.755  -6.999  1.00  0.00           H  \nATOM   1808 HG22 THR   118     -28.683  10.990  -6.111  1.00  0.00           H  \nATOM   1809 HG23 THR   118     -27.175  11.437  -7.071  1.00  0.00           H  \nATOM   1810  OG1 THR   118     -26.566  11.835  -4.661  1.00  0.00           O  \nATOM   1811  HG1 THR   118     -26.758  12.496  -5.352  1.00  0.00           H  \nATOM   1812  C   THR   118     -25.701   8.974  -3.655  1.00  0.00           C  \nATOM   1813  O   THR   118     -25.579   9.093  -2.447  1.00  0.00           O  \nATOM   1814  N   PHE   119     -24.661   8.579  -4.431  1.00  0.00           N  \nATOM   1815  H   PHE   119     -24.753   8.447  -5.426  1.00  0.00           H  \nATOM   1816  CA  PHE   119     -23.379   8.180  -3.870  1.00  0.00           C  \nATOM   1817  HA  PHE   119     -23.178   8.762  -2.897  1.00  0.00           H  \nATOM   1818  CB  PHE   119     -23.305   6.593  -3.606  1.00  0.00           C  \nATOM   1819  HB2 PHE   119     -23.138   6.029  -4.529  1.00  0.00           H  \nATOM   1820  HB3 PHE   119     -22.407   6.357  -2.969  1.00  0.00           H  \nATOM   1821  CG  PHE   119     -24.507   6.040  -2.855  1.00  0.00           C  \nATOM   1822  CD1 PHE   119     -24.522   5.755  -1.467  1.00  0.00           C  \nATOM   1823  HD1 PHE   119     -23.626   5.893  -0.859  1.00  0.00           H  \nATOM   1824  CE1 PHE   119     -25.669   5.228  -0.842  1.00  0.00           C  \nATOM   1825  HE1 PHE   119     -25.679   5.018   0.263  1.00  0.00           H  \nATOM   1826  CZ  PHE   119     -26.758   4.923  -1.621  1.00  0.00           C  \nATOM   1827  HZ  PHE   119     -27.592   4.442  -1.164  1.00  0.00           H  \nATOM   1828  CE2 PHE   119     -26.798   5.242  -2.950  1.00  0.00           C  \nATOM   1829  HE2 PHE   119     -27.582   4.878  -3.594  1.00  0.00           H  \nATOM   1830  CD2 PHE   119     -25.718   5.835  -3.553  1.00  0.00           C  \nATOM   1831  HD2 PHE   119     -25.726   5.897  -4.609  1.00  0.00           H  \nATOM   1832  C   PHE   119     -22.128   8.483  -4.761  1.00  0.00           C  \nATOM   1833  O   PHE   119     -21.189   9.186  -4.327  1.00  0.00           O  \nATOM   1834  N   GLN   120     -22.041   8.056  -6.087  1.00  0.00           N  \nATOM   1835  H   GLN   120     -22.893   7.635  -6.399  1.00  0.00           H  \nATOM   1836  CA  GLN   120     -20.932   8.449  -7.044  1.00  0.00           C  \nATOM   1837  HA  GLN   120     -20.729   9.503  -6.776  1.00  0.00           H  \nATOM   1838  CB  GLN   120     -19.585   7.715  -6.825  1.00  0.00           C  \nATOM   1839  HB2 GLN   120     -18.943   8.100  -7.615  1.00  0.00           H  \nATOM   1840  HB3 GLN   120     -19.263   7.938  -5.853  1.00  0.00           H  \nATOM   1841  CG  GLN   120     -19.765   6.184  -6.923  1.00  0.00           C  \nATOM   1842  HG2 GLN   120     -20.419   5.873  -6.078  1.00  0.00           H  \nATOM   1843  HG3 GLN   120     -20.152   5.954  -7.852  1.00  0.00           H  \nATOM   1844  CD  GLN   120     -18.539   5.368  -6.762  1.00  0.00           C  \nATOM   1845  OE1 GLN   120     -18.490   4.117  -6.668  1.00  0.00           O  \nATOM   1846  NE2 GLN   120     -17.318   5.942  -6.567  1.00  0.00           N  \nATOM   1847 HE21 GLN   120     -17.261   6.948  -6.278  1.00  0.00           H  \nATOM   1848 HE22 GLN   120     -16.556   5.320  -6.417  1.00  0.00           H  \nATOM   1849  C   GLN   120     -21.333   8.406  -8.541  1.00  0.00           C  \nATOM   1850  O   GLN   120     -21.341   9.564  -9.120  1.00  0.00           O  \nATOM   1851  OXT GLN   120     -22.012   7.448  -8.960  1.00  0.00           O  \nTER    1852      GLN   120 \nEND   \n",
                    "binary": false
                  }
                ],
                "kwargs": {
                  "name": "nglview.adaptor.PyTrajTrajectory",
                  "defaultRepresentation": true,
                  "ext": "pdb"
                }
              }
            ],
            "_ngl_original_stage_parameters": {
              "impostor": true,
              "quality": "medium",
              "workerDefault": true,
              "sampleLevel": 0,
              "backgroundColor": "white",
              "rotateSpeed": 2,
              "zoomSpeed": 1.2,
              "panSpeed": 1,
              "clipNear": 0,
              "clipFar": 100,
              "clipDist": 10,
              "fogNear": 50,
              "fogFar": 100,
              "cameraFov": 40,
              "cameraEyeSep": 0.3,
              "cameraType": "perspective",
              "lightColor": 14540253,
              "lightIntensity": 1,
              "ambientColor": 14540253,
              "ambientIntensity": 0.2,
              "hoverTimeout": 0,
              "tooltip": true,
              "mousePreset": "default"
            },
            "_ngl_repr_dict": {
              "0": {
                "0": {
                  "type": "cartoon",
                  "params": {
                    "lazy": false,
                    "visible": true,
                    "quality": "high",
                    "aspectRatio": 5,
                    "subdiv": 6,
                    "radialSegments": 20,
                    "tension": null,
                    "capped": true,
                    "smoothSheet": false,
                    "radiusType": "sstruc",
                    "radiusData": {},
                    "radiusSize": 1,
                    "radiusScale": 0.7,
                    "assembly": "default",
                    "defaultAssembly": "",
                    "clipNear": 0,
                    "clipRadius": 0,
                    "clipCenter": {
                      "x": 0,
                      "y": 0,
                      "z": 0
                    },
                    "flatShaded": false,
                    "opacity": 1,
                    "depthWrite": true,
                    "side": "double",
                    "wireframe": false,
                    "colorScheme": "residueindex",
                    "colorScale": "spectral",
                    "colorReverse": true,
                    "colorValue": 9474192,
                    "colorMode": "hcl",
                    "roughness": 0.4,
                    "metalness": 0,
                    "diffuse": 16777215,
                    "diffuseInterior": false,
                    "useInteriorColor": true,
                    "interiorColor": 2236962,
                    "interiorDarkening": 0,
                    "matrix": {
                      "elements": [
                        1,
                        0,
                        0,
                        0,
                        0,
                        1,
                        0,
                        0,
                        0,
                        0,
                        1,
                        0,
                        0,
                        0,
                        0,
                        1
                      ]
                    },
                    "disablePicking": false,
                    "sele": ""
                  }
                },
                "1": {
                  "type": "base",
                  "params": {
                    "lazy": false,
                    "visible": true,
                    "quality": "high",
                    "sphereDetail": 2,
                    "radialSegments": 20,
                    "openEnded": true,
                    "disableImpostor": false,
                    "aspectRatio": 1,
                    "lineOnly": false,
                    "cylinderOnly": false,
                    "bondScale": 0.4,
                    "linewidth": 2,
                    "radiusType": "size",
                    "radiusData": {},
                    "radiusSize": 0.3,
                    "radiusScale": 1,
                    "assembly": "default",
                    "defaultAssembly": "",
                    "clipNear": 0,
                    "clipRadius": 0,
                    "clipCenter": {
                      "x": 0,
                      "y": 0,
                      "z": 0
                    },
                    "flatShaded": false,
                    "opacity": 1,
                    "depthWrite": true,
                    "side": "double",
                    "wireframe": false,
                    "colorScheme": "residueindex",
                    "colorScale": "spectral",
                    "colorReverse": true,
                    "colorValue": 9474192,
                    "colorMode": "hcl",
                    "roughness": 0.4,
                    "metalness": 0,
                    "diffuse": 16777215,
                    "diffuseInterior": false,
                    "useInteriorColor": true,
                    "interiorColor": 2236962,
                    "interiorDarkening": 0,
                    "matrix": {
                      "elements": [
                        1,
                        0,
                        0,
                        0,
                        0,
                        1,
                        0,
                        0,
                        0,
                        0,
                        1,
                        0,
                        0,
                        0,
                        0,
                        1
                      ]
                    },
                    "disablePicking": false,
                    "sele": ""
                  }
                },
                "2": {
                  "type": "ball+stick",
                  "params": {
                    "lazy": false,
                    "visible": true,
                    "quality": "high",
                    "sphereDetail": 2,
                    "radialSegments": 20,
                    "openEnded": true,
                    "disableImpostor": false,
                    "aspectRatio": 1.5,
                    "lineOnly": false,
                    "cylinderOnly": false,
                    "multipleBond": "off",
                    "bondScale": 0.3,
                    "bondSpacing": 0.75,
                    "linewidth": 2,
                    "radiusType": "size",
                    "radiusData": {},
                    "radiusSize": 0.15,
                    "radiusScale": 2,
                    "assembly": "default",
                    "defaultAssembly": "",
                    "clipNear": 0,
                    "clipRadius": 0,
                    "clipCenter": {
                      "x": 0,
                      "y": 0,
                      "z": 0
                    },
                    "flatShaded": false,
                    "opacity": 1,
                    "depthWrite": true,
                    "side": "double",
                    "wireframe": false,
                    "colorScheme": "element",
                    "colorScale": "",
                    "colorReverse": false,
                    "colorValue": 9474192,
                    "colorMode": "hcl",
                    "roughness": 0.4,
                    "metalness": 0,
                    "diffuse": 16777215,
                    "diffuseInterior": false,
                    "useInteriorColor": true,
                    "interiorColor": 2236962,
                    "interiorDarkening": 0,
                    "matrix": {
                      "elements": [
                        1,
                        0,
                        0,
                        0,
                        0,
                        1,
                        0,
                        0,
                        0,
                        0,
                        1,
                        0,
                        0,
                        0,
                        0,
                        1
                      ]
                    },
                    "disablePicking": false,
                    "sele": "ligand"
                  }
                }
              },
              "1": {
                "0": {
                  "type": "cartoon",
                  "params": {
                    "lazy": false,
                    "visible": true,
                    "quality": "high",
                    "aspectRatio": 5,
                    "subdiv": 6,
                    "radialSegments": 20,
                    "tension": null,
                    "capped": true,
                    "smoothSheet": false,
                    "radiusType": "sstruc",
                    "radiusData": {},
                    "radiusSize": 1,
                    "radiusScale": 0.7,
                    "assembly": "default",
                    "defaultAssembly": "",
                    "clipNear": 0,
                    "clipRadius": 0,
                    "clipCenter": {
                      "x": 0,
                      "y": 0,
                      "z": 0
                    },
                    "flatShaded": false,
                    "opacity": 1,
                    "depthWrite": true,
                    "side": "double",
                    "wireframe": false,
                    "colorScheme": "residueindex",
                    "colorScale": "spectral",
                    "colorReverse": true,
                    "colorValue": 9474192,
                    "colorMode": "hcl",
                    "roughness": 0.4,
                    "metalness": 0,
                    "diffuse": 16777215,
                    "diffuseInterior": false,
                    "useInteriorColor": true,
                    "interiorColor": 2236962,
                    "interiorDarkening": 0,
                    "matrix": {
                      "elements": [
                        1,
                        0,
                        0,
                        0,
                        0,
                        1,
                        0,
                        0,
                        0,
                        0,
                        1,
                        0,
                        0,
                        0,
                        0,
                        1
                      ]
                    },
                    "disablePicking": false,
                    "sele": ""
                  }
                },
                "1": {
                  "type": "base",
                  "params": {
                    "lazy": false,
                    "visible": true,
                    "quality": "high",
                    "sphereDetail": 2,
                    "radialSegments": 20,
                    "openEnded": true,
                    "disableImpostor": false,
                    "aspectRatio": 1,
                    "lineOnly": false,
                    "cylinderOnly": false,
                    "bondScale": 0.4,
                    "linewidth": 2,
                    "radiusType": "size",
                    "radiusData": {},
                    "radiusSize": 0.3,
                    "radiusScale": 1,
                    "assembly": "default",
                    "defaultAssembly": "",
                    "clipNear": 0,
                    "clipRadius": 0,
                    "clipCenter": {
                      "x": 0,
                      "y": 0,
                      "z": 0
                    },
                    "flatShaded": false,
                    "opacity": 1,
                    "depthWrite": true,
                    "side": "double",
                    "wireframe": false,
                    "colorScheme": "residueindex",
                    "colorScale": "spectral",
                    "colorReverse": true,
                    "colorValue": 9474192,
                    "colorMode": "hcl",
                    "roughness": 0.4,
                    "metalness": 0,
                    "diffuse": 16777215,
                    "diffuseInterior": false,
                    "useInteriorColor": true,
                    "interiorColor": 2236962,
                    "interiorDarkening": 0,
                    "matrix": {
                      "elements": [
                        1,
                        0,
                        0,
                        0,
                        0,
                        1,
                        0,
                        0,
                        0,
                        0,
                        1,
                        0,
                        0,
                        0,
                        0,
                        1
                      ]
                    },
                    "disablePicking": false,
                    "sele": ""
                  }
                },
                "2": {
                  "type": "ball+stick",
                  "params": {
                    "lazy": false,
                    "visible": true,
                    "quality": "high",
                    "sphereDetail": 2,
                    "radialSegments": 20,
                    "openEnded": true,
                    "disableImpostor": false,
                    "aspectRatio": 1.5,
                    "lineOnly": false,
                    "cylinderOnly": false,
                    "multipleBond": "off",
                    "bondScale": 0.3,
                    "bondSpacing": 0.75,
                    "linewidth": 2,
                    "radiusType": "size",
                    "radiusData": {},
                    "radiusSize": 0.15,
                    "radiusScale": 2,
                    "assembly": "default",
                    "defaultAssembly": "",
                    "clipNear": 0,
                    "clipRadius": 0,
                    "clipCenter": {
                      "x": 0,
                      "y": 0,
                      "z": 0
                    },
                    "flatShaded": false,
                    "opacity": 1,
                    "depthWrite": true,
                    "side": "double",
                    "wireframe": false,
                    "colorScheme": "element",
                    "colorScale": "",
                    "colorReverse": false,
                    "colorValue": 9474192,
                    "colorMode": "hcl",
                    "roughness": 0.4,
                    "metalness": 0,
                    "diffuse": 16777215,
                    "diffuseInterior": false,
                    "useInteriorColor": true,
                    "interiorColor": 2236962,
                    "interiorDarkening": 0,
                    "matrix": {
                      "elements": [
                        1,
                        0,
                        0,
                        0,
                        0,
                        1,
                        0,
                        0,
                        0,
                        0,
                        1,
                        0,
                        0,
                        0,
                        0,
                        1
                      ]
                    },
                    "disablePicking": false,
                    "sele": "ligand"
                  }
                }
              }
            },
            "_ngl_serialize": false,
            "_ngl_version": "2.0.0-dev.36",
            "_ngl_view_id": [
              "667B4E5E-A856-49EB-A207-E700C2781496"
            ],
            "_player_dict": {},
            "_scene_position": {},
            "_scene_rotation": {},
            "_synced_model_ids": [],
            "_synced_repr_model_ids": [],
            "_view_count": null,
            "_view_height": "",
            "_view_module": "nglview-js-widgets",
            "_view_module_version": "3.0.1",
            "_view_name": "NGLView",
            "_view_width": "",
            "background": "white",
            "frame": 100,
            "gui_style": null,
            "layout": "IPY_MODEL_301b1a374dbe41e6a4fde06b8ca3af6f",
            "max_frame": 100,
            "n_components": 2,
            "picked": {}
          }
        },
        "2d3f5ea1ef84454c833dfe331c60ea5e": {
          "model_module": "@jupyter-widgets/base",
          "model_name": "LayoutModel",
          "model_module_version": "1.2.0",
          "state": {
            "_model_module": "@jupyter-widgets/base",
            "_model_module_version": "1.2.0",
            "_model_name": "LayoutModel",
            "_view_count": null,
            "_view_module": "@jupyter-widgets/base",
            "_view_module_version": "1.2.0",
            "_view_name": "LayoutView",
            "align_content": null,
            "align_items": null,
            "align_self": null,
            "border": null,
            "bottom": null,
            "display": null,
            "flex": null,
            "flex_flow": null,
            "grid_area": null,
            "grid_auto_columns": null,
            "grid_auto_flow": null,
            "grid_auto_rows": null,
            "grid_column": null,
            "grid_gap": null,
            "grid_row": null,
            "grid_template_areas": null,
            "grid_template_columns": null,
            "grid_template_rows": null,
            "height": null,
            "justify_content": null,
            "justify_items": null,
            "left": null,
            "margin": null,
            "max_height": null,
            "max_width": null,
            "min_height": null,
            "min_width": null,
            "object_fit": null,
            "object_position": null,
            "order": null,
            "overflow": null,
            "overflow_x": null,
            "overflow_y": null,
            "padding": null,
            "right": null,
            "top": null,
            "visibility": null,
            "width": "34px"
          }
        },
        "729a66c0bee644ad98ceeb162281d715": {
          "model_module": "@jupyter-widgets/controls",
          "model_name": "ButtonStyleModel",
          "model_module_version": "1.5.0",
          "state": {
            "_model_module": "@jupyter-widgets/controls",
            "_model_module_version": "1.5.0",
            "_model_name": "ButtonStyleModel",
            "_view_count": null,
            "_view_module": "@jupyter-widgets/base",
            "_view_module_version": "1.2.0",
            "_view_name": "StyleView",
            "button_color": null,
            "font_weight": ""
          }
        },
        "1ef6d24ebfaf450e961d277ab34313fa": {
          "model_module": "@jupyter-widgets/controls",
          "model_name": "ButtonModel",
          "model_module_version": "1.5.0",
          "state": {
            "_dom_classes": [],
            "_model_module": "@jupyter-widgets/controls",
            "_model_module_version": "1.5.0",
            "_model_name": "ButtonModel",
            "_view_count": null,
            "_view_module": "@jupyter-widgets/controls",
            "_view_module_version": "1.5.0",
            "_view_name": "ButtonView",
            "button_style": "",
            "description": "",
            "disabled": false,
            "icon": "compress",
            "layout": "IPY_MODEL_2d3f5ea1ef84454c833dfe331c60ea5e",
            "style": "IPY_MODEL_729a66c0bee644ad98ceeb162281d715",
            "tooltip": ""
          }
        },
        "a05c9a766cac4455984b1ffbf1374434": {
          "model_module": "@jupyter-widgets/controls",
          "model_name": "HBoxModel",
          "model_module_version": "1.5.0",
          "state": {
            "_dom_classes": [],
            "_model_module": "@jupyter-widgets/controls",
            "_model_module_version": "1.5.0",
            "_model_name": "HBoxModel",
            "_view_count": null,
            "_view_module": "@jupyter-widgets/controls",
            "_view_module_version": "1.5.0",
            "_view_name": "HBoxView",
            "box_style": "",
            "children": [
              "IPY_MODEL_04d6b4cccafe43f084e1a17c1d0f1aec",
              "IPY_MODEL_51380f6f0a2d4b0384f165506005db10"
            ],
            "layout": "IPY_MODEL_d0d36fda11654d77a10514bbd4b2fc67"
          }
        }
      }
    }
  },
  "cells": [
    {
      "cell_type": "markdown",
      "source": [
        "# **Molecular Simulation Using Robosample**\n",
        "\n",
        "In this lab we will simulate SARS-COV Mpro protease with Robosample using its Python interface. Then, we will run a short rigid body dynamics HMC simulation."
      ],
      "metadata": {
        "id": "-0nrpm-X7h8m"
      }
    },
    {
      "cell_type": "markdown",
      "source": [
        "# Markov Chain Monte Carlo Preamble"
      ],
      "metadata": {
        "id": "GKap-oEXBAFz"
      }
    },
    {
      "cell_type": "markdown",
      "source": [
        "## Monte Carlo methods\n",
        "Monte carlo methods are methods that use random numbers to solve probabilistic and deterministic problems.\n",
        "\n",
        "Let's try to estimate the value of pi by generating points in a square from a uniform distribution, using different lengths of simulation.\n",
        "\n",
        "Please change the value of *simLen* by gradually increasing it.\n",
        "\n",
        "<img src='https://github.com/spirilaurentiu/Notebooks/blob/main/pi.png?raw=true' />\n",
        "\n",
        "Figure 1. Having an inscribed circle inside a square of length 2, we can randomly sample points from a 2-dim uniform distribution inside the black square and count the ones that are inside the circle. The orange area within the black square will cover $\\frac{\\pi}{4}$ of the black square area.\n"
      ],
      "metadata": {
        "id": "gWwEl4mWBEcy"
      }
    },
    {
      "cell_type": "code",
      "source": [
        "# Estimation of pi\n",
        "import numpy as np\n",
        "\n",
        "# Set the length of the simulation here:\n",
        "simLen = 10\n",
        "\n",
        "# Run the simulation\n",
        "inCircle = 0.0\n",
        "allPoints = 0.0\n",
        "for i in range(simLen):\n",
        "  x = np.random.uniform()\n",
        "  y = np.random.uniform()\n",
        "  d = np.sqrt(x**2 + y**2)\n",
        "  if d < 1:\n",
        "    inCircle += 1.0\n",
        "  allPoints += 1.0\n",
        "myPi = (inCircle / allPoints) * 4\n",
        "\n",
        "# Print the result\n",
        "print(\"My pi estimation: \", myPi)"
      ],
      "metadata": {
        "colab": {
          "base_uri": "https://localhost:8080/"
        },
        "id": "asrtJAWW_mol",
        "outputId": "ad6ccccf-3c51-4291-b6ab-445a3fcb1408"
      },
      "execution_count": 1,
      "outputs": [
        {
          "output_type": "stream",
          "name": "stdout",
          "text": [
            "My pi estimation:  4.0\n"
          ]
        }
      ]
    },
    {
      "cell_type": "markdown",
      "source": [
        "## Markov Chains\n",
        "\n",
        "A stochastic process is a set of indexed random variables ($X_i$) which take values from a state space $S$. The transition probability from a given state A to a state B is defined as $P(A \\rightarrow B) = P(X_i = A | X_{i-1} = B)$.\n",
        "\n",
        "**Markov chains are memoryless stochastic processes.** A realization of a Markov chain is a set of values taken by the random variables once.\n",
        "\n",
        "Markov chains cand be represented graphically as graph diagrams of states connected by edges. Edges can be weighted by transition probabilities.\n",
        "\n",
        "Important properties of Markov chains:\n",
        "1. ireducibility\n",
        "2. aperiodicity\n",
        "3. reversibility (garantueed by the detailed balance condition)\n",
        "\n",
        "$\\pi(A) \\times P(A \\rightarrow B) = \\pi(B) \\times P(B \\rightarrow A) $\n",
        "\n",
        "Let's draw some diagrams and check if they are well behaved (have the three required properties).\n",
        "\n",
        "First install necessary software."
      ],
      "metadata": {
        "id": "TFsAiADUcRds"
      }
    },
    {
      "cell_type": "code",
      "source": [
        "# Install PyGraphviz\n",
        "!if pip list | grep pygraphviz ; then echo \"PyGraphviz\" is installed; else apt install libgraphviz-dev && pip install pygraphviz; fi\n"
      ],
      "metadata": {
        "id": "-FSIHz_ARnKG"
      },
      "execution_count": null,
      "outputs": []
    },
    {
      "cell_type": "markdown",
      "source": [
        "Let's see if this Markov chain violates the properties above.\n",
        "If so, please try to correct it."
      ],
      "metadata": {
        "id": "M2zSjGUIVntl"
      }
    },
    {
      "cell_type": "code",
      "source": [
        "import pygraphviz as pgv\n",
        "from IPython.display import Image\n",
        "import numpy as np\n",
        "\n",
        "# Define a graph\n",
        "myGraph={'1': {'2': None},\n",
        "         '2': {'2': None, '3': None},\n",
        "         '3': {'2': None},\n",
        "         '4': {}}\n",
        "A=pgv.AGraph(myGraph, directed=True)\n",
        "#A.to_string()\n",
        "\n",
        "# Build a transition probability matrix\n",
        "Q = np.zeros((A.number_of_nodes(), A.number_of_nodes()))\n",
        "for edge in (A.iteredges()):\n",
        "  nodes = [int(edge[0]), int(edge[1])]\n",
        "  w = 1.0 / len(np.unique(A.neighbors(nodes[0])))\n",
        "  Q[nodes[0] - 1, nodes[1] - 1] = w\n",
        "  edge = A.get_edge(str(nodes[0]), str(nodes[1]))\n",
        "  edge.attr['weight'] = w\n",
        "  edge.attr['label'] = '%.2f' % w\n",
        "\n",
        "print(\"Q = \", Q)\n",
        "\n",
        "\n",
        "# Draw graph\n",
        "A.layout()\n",
        "A.draw('file.png')\n",
        "Image('file.png')\n",
        "\n"
      ],
      "metadata": {
        "id": "mLmYT8vtRWam"
      },
      "execution_count": null,
      "outputs": []
    },
    {
      "cell_type": "markdown",
      "source": [
        "**EXERCISE**: Please correct the chain above to be well behaved."
      ],
      "metadata": {
        "id": "g-CJDW-lan6s"
      }
    },
    {
      "cell_type": "code",
      "source": [
        "# Simple simulation\n",
        "pi = np.array([0.1, 0.1, 0.1, 0.7])\n",
        "for i in range(30):\n",
        "  pi = np.dot(pi, Q)\n",
        "  print(pi)\n"
      ],
      "metadata": {
        "id": "pp0Q6w3VlJoz"
      },
      "execution_count": null,
      "outputs": []
    },
    {
      "cell_type": "markdown",
      "source": [
        "# Theoretical Aspects of Constrained Molecular Simulations\n",
        "\n",
        "Molecules conformations lie in complex highly dimensional spaces, and present a challange for molecular simulations that try to explore them. Take, for example, ethane: although it is a simple molecule, it already has $8 \\times 3 = 24$ dimensions. To simplify this endevour some types of degrees of freedom may be constrained: such as the bond lengths. This will increase the integration time step and reduce the number equations solved at each step.\n",
        "\n",
        "\n",
        "\n"
      ],
      "metadata": {
        "id": "Z3V5Hz_NAI0v"
      }
    },
    {
      "cell_type": "markdown",
      "source": [
        "<figure>\n",
        "<center>\n",
        "<img src='https://github.com/spirilaurentiu/Notebooks/blob/main/ethane.s.png?raw=true' />\n",
        "<figcaption>FIGURE 1. Ethane Molecule with or without the bond lengths degrees of freedom taken into account. </figcaption>\n",
        "</center>\n",
        "</figure>"
      ],
      "metadata": {
        "id": "jvMhrkXrqzjV"
      }
    },
    {
      "cell_type": "markdown",
      "source": [
        "## Internal Coordinates\n",
        "Internal coordinates, also called BAT, are the set of bond lengths, bond angles and bond torsions of a molecular system.\n",
        "\n",
        "\n",
        "* As opposed to Cartesian coordinates which are absolute, BAT coordinates are relative.\n",
        "* Allows the external degrees of freedom to be ignored because they are explicitly expressed in BAT\n",
        "* BAT coordinates have energy terms associated with them which makes trajectories easier to calculate\n",
        "* Energies associated with the three types of coordinates differ in their order of magnitude which gives them the advantage to easly constrain them by type: eg. one can fix all the bond lengths during molecular dynamics.\n",
        "\n",
        "\n",
        "$ E(d, \\theta, \\phi) \n",
        "= \\displaystyle\\sum_{\\textbf{B}onds}{\\frac{1}{2} k_d (d - d_0)^2} \n",
        "+ \\displaystyle\\sum_{\\textbf{A}ngles}{\\frac{1}{2} k_a (\\theta - \\theta_0)^2}\n",
        "+ \\displaystyle\\sum_{\\textbf{T}orsions}{\\frac{1}{2} k_t f(\\phi, \\phi_0, ...)}\n",
        "$\n",
        "\n",
        "\n"
      ],
      "metadata": {
        "id": "cpZo8uTJ5a5w"
      }
    },
    {
      "cell_type": "markdown",
      "source": [
        "## Rigid Body Dynamics \n",
        "\n",
        "In the case of biological macromolecules, their particular chemistry may induce certain patterns that can be speculated for the use of constraints. For example, proteins have secondary structures elements such as helices, that can be treated as rigid bodies during some parts of the simulation.\n",
        "\n",
        "If we apply these type of constraints some molecule parts become rigid and **robot mechanics** algorithms can be employed to solve the equations of motion.\n",
        "The mechanical part of a robot is defined as a system of articulated bodies, which is a set of bodies (links) connected by articulations (joints).\n",
        "\n",
        "Constraints can be enforced using:\n",
        "* maximal coordinates for the links (in which every link is represented with its 6 degrees of freedom) and additional equations for each constraint applyed to the whole system;\n",
        "* reduced coordinates for articulations degrees of freedom\n",
        "\n",
        "Robosample uses the complement of the set of constraints: which is the set of the remaining degrees of freedom. These remaining degrees of freedom set is called a \"World\".\n",
        "\n",
        "\n"
      ],
      "metadata": {
        "id": "mQBEpuWEtOxe"
      }
    },
    {
      "cell_type": "markdown",
      "source": [
        "<figure>\n",
        "<center>\n",
        "<img src='https://github.com/spirilaurentiu/Notebooks/blob/main/protein.s.png?raw=true' />\n",
        "<figcaption>FIGURE 2. Proteins secondary structures </figcaption>\n",
        "</center>\n",
        "</figure>"
      ],
      "metadata": {
        "id": "7bda00V5w31t"
      }
    },
    {
      "cell_type": "markdown",
      "source": [
        "Using constraints, by definition, do not take into account all the degrees of freedom therefore suffers from a lack of ergodicity. Also, particular degrees of freedom may be coupled when transitioning from a conformational basin to another. We overcome this in Robosample through the means of \"overlaped blocked Gibbs sampling\" in a method called GCHMC.\n",
        "\n",
        "Gibbs sampling is a Markov Chain Monte Carlo algorithm which samples from a multivariate distribution $\\pi(X = \\{x_i\\})$ by taking turns in sampling each of its component $x_i$, conditioned on the previous sampled components $\\pi(x_i | \\{x_{0,i-1}\\})$.\n",
        "\n",
        "In a similar fashion, the algorithm allows sampling jointly multiple components $x_{i, i+k}$ in what is called \"blocked Gibbs sampling\". Even more so, the components may overlap to form \"overlapped blocked Gibbs sampling\".\n",
        "\n",
        "We will use this particular type of Gibbs sampling in Robosample by alternating multiple definitions of rigid bodies.\n",
        " Robosample is a molecular simulation program that uses algorithms designed primarly for robot mechanics. \n",
        "\n",
        "\n"
      ],
      "metadata": {
        "id": "XD0s-RpywaLE"
      }
    },
    {
      "cell_type": "markdown",
      "source": [
        "**DISSCUTION**\n",
        "\n",
        "* Why shoud we consider using constraints?\n",
        "* What macromolecule regions would you pick to constraint during different simulations?\n"
      ],
      "metadata": {
        "id": "fb0zr3iBCNYu"
      }
    },
    {
      "cell_type": "markdown",
      "source": [
        "### Further Reading\n",
        "A comprehensive desciption internal coordinates molecular dynamics and usage of constraints is given in [J Phys Chem B. 2015, **119(4)**, 1233-42](https://pubs.acs.org/doi/10.1021/jp509136y).\n",
        "\n",
        "The way they are implemented in Robosample GCHMC is found in:  [ J Chem Theory Comput. 2017, **13(10)**, 4649-4659](https://www.ncbi.nlm.nih.gov/pmc/articles/PMC5634954/) and [Biochim Biophys Acta Gen Subj. 2020, **1864(8)** 129616](https://pubmed.ncbi.nlm.nih.gov/32298789/).\n"
      ],
      "metadata": {
        "id": "pPVTfQ0VmhCX"
      }
    },
    {
      "cell_type": "markdown",
      "source": [
        "# Part 0 - Download and Install Robosample\n",
        "Make sure to enable GPU acceleration \n",
        "---\n",
        "\n"
      ],
      "metadata": {
        "id": "QOqN_wXKsgAU"
      }
    },
    {
      "cell_type": "markdown",
      "source": [
        "Robosample binaries are already build on Google colab and uploaded on Github. Clone the Github repository that contains Robosample binaries."
      ],
      "metadata": {
        "id": "QYAXwgWFOlLX"
      }
    },
    {
      "cell_type": "code",
      "source": [
        "%cd /content/\n",
        "! if [ -d Notebooks ]; then echo \"Notebooks exists\"; else git clone --recursive https://github.com/spirilaurentiu/Notebooks.git; fi\n",
        "!ls Notebooks\n",
        "%cd Notebooks/\n",
        "!git pull"
      ],
      "metadata": {
        "id": "b1hA3b-ZFo9g"
      },
      "execution_count": null,
      "outputs": []
    },
    {
      "cell_type": "markdown",
      "source": [
        " Now we have to make sure that Robosample binary finds its libraries. Set the linker path.\n",
        " Robosample relies heavly on GPUs. Set cuda directories."
      ],
      "metadata": {
        "id": "b-q8JthPOZqR"
      }
    },
    {
      "cell_type": "code",
      "source": [
        "%env LD_LIBRARY_PATH=/usr/lib64-nvidia:/usr/local/openmm/lib:/usr/local/openmm/lib/plugins:/content/Notebooks/build/release/robosample/src\n",
        "!echo \"$LD_LIBRARY_PATH\"\n",
        "\n",
        "%env CUDA_INC_DIR=/usr/local/cuda\n",
        "%env CUDA_ROOT=/usr/local/cuda\n",
        "\n",
        "\n",
        "%cd /content/Notebooks/build/release/robosample/src/\n",
        "%mkdir -p /usr/local/openmm/lib/plugins\n",
        "%cp libOpenMMOpenCL.so libOpenMMRPMDCUDA.so libOpenMMRPMDOpenCL.so libOpenMMCUDA.so libOpenMMCudaCompiler.so libOpenMMCPU.so /usr/local/openmm/lib/plugins/\n",
        "%cp libOpenMM.so libOpenMM.so.7.5 libOpenMMRPMD.so /usr/local/openmm/lib/\n",
        "\n",
        "!nvidia-smi"
      ],
      "metadata": {
        "id": "JpvnMQcwsjBR"
      },
      "execution_count": null,
      "outputs": []
    },
    {
      "cell_type": "markdown",
      "source": [
        "If everything went okay so far, Robosample should run on a test small molecule."
      ],
      "metadata": {
        "id": "uOLq1nMIOxaS"
      }
    },
    {
      "cell_type": "code",
      "source": [
        "%cd build/release/robosample/src/\n",
        "!./GMOLMODEL_robo inp.2but"
      ],
      "metadata": {
        "id": "7a_WzHt1lUz-"
      },
      "execution_count": null,
      "outputs": []
    },
    {
      "cell_type": "markdown",
      "source": [
        "Now let's install Robosample Python interface. Its Python interface relies on analysis with MDTraj."
      ],
      "metadata": {
        "id": "6Wtf5WpEDnA4"
      }
    },
    {
      "cell_type": "code",
      "source": [
        "# MDTraj is a prerequisite for robosample.py\n",
        "!if pip list | grep mdtraj ; then echo \"MDTraj is installed\"; else pip install mdtraj; fi\n",
        "!if pip list | grep pytraj ; then echo \"PyTraj is installed\"; else pip install pytraj; fi\n",
        "!if pip list | grep nglview ; then echo \"NglView is installed\"; else pip install -q nglview; fi\n",
        "!if pip list | grep py3Dmol ; then echo \"Py3DMol is installed\"; else pip install py3Dmol; fi\n",
        "\n",
        "# Robosample Python interface is in the tools directory\n",
        "%env PYTHONPATH=/env/python:/content/Notebooks/tools\n",
        "!echo $PYTHONPATH\n"
      ],
      "metadata": {
        "id": "gpCTMmJgI7Pq"
      },
      "execution_count": null,
      "outputs": []
    },
    {
      "cell_type": "markdown",
      "source": [
        "A bit more setup."
      ],
      "metadata": {
        "id": "8drls2nJMmDp"
      }
    },
    {
      "cell_type": "code",
      "source": [
        "\n",
        "%cd /content/Notebooks/\n",
        "!cp -i build/release/robosample/src/libOpenMMPlugin.so .\n",
        "!ls"
      ],
      "metadata": {
        "id": "PQSCwxMsZq4A"
      },
      "execution_count": null,
      "outputs": []
    },
    {
      "cell_type": "markdown",
      "source": [
        "If everything went OK we should be able to set up a simple example with the Python interface."
      ],
      "metadata": {
        "id": "T4OvvWp4nvAG"
      }
    },
    {
      "cell_type": "code",
      "source": [
        "# Run a test script\n",
        "! if [ -d temp ]; then echo \"temp directory exists\"; else mkdir -p temp/pdbs; fi\n",
        "!ls\n",
        "!python simulate.py"
      ],
      "metadata": {
        "id": "g5GlfWjCO8Ki"
      },
      "execution_count": null,
      "outputs": []
    },
    {
      "cell_type": "markdown",
      "source": [
        "Robosample, by default, writes pdb files as output."
      ],
      "metadata": {
        "id": "LjeY9qjWoIJA"
      }
    },
    {
      "cell_type": "code",
      "source": [
        "!ls temp/pdbs"
      ],
      "metadata": {
        "id": "hbLXx8tYcWrB"
      },
      "execution_count": null,
      "outputs": []
    },
    {
      "cell_type": "markdown",
      "source": [
        "# Part 1 - Prepare a Robosample Script\n",
        "\n",
        "---"
      ],
      "metadata": {
        "id": "xnfsX6QgMXbc"
      }
    },
    {
      "cell_type": "markdown",
      "source": [
        "<h1>Why use a script?<!h1>\n",
        "\n",
        "Molecular dynamics simulations require a lot of information about\n",
        "* Input data\n",
        "  * coordinates\n",
        "  * topology\n",
        "  * which atoms are included in energy terms\n",
        "  * parameters for functions in energy terms\n",
        "* System description\n",
        "  * periodicity\n",
        "  * constraints\n",
        "* Integrators\n",
        "  * algorithms to propagate forward in time\n",
        "  * adjust box size\n",
        "  * adjust kinetic energy (temperature)\n",
        "* Simulation\n",
        "  * how long to run\n",
        "  * how much output data to store\n",
        "\n",
        "  Let's go through what the parameters mean and I'll give you values for a simple simulation of SARS-CoV MPro C-terminal part (PDB code: 2liz).\n",
        "\n"
      ],
      "metadata": {
        "id": "VXSaz8LV7w76"
      }
    },
    {
      "cell_type": "markdown",
      "source": [
        "<img src='https://github.com/spirilaurentiu/Notebooks/blob/main/mproc.png?raw=true' />"
      ],
      "metadata": {
        "id": "2-sMlFh99Pg2"
      }
    },
    {
      "cell_type": "code",
      "source": [
        "# Check molecule\n",
        "!ls mproc/"
      ],
      "metadata": {
        "id": "8MF_B6PrjyOj"
      },
      "execution_count": null,
      "outputs": []
    },
    {
      "cell_type": "markdown",
      "source": [
        "<h1>Import necessary modules</h1>\n",
        "First we need to import the module that contains the Robosample interface, robosample.py. Also import here oher modules that we may need."
      ],
      "metadata": {
        "id": "L0pwubBEd2BJ"
      }
    },
    {
      "cell_type": "code",
      "source": [
        "# Imports\n",
        "import os\n",
        "import sys\n",
        "if not \"/content/Notebooks/tools/\" in sys.path:\n",
        "  sys.path.append(\"/content/Notebooks/tools/\")\n",
        "\n",
        "\n",
        "# Import Robosample module\n",
        "from robosample import *\n"
      ],
      "metadata": {
        "id": "A8Jei3VU6oP_"
      },
      "execution_count": 15,
      "outputs": []
    },
    {
      "cell_type": "markdown",
      "source": [
        "<h1>Load molecular structure files</h1>\n",
        "\n",
        "* For input files enter “mproc/ligand.prmtop” and “mproc/ligand.min.rst7”\n",
        "“Platform” describes the version of the code and the hardware it will run on\n",
        "  * “CUDA” and “OpenCL” are meant for GPUs, which make MD simulations much faster. “CUDA” only works with Nvidia GPUs and “OpenCL” on others\n",
        "  * “CPU” is a faster version of Reference.\n",
        "\n",
        "* The properties dictionary indicates the number of threads to be used\n",
        "* Robosample only supports Amber force field for now.\n",
        "\n"
      ],
      "metadata": {
        "id": "twmeW8q53dDG"
      }
    },
    {
      "cell_type": "code",
      "source": [
        "# Load Amber files\n",
        "prmtop = AmberPrmtopFile(\"mproc/ligand.prmtop\")\n",
        "inpcrd = AmberInpcrdFile(\"mproc/ligand.min.rst7\")\n",
        "\n",
        "# Hardware platform\n",
        "platform = Platform.getPlatformByName('GPU')\n",
        "properties={'nofThreads': 0}\n"
      ],
      "metadata": {
        "colab": {
          "base_uri": "https://localhost:8080/"
        },
        "id": "tuwlGfRg4uK9",
        "outputId": "c429cec5-9161-43c7-c732-679bb5ae7e7f"
      },
      "execution_count": 16,
      "outputs": [
        {
          "output_type": "stream",
          "name": "stdout",
          "text": [
            "GPU\n"
          ]
        }
      ]
    },
    {
      "cell_type": "markdown",
      "source": [
        "<h1>Create System </h1>\n",
        "\n",
        "* “Nonbonded method” describes how long-range interactions are treated. The more interactions that need to be computed, the slower an MD simulation will be. \n",
        "  * Cutoffs don’t perform calculations if two particles are beyond a certain distance apart.\n",
        "  * Ewald methods calculate long-range interaction energies between a system and its periodic images. It assumes the system repeats indefinitely.\n",
        "  * Since we are using implicit solvent, we don’t need periodicity. \n",
        "Let’s use “CutoffNonPeriodic”.\n",
        "* “Constraints”\n",
        "  * force a degree of freedom to be a certain value\n",
        "\n",
        "Let’s keep the other “System” parameters as is"
      ],
      "metadata": {
        "id": "3Jk8lObY44k-"
      }
    },
    {
      "cell_type": "code",
      "source": [
        "# Remove any existing robots directory\n",
        "if os.path.exists(\"robots\"):\n",
        "  shutil.rmtree(\"robots\")\n",
        "\n",
        "# Create a Robosample system by calling createSystem on prmtop\n",
        "system = prmtop.createSystem(createDirs = True,\n",
        "\tnonbondedMethod = \"CutoffPeriodic\",\n",
        " \tnonbondedCutoff = 1.44*nanometer,\n",
        " \tconstraints = None,\n",
        " \trigidWater = True,\n",
        " \timplicitSolvent = True,\n",
        " \tsoluteDielectric = 1.0,\n",
        " \tsolventDielectric = 78.5,\n",
        " \tremoveCMMotion = False\n",
        ")\n"
      ],
      "metadata": {
        "id": "illFDQnb5cre"
      },
      "execution_count": 17,
      "outputs": []
    },
    {
      "cell_type": "markdown",
      "source": [
        "<h1> Choose an Integrator </h1>\n",
        "\n",
        "* “Integrator” is the algorithm that goes from one configuration to the next\n",
        "  * Verlet is completely deterministic\n",
        "  * Langevin adds some random noise to the motion. The level of noise maintains the system at a certain temperature.\n",
        "  * Brownian is so random that there is no momentum\n",
        "  * Variable methods use different time steps and depend on an error tolerance\n",
        "  * Robosample Hybrid Monte Carlo uses Velocity Verlet\n",
        "\n",
        "<h1> Thermostats </h1>\n",
        "\n",
        "* allow the kinetic energy of the system to change by modifying velocities\n",
        "  * Andersen - velocity reinitialization\n",
        "  * Berendsen - temperature decays to target temperature\n",
        "  * Nose Hoover - an extra degree of freedom in the Hamiltonian\n",
        "\n",
        "Robosample uses Andersen\n",
        "\n",
        "  <h1> Barostats</h1>\n",
        "\n",
        "* keep the system at a certain pressure \n",
        "  * allows the volume of the system to change\n",
        "    * Hoover\n",
        "    * Rahman\n",
        "    * Parrinello\n",
        "\n",
        "since we are using implicit water, we will not use a barostat."
      ],
      "metadata": {
        "id": "XBvM786I5tFH"
      }
    },
    {
      "cell_type": "code",
      "source": [
        "# Choose an integrator\n",
        "integrator = VVIntegrator(300*kelvin,   # Temperature of head bath\n",
        "                           0.001*picoseconds) # Time step"
      ],
      "metadata": {
        "id": "VxOAAoRA53sf"
      },
      "execution_count": 18,
      "outputs": []
    },
    {
      "cell_type": "markdown",
      "source": [
        "<h1>Wrap everything in a Simulation Object</h1>\n",
        "\n",
        "* “Reporters” store data about the simulation\n",
        "\n",
        "  * “PDB” structure files are saved in the specified output directory\n",
        "  * “DCD” is a binary file format for molecular dynamics trajectories\n",
        "\n",
        "* “Report Interval” is how often the data are stored\n"
      ],
      "metadata": {
        "id": "yvE-GqTj6IG4"
      }
    },
    {
      "cell_type": "code",
      "source": [
        "# Create Simulation object\n",
        "simulation = Simulation(prmtop.topology, system, integrator, platform, properties)\n",
        "simulation.reporters.append(PDBReporter('temp', 3))\n",
        "simulation.context.setPositions(inpcrd.positions)"
      ],
      "metadata": {
        "id": "E_YAOq8856oA"
      },
      "execution_count": null,
      "outputs": []
    },
    {
      "cell_type": "markdown",
      "source": [
        "\n",
        "\n",
        "<h1> Add Worlds </h1>\n",
        "\n",
        "The concept of \"World\" is esential to Robosample.\n",
        "\n",
        "When simulating the molecular system with constraints, Robosample uses the complement of the set of constraints: which is the set of the remaining degrees of freedom. These remaining degrees of freedom set is called a \"World\", and corresponds to a Gibbs block.\n",
        "\n",
        "\n"
      ],
      "metadata": {
        "id": "U-6vfL-06MIa"
      }
    },
    {
      "cell_type": "markdown",
      "source": [
        "<h3>Types of Worlds:</h3>\n",
        "\n",
        "There are different types of world that can be defined by the Robosample Python interface set up by the following keywords:\n",
        "* *accesibile* : residues chosen based on the solvent accesible surface are (SASA) will give mostly the exposed rotamers - known to give most of, for example, receptor flexibility in ligand binding\n",
        "\n",
        "* *loops*: regions between secondary structures <br />\n",
        "\n",
        "* *stretch*: only a particular stretch of amino acids <br />\n",
        "\n",
        "* *roll*: builds a World for every backbone torsion angle within a stretch <br />\n"
      ],
      "metadata": {
        "id": "Jx8dcBEY86Ge"
      }
    },
    {
      "cell_type": "code",
      "source": [
        "## Generate NMA-Scaled Flex Files\n",
        "sAll = [[1, 120]]\n",
        "nterJoint = [[11, 12]]\n",
        "\n",
        "simulation.addWorld(regionType='stretch',\n",
        "                    region=sAll,\n",
        "                    rootMobility='Weld',\n",
        "                    timestep=0.003,\n",
        "                    mdsteps=40,\n",
        "                    argJointType='Pin',\n",
        "                    subsets=['rama','side'],\n",
        "                    samples=1)\n",
        "\n",
        "simulation.addWorld(regionType='stretch',\n",
        "                    region=nterJoint,\n",
        "                    rootMobility='Weld',\n",
        "                    timestep=0.02,\n",
        "                    mdsteps=5,\n",
        "                    argJointType='Pin',\n",
        "                    subsets=['rama','side'],\n",
        "                    samples=1)\n"
      ],
      "metadata": {
        "id": "1GFSwhaJ6T_G"
      },
      "execution_count": null,
      "outputs": []
    },
    {
      "cell_type": "markdown",
      "source": [
        "<h1>Run the simulation </h1>\n",
        "\n",
        "The Simulation step function in Robosample takes the number of **rounds** of Gibbs sampling as input (not the number of steps of MD).\n"
      ],
      "metadata": {
        "id": "n9W0mhXt6WgH"
      }
    },
    {
      "cell_type": "code",
      "source": [
        "\n",
        "# Run simulation\n",
        "simulation.step(300)\n",
        "\n"
      ],
      "metadata": {
        "id": "JzhYcKnDJXYh"
      },
      "execution_count": null,
      "outputs": []
    },
    {
      "cell_type": "markdown",
      "source": [
        "Check the output"
      ],
      "metadata": {
        "id": "h_P_fWydsKae"
      }
    },
    {
      "cell_type": "code",
      "source": [
        "!ls temp/pdbs"
      ],
      "metadata": {
        "id": "XCBesqOrHCZQ"
      },
      "execution_count": null,
      "outputs": []
    },
    {
      "cell_type": "markdown",
      "source": [
        "A more low-level solution for the step function in the Python interface.\n",
        "\n",
        "**DON'T RUN THIS IF THE LAST STEP WENT OK**"
      ],
      "metadata": {
        "id": "mP7usfVtHLri"
      }
    },
    {
      "cell_type": "code",
      "source": [
        "# Backup run\n",
        "!rm temp/pdbs/*\n",
        "!ls robots/bot0/\n",
        "!cat inp.test\n",
        "!./build/release/robosample/src/GMOLMODEL_robo inp.test"
      ],
      "metadata": {
        "id": "F0rBFUJkO5Rl"
      },
      "execution_count": null,
      "outputs": []
    },
    {
      "cell_type": "code",
      "source": [
        "!ls temp/pdbs/* | wc -l"
      ],
      "metadata": {
        "id": "-VrpTB-31zak"
      },
      "execution_count": null,
      "outputs": []
    },
    {
      "cell_type": "markdown",
      "source": [
        "Convert the *pdb* files into a more compact *dcd* trajectory."
      ],
      "metadata": {
        "id": "ml334S_e6C-Q"
      }
    },
    {
      "cell_type": "code",
      "source": [
        "import pytraj as pt\n",
        "traj = pt.load('temp/pdbs/*.pdb', 'mproc/ligand.prmtop')\n",
        "pt.write_traj('mproc.dcd', traj, overwrite=True)\n",
        "!ls -lht"
      ],
      "metadata": {
        "id": "BizvjaNIQ_c4"
      },
      "execution_count": null,
      "outputs": []
    },
    {
      "cell_type": "markdown",
      "source": [
        "<h2> Viusalize the results </h2>"
      ],
      "metadata": {
        "id": "aS3pbc-MPJQw"
      }
    },
    {
      "cell_type": "markdown",
      "source": [
        "Install necessary tools"
      ],
      "metadata": {
        "id": "vHMF2ZadPlHX"
      }
    },
    {
      "cell_type": "code",
      "source": [
        "from google.colab import output\n",
        "output.enable_custom_widget_manager()\n",
        "\n",
        "try:\n",
        "  import py3Dmol\n",
        "except:\n",
        "  !pip install py3Dmol\n",
        "  import py3Dmol\n"
      ],
      "metadata": {
        "id": "ZAI2U07IPCHA"
      },
      "execution_count": 25,
      "outputs": []
    },
    {
      "cell_type": "markdown",
      "source": [
        "Visualize trajectory"
      ],
      "metadata": {
        "id": "3DuR2VdJPnNp"
      }
    },
    {
      "cell_type": "code",
      "source": [
        "# Visualize\n",
        "import pytraj as pt\n",
        "import nglview as nv\n",
        "\n",
        "traj = pt.load('mproc.dcd', 'mproc/ligand.prmtop')\n",
        "traj.superpose(ref=0, mask='@CA')\n",
        "view = nv.show_pytraj(traj)\n",
        "#view.add_line(traj)\n",
        "#view.zoomTo()\n",
        "#view.show()\n",
        "view"
      ],
      "metadata": {
        "colab": {
          "base_uri": "https://localhost:8080/",
          "height": 317,
          "referenced_widgets": [
            "675c4fe1639945379c3a0eeefa6144c7",
            "15430b5e203a4f488a1246c9887a49a4",
            "301b1a374dbe41e6a4fde06b8ca3af6f",
            "be8dca12985144acb27fb332cf251d38",
            "46feb99e0d6b47c9879f7aa85fb307a6",
            "e476762cca5a4e99b48cf23a3848c4ec",
            "23e834e7b88c425586d3e8267569819d",
            "04d6b4cccafe43f084e1a17c1d0f1aec",
            "51380f6f0a2d4b0384f165506005db10",
            "d0d36fda11654d77a10514bbd4b2fc67",
            "5695560d00c641d3807465b8be5612eb",
            "2d3f5ea1ef84454c833dfe331c60ea5e",
            "729a66c0bee644ad98ceeb162281d715",
            "1ef6d24ebfaf450e961d277ab34313fa",
            "a05c9a766cac4455984b1ffbf1374434"
          ]
        },
        "id": "thj1KhAmWdsf",
        "outputId": "4a788a0b-c798-438a-ef6f-9afbc86dca45"
      },
      "execution_count": 26,
      "outputs": [
        {
          "output_type": "display_data",
          "data": {
            "text/plain": [
              ""
            ],
            "application/vnd.jupyter.widget-view+json": {
              "version_major": 2,
              "version_minor": 0,
              "model_id": "675c4fe1639945379c3a0eeefa6144c7"
            }
          },
          "metadata": {
            "application/vnd.jupyter.widget-view+json": {
              "colab": {
                "custom_widget_manager": {
                  "url": "https://ssl.gstatic.com/colaboratory-static/widgets/colab-cdn-widget-manager/a8874ba6619b6106/manager.min.js"
                }
              }
            }
          }
        },
        {
          "output_type": "display_data",
          "data": {
            "text/plain": [
              "NGLWidget(max_frame=100)"
            ],
            "application/vnd.jupyter.widget-view+json": {
              "version_major": 2,
              "version_minor": 0,
              "model_id": "5695560d00c641d3807465b8be5612eb"
            }
          },
          "metadata": {
            "application/vnd.jupyter.widget-view+json": {
              "colab": {
                "custom_widget_manager": {
                  "url": "https://ssl.gstatic.com/colaboratory-static/widgets/colab-cdn-widget-manager/a8874ba6619b6106/manager.min.js"
                }
              }
            }
          }
        }
      ]
    },
    {
      "cell_type": "markdown",
      "source": [
        "<img src='https://github.com/spirilaurentiu/Notebooks/blob/main/mprocsim.png?raw=true' />"
      ],
      "metadata": {
        "id": "uairSpOhhsqF"
      }
    },
    {
      "cell_type": "markdown",
      "source": [
        "Save the results if you want, although pay attention to the size."
      ],
      "metadata": {
        "id": "DvkplHMhsxDW"
      }
    },
    {
      "cell_type": "code",
      "source": [
        "GitHub_dir = '/content/drive/MyDrive/GitHub'\n",
        "import os\n",
        "if not os.path.isdir(GitHub_dir):\n",
        "  !mkdir -p {GitHub_dir}\n",
        "\n",
        "os.chdir(GitHub_dir)\n",
        "if not os.path.isdir(os.path.join(GitHub_dir,'modelingworkshop')):\n",
        "  !git clone https://github.com/CCBatIIT/modelingworkshop\n",
        "else:\n",
        "  os.chdir(os.path.join(GitHub_dir,'modelingworkshop'))\n",
        "  !git pull origin main"
      ],
      "metadata": {
        "id": "rfkhaftkY09e"
      },
      "execution_count": null,
      "outputs": []
    }
  ]
}