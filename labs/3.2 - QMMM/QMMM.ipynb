{
  "nbformat": 4,
  "nbformat_minor": 0,
  "metadata": {
    "colab": {
      "name": "QMMM",
      "provenance": [],
      "collapsed_sections": []
    },
    "kernelspec": {
      "name": "python3",
      "display_name": "Python 3"
    },
    "language_info": {
      "name": "python"
    },
    "accelerator": "GPU"
  },
  "cells": [
    {
      "cell_type": "markdown",
      "source": [
        "**Step 0**: Setting up input files and working directory"
      ],
      "metadata": {
        "id": "kj_4RF0mJs_D"
      }
    },
    {
      "cell_type": "code",
      "source": [
        "import os\n",
        "from google.colab import drive\n",
        "drive.mount('/content/drive')\n",
        "\n",
        "workshop_dir = '/content/drive/MyDrive/2022S_MODELING_WORKSHOP/'\n",
        "if not os.path.isdir(workshop_dir):\n",
        "  os.mkdir(workshop_dir)\n",
        "\n",
        "os.chdir(workshop_dir)\n",
        "if not os.path.isdir(workshop_dir + 'modelingworkshop'):\n",
        "  !git clone https://github.com/CCBatIIT/modelingworkshop\n",
        "\n",
        "lab_dir = workshop_dir + '2022S_MM_SESSION_3_2' #SPECIFIC TO EACH LAB\n",
        "if not os.path.isdir(lab_dir):\n",
        "  os.mkdir(lab_dir)\n",
        "os.chdir(lab_dir)\n",
        "\n",
        "# CONTENT SPECIFIC TO LAB\n",
        "if not os.path.isdir('./modelingworkshop_syoo'):\n",
        "  !git clone https://github.com/swillow/modelingworkshop modelingworkshop_syoo\n",
        "\n",
        "mpro_pdb = '../modelingworkshop/data/bestmodel_aligned.pdb'\n",
        "os.path.isfile(mpro_pdb), os.path.isdir('./modelingworkshop_syoo/QMMM')"
      ],
      "metadata": {
        "id": "sdZNlWs-JWHq",
        "colab": {
          "base_uri": "https://localhost:8080/"
        },
        "outputId": "8f25b9c7-97af-4fd9-a781-47fd30bf4fc6"
      },
      "execution_count": null,
      "outputs": [
        {
          "output_type": "stream",
          "name": "stdout",
          "text": [
            "Mounted at /content/drive\n"
          ]
        },
        {
          "output_type": "execute_result",
          "data": {
            "text/plain": [
              "(True, True)"
            ]
          },
          "metadata": {},
          "execution_count": 1
        }
      ]
    },
    {
      "cell_type": "markdown",
      "source": [
        "**Step 1**: Add hydrogen atoms to a protein (using pdb2pqr)"
      ],
      "metadata": {
        "id": "IohFfKFp2NA5"
      }
    },
    {
      "cell_type": "markdown",
      "source": [
        "**1.a**  Installation                 \n",
        "Execute: pip install pdb2pqr\n"
      ],
      "metadata": {
        "id": "BS9rOWlu4Nlo"
      }
    },
    {
      "cell_type": "code",
      "source": [
        "!pip install pdb2pqr"
      ],
      "metadata": {
        "colab": {
          "base_uri": "https://localhost:8080/"
        },
        "id": "uG4KpQSb2w5Q",
        "outputId": "dab84381-f913-4085-87db-7446e549411e"
      },
      "execution_count": null,
      "outputs": [
        {
          "output_type": "stream",
          "name": "stdout",
          "text": [
            "Requirement already satisfied: pdb2pqr in /usr/local/lib/python3.7/dist-packages (3.5.2)\n",
            "Requirement already satisfied: propka>=3.2 in /usr/local/lib/python3.7/dist-packages (from pdb2pqr) (3.4.0)\n",
            "Requirement already satisfied: numpy in /usr/local/lib/python3.7/dist-packages (from pdb2pqr) (1.21.5)\n",
            "Requirement already satisfied: mmcif-pdbx>=1.1.2 in /usr/local/lib/python3.7/dist-packages (from pdb2pqr) (2.0.1)\n",
            "Requirement already satisfied: docutils<0.18 in /usr/local/lib/python3.7/dist-packages (from pdb2pqr) (0.17.1)\n",
            "Requirement already satisfied: requests in /usr/local/lib/python3.7/dist-packages (from pdb2pqr) (2.23.0)\n",
            "Requirement already satisfied: chardet<4,>=3.0.2 in /usr/local/lib/python3.7/dist-packages (from requests->pdb2pqr) (3.0.4)\n",
            "Requirement already satisfied: urllib3!=1.25.0,!=1.25.1,<1.26,>=1.21.1 in /usr/local/lib/python3.7/dist-packages (from requests->pdb2pqr) (1.24.3)\n",
            "Requirement already satisfied: idna<3,>=2.5 in /usr/local/lib/python3.7/dist-packages (from requests->pdb2pqr) (2.10)\n",
            "Requirement already satisfied: certifi>=2017.4.17 in /usr/local/lib/python3.7/dist-packages (from requests->pdb2pqr) (2021.10.8)\n"
          ]
        }
      ]
    },
    {
      "cell_type": "markdown",
      "source": [
        "**1.b** Adding H atoms    \n",
        "Execute: pdb2pqr30 --ff AMBER --with-ph=7 --nodebump --ffout=AMBER ../TEV/1lvm_A.pdb ../TEV/1lvm_A_H.pqr\n"
      ],
      "metadata": {
        "id": "4vVbvyxv4n-z"
      }
    },
    {
      "cell_type": "code",
      "source": [
        "!pwd\n",
        "#!ls -l modelingworkshop_syoo/exercise/TEV/"
      ],
      "metadata": {
        "colab": {
          "base_uri": "https://localhost:8080/"
        },
        "id": "gzMbD0_GUIPx",
        "outputId": "ca7e4b23-a24d-4e93-d300-1eb6fdc7a5e3"
      },
      "execution_count": 10,
      "outputs": [
        {
          "output_type": "stream",
          "name": "stdout",
          "text": [
            "/content/drive/MyDrive/2022S_MODELING_WORKSHOP/2022S_MM_SESSION_3_2\n"
          ]
        }
      ]
    },
    {
      "cell_type": "code",
      "source": [
        "in_pdb, out_pqr = 'modelingworkshop_syoo/exercise/TEV/1lvm_A.pdb','modelingworkshop_syoo/exercise/TEV/1lvm_A_H.pqr'\n",
        "!pdb2pqr30 --ff=AMBER --with-ph=7 --nodebump --ffout=AMBER {in_pdb} {out_pqr}"
      ],
      "metadata": {
        "id": "ZVWlIbjqR2QX",
        "colab": {
          "base_uri": "https://localhost:8080/"
        },
        "outputId": "e7fa612a-8efd-442b-c8d3-686aece8bf9e"
      },
      "execution_count": 9,
      "outputs": [
        {
          "output_type": "stream",
          "name": "stdout",
          "text": [
            "INFO:PDB2PQR v3.5.2: biomolecular structure conversion software.\n",
            "INFO:Please cite:  Jurrus E, et al.  Improvements to the APBS biomolecular solvation software suite.  Protein Sci 27 112-128 (2018).\n",
            "INFO:Please cite:  Dolinsky TJ, et al.  PDB2PQR: expanding and upgrading automated preparation of biomolecular structures for molecular simulations. Nucleic Acids Res 35 W522-W525 (2007).\n",
            "INFO:Checking and transforming input arguments.\n",
            "INFO:Loading topology files.\n",
            "INFO:Loading molecule: modelingworkshop_syoo/exercise/TEV/1lvm_A.pdb\n",
            "INFO:Setting up molecule.\n",
            "INFO:Created biomolecule object with 221 residues and 1753 atoms.\n",
            "INFO:Setting termini states for biomolecule chains.\n",
            "INFO:Loading forcefield.\n",
            "INFO:Loading hydrogen topology definitions.\n",
            "WARNING:Missing atom CG in residue GLU A 2\n",
            "WARNING:Missing atom CD in residue GLU A 2\n",
            "WARNING:Missing atom OE1 in residue GLU A 2\n",
            "WARNING:Missing atom OE2 in residue GLU A 2\n",
            "WARNING:Missing atom OG1 in residue THR A 118\n",
            "WARNING:Missing atom CG2 in residue THR A 118\n",
            "WARNING:Missing atom CG in residue LYS A 119\n",
            "WARNING:Missing atom CD in residue LYS A 119\n",
            "WARNING:Missing atom CE in residue LYS A 119\n",
            "WARNING:Missing atom NZ in residue LYS A 119\n",
            "WARNING:Missing atom OG in residue SER A 120\n",
            "WARNING:Missing atom CG in residue ASN A 205\n",
            "WARNING:Missing atom OD1 in residue ASN A 205\n",
            "WARNING:Missing atom ND2 in residue ASN A 205\n",
            "WARNING:Missing atom OXT in residue PRO A 221\n",
            "WARNING:Missing atom CG in residue GLU A 2\n",
            "WARNING:Missing atom CD in residue GLU A 2\n",
            "WARNING:Missing atom OE1 in residue GLU A 2\n",
            "WARNING:Missing atom OE2 in residue GLU A 2\n",
            "WARNING:Missing atom OG1 in residue THR A 118\n",
            "WARNING:Missing atom CG2 in residue THR A 118\n",
            "WARNING:Missing atom CG in residue LYS A 119\n",
            "WARNING:Missing atom CD in residue LYS A 119\n",
            "WARNING:Missing atom CE in residue LYS A 119\n",
            "WARNING:Missing atom NZ in residue LYS A 119\n",
            "WARNING:Missing atom OG in residue SER A 120\n",
            "WARNING:Missing atom CG in residue ASN A 205\n",
            "WARNING:Missing atom OD1 in residue ASN A 205\n",
            "WARNING:Missing atom ND2 in residue ASN A 205\n",
            "WARNING:Missing atom OXT in residue PRO A 221\n",
            "INFO:Attempting to repair 15 missing atoms in biomolecule.\n",
            "WARNING:Missing atom CG in residue GLU A 2\n",
            "WARNING:Missing atom CD in residue GLU A 2\n",
            "WARNING:Missing atom OE1 in residue GLU A 2\n",
            "WARNING:Missing atom OE2 in residue GLU A 2\n",
            "WARNING:Missing atom OG1 in residue THR A 118\n",
            "WARNING:Missing atom CG2 in residue THR A 118\n",
            "WARNING:Missing atom CG in residue LYS A 119\n",
            "WARNING:Missing atom CD in residue LYS A 119\n",
            "WARNING:Missing atom CE in residue LYS A 119\n",
            "WARNING:Missing atom NZ in residue LYS A 119\n",
            "WARNING:Missing atom OG in residue SER A 120\n",
            "WARNING:Missing atom CG in residue ASN A 205\n",
            "WARNING:Missing atom OD1 in residue ASN A 205\n",
            "WARNING:Missing atom ND2 in residue ASN A 205\n",
            "WARNING:Missing atom OXT in residue PRO A 221\n",
            "INFO:Added atom CG to residue GLU A 2 at coordinates 35.814, 65.362, 9.021\n",
            "INFO:Added atom CD to residue GLU A 2 at coordinates 37.070, 66.152, 8.861\n",
            "INFO:Added atom OE1 to residue GLU A 2 at coordinates 37.170, 67.131, 8.131\n",
            "INFO:Added atom OE2 to residue GLU A 2 at coordinates 38.011, 65.698, 9.542\n",
            "INFO:Added atom OG1 to residue THR A 118 at coordinates 6.023, 72.258, 29.909\n",
            "INFO:Added atom CG2 to residue THR A 118 at coordinates 6.858, 71.232, 32.014\n",
            "INFO:Added atom CG to residue LYS A 119 at coordinates 4.232, 71.677, 36.877\n",
            "INFO:Added atom CD to residue LYS A 119 at coordinates 4.197, 70.524, 37.862\n",
            "INFO:Added atom CE to residue LYS A 119 at coordinates 2.821, 69.910, 37.991\n",
            "INFO:Added atom NZ to residue LYS A 119 at coordinates 2.836, 68.788, 38.963\n",
            "INFO:Added atom OG to residue SER A 120 at coordinates 10.070, 71.098, 34.675\n",
            "INFO:Added atom CG to residue ASN A 205 at coordinates 7.393, 108.386, 19.263\n",
            "INFO:Added atom OD1 to residue ASN A 205 at coordinates 7.609, 107.613, 20.206\n",
            "INFO:Added atom ND2 to residue ASN A 205 at coordinates 7.913, 109.608, 19.196\n",
            "INFO:Added atom OXT to residue PRO A 221 at coordinates -4.771, 94.414, 10.953\n",
            "INFO:Updating disulfide bridges.\n",
            "INFO:Adding hydrogens to biomolecule.\n",
            "INFO:Optimizing hydrogen bonds\n",
            "INFO:Applying force field to biomolecule states.\n",
            "INFO:Applying custom naming scheme (amber).\n",
            "INFO:Regenerating headers.\n",
            "INFO:Regenerating PDB lines.\n",
            "WARNING:Ignoring 464 header lines in output.\n"
          ]
        }
      ]
    },
    {
      "cell_type": "markdown",
      "source": [
        "**1.c**  Converting a pqr file to a pdb file  \n",
        "Execute: python pqr2pdb.py -i ../TEV/1lvm_A_H.pqr -o ../TEV/protein.pdb\n"
      ],
      "metadata": {
        "id": "5svCVTmG6Shi"
      }
    },
    {
      "cell_type": "markdown",
      "source": [
        "**Step 2**: Generating an amber Parameter/topology file (prmtop) for QM/MM system (using pdb2amber.py)\n"
      ],
      "metadata": {
        "id": "Sljz1AXQECue"
      }
    },
    {
      "cell_type": "markdown",
      "source": [
        "Execute the following command:   \n",
        "python ~/Workshop/pdb2amber/pdb2amber.py -i input.json\n"
      ],
      "metadata": {
        "id": "IVHliGO-EpXs"
      }
    },
    {
      "cell_type": "markdown",
      "source": [
        "**Step 3**: Minimizing the protein structure within the QMMM system (using qmmm_pol.py)\n"
      ],
      "metadata": {
        "id": "VDljvUR0FV5_"
      }
    },
    {
      "cell_type": "markdown",
      "source": [
        "**Step 4**: Calculating the potential energy and gradients of the QM/MM system (using qmmm_pol.py)\n"
      ],
      "metadata": {
        "id": "MxboXqApHDQZ"
      }
    },
    {
      "cell_type": "markdown",
      "source": [
        "Execute the following command:  \n",
        "$ python ../../QMMM/qmmm_pol.py -i input.json\n"
      ],
      "metadata": {
        "id": "An58AjDIHV69"
      }
    },
    {
      "cell_type": "markdown",
      "source": [
        "**Step 5**: Minimzing the initial QM/MM system (using qmmm_pol.py)\n"
      ],
      "metadata": {
        "id": "Yrg1hy8zHfrm"
      }
    },
    {
      "cell_type": "markdown",
      "source": [
        "Execute the following command:  \n",
        "$ python ../../QMMM/qmmm_pol.py -i input.json\n"
      ],
      "metadata": {
        "id": "u1SqqXpwHwT7"
      }
    },
    {
      "cell_type": "markdown",
      "source": [
        "**Step 6**: Proton transfer from CYS(-SH) to HID (NE2) (Reaction 1) \n"
      ],
      "metadata": {
        "id": "zY4uF-4AIk_r"
      }
    },
    {
      "cell_type": "markdown",
      "source": [
        "Execute the following command:  \n",
        "$ python ../../QMMM/qmmm_pol.py -i input.json\n"
      ],
      "metadata": {
        "id": "bvrgywEAI67Z"
      }
    },
    {
      "cell_type": "markdown",
      "source": [
        "**Step 7**: Nucleopilic attack of CYS to the carbonyl carbon ( C(=O)-NH- ) (Reaction 2)\n"
      ],
      "metadata": {
        "id": "obbMh10TJArR"
      }
    }
  ]
}