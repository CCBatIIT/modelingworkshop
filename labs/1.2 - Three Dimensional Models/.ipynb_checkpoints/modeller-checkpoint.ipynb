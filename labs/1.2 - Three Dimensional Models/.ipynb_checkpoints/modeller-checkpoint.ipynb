{
 "cells": [
  {
   "cell_type": "markdown",
   "metadata": {
    "id": "-IGnGd85EHFG"
   },
   "source": [
    "# Homology Modeling using MODELLER\n",
    "\n",
    "In this lab, we will first look at a few structures of MPro. Then we will build a model of MPro from a bat coronavirus for which no structures are available.\n",
    "\n",
    "The latter part of this lab was adapted to model MPro (instead of PETase) from [Lab 04 of IIBM3202 Molecular Modeling and Simulation](https://github.com/pb3lab/ibm3202/blob/master/tutorials/lab04_cm.ipynb) from the Institute for Biological and Engineering at Pontificia Universidad Catolica de Chile."
   ]
  },
  {
   "cell_type": "markdown",
   "metadata": {
    "id": "xMf4RZ9mRGoP"
   },
   "source": [
    "#Part 0 – Downloading and Installing the required software"
   ]
  },
  {
   "cell_type": "markdown",
   "metadata": {
    "id": "o2o6UeVMUNBg"
   },
   "source": [
    "Before we start, you must first **remember to start the hosted runtime in Google Colab**.\n",
    "\n",
    "Then, we must install several pieces of software to perform this tutorial. Namely:\n",
    "- **MODELLER**, a famous homology modelling software.\n",
    "- **py3Dmol**, for visualization of the template and modelled protein structures.\n",
    "- **prody**, for manipulation and retrieval of protein structures and sequences.\n",
    "\n",
    "1. We will first install MODELLER as follows:\n",
    "\n",
    "⚠️**WARNING!:** In order to use MODELLER, you will need to obtain an Academic License by registering **[in this website](https://salilab.org/modeller/registration.html)**. The license key will be immediately sent to your email address."
   ]
  },
  {
   "cell_type": "code",
   "execution_count": 1,
   "metadata": {
    "id": "Dct8-bXnbwyD"
   },
   "outputs": [
    {
     "name": "stderr",
     "output_type": "stream",
     "text": [
      "'wget' is not recognized as an internal or external command,\n",
      "operable program or batch file.\n",
      "tar (child): modeller-10.1.tar.gz: Cannot open: No such file or directory\n",
      "tar (child): Error is not recoverable: exiting now\n",
      "tar: Child returned status 2\n",
      "tar: Error is not recoverable: exiting now\n"
     ]
    },
    {
     "name": "stdout",
     "output_type": "stream",
     "text": [
      "\"MODELLER extraction completed\"\n",
      "[WinError 2] The system cannot find the file specified: 'modeller-10.1'\n",
      "G:\\Code\\githubs\\modelingworkshop_ccbatiit\\labs\\1.2 - Three Dimensional Models\n"
     ]
    },
    {
     "name": "stderr",
     "output_type": "stream",
     "text": [
      "'.' is not recognized as an internal or external command,\n",
      "operable program or batch file.\n"
     ]
    },
    {
     "name": "stdout",
     "output_type": "stream",
     "text": [
      "\"MODELLER set up completed\"\n",
      "[WinError 2] The system cannot find the file specified: '/content/'\n",
      "G:\\Code\\githubs\\modelingworkshop_ccbatiit\\labs\\1.2 - Three Dimensional Models\n"
     ]
    }
   ],
   "source": [
    "import os\n",
    "from google.colab import drive\n",
    "drive.mount('/content/drive')\n",
    "\n",
    "workshop_dir = '/content/drive/MyDrive/2022S_MODELING_WORKSHOP/'\n",
    "if not os.path.isdir(workshop_dir):\n",
    "  os.mkdir(workshop_dir)\n",
    "\n",
    "os.chdir(workshop_dir)\n",
    "if not os.path.isdir(workshop_dir + 'modelingworkshop'):\n",
    "  !git clone https://github.com/CCBatIIT/modelingworkshop\n",
    "\n",
    "lab_dir = workshop_dir + '2022S_MM_SESSION_1_2' #SPECIFIC TO EACH LAB\n",
    "if not os.path.isdir(lab_dir):\n",
    "  os.mkdir(lab_dir)\n",
    "os.chdir(lab_dir)\n",
    "\n",
    "# CONTENT SPECIFIC TO LAB\n",
    "\n",
    "#Before running this script, make sure to replace the MODELLER\n",
    "#License Key with the one sent after registration in the MODELLER website\n",
    "!wget https://salilab.org/modeller/10.1/modeller-10.1.tar.gz\n",
    "#Then, we extract the downloaded folder containing MODELLER 10.1\n",
    "!tar -zxf modeller-10.1.tar.gz\n",
    "!echo \"MODELLER extraction completed\"\n",
    "#Then, we switch onto the MODELLER folder\n",
    "#with an automagic command\n",
    "%cd modeller-10.1\n",
    "#And we prepare a file containing the minimal setup elements\n",
    "#For installing, including a license key\n",
    "with open('modeller_config', 'a') as f:\n",
    "  f.write(\"3\\n\")\n",
    "  f.write(\"/content/compiled/MODELLER\\n\")\n",
    "# --> ADD YOUR LICENSE KEY HERE!\n",
    "  f.write(\"MODELIRANJE\\n\")\n",
    "# --> ADD YOUR LICENSE KEY HERE!\n",
    "!./Install < modeller_config\n",
    "!echo \"MODELLER set up completed\"\n",
    "%cd /content/"
   ]
  },
  {
   "cell_type": "code",
   "execution_count": null,
   "metadata": {
    "id": "hc7elmkrkRsi"
   },
   "outputs": [],
   "source": [
    "#Creating a symbolic link\n",
    "%cd modeller-10.1\n",
    "!ln -sf /content/compiled/MODELLER/bin/mod10.1 /usr/bin/\n",
    "%cd /content/\n",
    "#Checking if MODELLER works\n",
    "!mod10.1 | awk 'NR==1{if($1==\"usage:\") print \"MODELLER succesfully installed\"; else if($1!=\"usage:\") print \"Something went wrong. Please install again\"}'"
   ]
  },
  {
   "cell_type": "markdown",
   "metadata": {
    "id": "iqxGqQiBfH01"
   },
   "source": [
    "2. Then, we will install prody"
   ]
  },
  {
   "cell_type": "code",
   "execution_count": null,
   "metadata": {
    "id": "PGNoNof2RQFh"
   },
   "outputs": [],
   "source": [
    "try:\n",
    "  import prody\n",
    "except:\n",
    "  !pip install -U prody\n",
    "  import prody"
   ]
  },
  {
   "cell_type": "markdown",
   "metadata": {
    "id": "T7V_RsmMXViv"
   },
   "source": [
    "3. Finally, we will install py3Dmol"
   ]
  },
  {
   "cell_type": "code",
   "execution_count": null,
   "metadata": {
    "id": "fGwT3ZARyklF"
   },
   "outputs": [],
   "source": [
    "try:\n",
    "  import py3Dmol\n",
    "except:\n",
    "  !pip install py3Dmol\n",
    "  import py3Dmol"
   ]
  },
  {
   "cell_type": "markdown",
   "metadata": {
    "id": "bWG8g943ENJP"
   },
   "source": [
    "As we mentioned during the lecture, **structure space is rather small when compared with the sequence space**. In fact, hierarchical structure classifications such as **CATH** have demonstrated that only a few proteins of the enormous pool of structures being deposited each year in the Protein Data Bank are known to provide novel folds. In this regard, it seems that we have discovered almost all protein folds. Moreover, the elegant experiment by Chothia & Lesk [Chothia C & Lesk AM (1986) _EMBO J_ 5(4), 823–826] revealed that, generally, **protein structures are quite similar between proteins when their sequence identity is > 30-40%**, with some remarkable exceptions to this rule)."
   ]
  },
  {
   "cell_type": "markdown",
   "metadata": {
    "id": "vpP-cbCn2gDU"
   },
   "source": [
    "# Part I - Visualizing sequence-structure similarity\n",
    "\n",
    "As an illustrative example of the fact that similar sequences often lead to similar structure, let's align and visualize crystal structures of MPro from the original SARS-CoV and SARS-CoV-2."
   ]
  },
  {
   "cell_type": "markdown",
   "metadata": {
    "id": "A0Gszp2O3VPO"
   },
   "source": [
    "Firrst, we will use prody to superpose a structure of SARS-CoV-2 MPro onto a structure of SARS-CoV MPro."
   ]
  },
  {
   "cell_type": "code",
   "execution_count": null,
   "metadata": {
    "id": "z5AvqsF5zKn6"
   },
   "outputs": [],
   "source": [
    "%cd /content/\n",
    "%mkdir prody\n",
    "%cd prody"
   ]
  },
  {
   "cell_type": "code",
   "execution_count": null,
   "metadata": {
    "id": "f8E_IP0qA6VR"
   },
   "outputs": [],
   "source": [
    "PDB_1wof = prody.parsePDB('1wof')\n",
    "PDB_5rh2 = prody.parsePDB('5rh2')\n",
    "\n",
    "PDB_1wof_prot = PDB_1wof.select('protein')\n",
    "PDB_5rh2p = PDB_5rh2.select('protein')\n",
    "\n",
    "map_1wof_5rh2, map_5rh2_1wof, seqid, overlap = \\\n",
    "  prody.matchChains(PDB_1wof_prot, PDB_5rh2p)[0]\n",
    "transformation = prody.calcTransformation(map_5rh2_1wof, map_1wof_5rh2)\n",
    "\n",
    "prody.applyTransformation(transformation, PDB_5rh2)\n",
    "prody.writePDB('5rh2_aligned.pdb', PDB_5rh2)\n",
    "prody.writePDB('1wof.pdb', PDB_1wof)\n",
    "prody.writePDB('1wofa.pdb', PDB_1wof.select('chain A'))"
   ]
  },
  {
   "cell_type": "markdown",
   "metadata": {
    "id": "MSDotPkH3u3o"
   },
   "source": [
    "Next, let us visualize the secondary structure of the two proteins. What do you notice?"
   ]
  },
  {
   "cell_type": "code",
   "execution_count": null,
   "metadata": {
    "id": "a4hz9pk1GwD1"
   },
   "outputs": [],
   "source": [
    "view = py3Dmol.view()\n",
    "view.setBackgroundColor('white')\n",
    "view.addModel(open('1wofa.pdb', 'r').read(),'pdb')\n",
    "view.addModel(open('5rh2_aligned.pdb', 'r').read(),'pdb')\n",
    "view.setStyle({'model':0}, {'cartoon': {'color':'purple'}})\n",
    "view.setStyle({'model':1}, {'cartoon': {'color':'yellow'}})\n",
    "view.zoomTo()\n",
    "view.show()"
   ]
  },
  {
   "cell_type": "markdown",
   "metadata": {
    "id": "GXs_2_Uy3-2K"
   },
   "source": [
    "Finally, compare side chain positions. How do they compare?"
   ]
  },
  {
   "cell_type": "code",
   "execution_count": null,
   "metadata": {
    "id": "6uknkmI9LRsA"
   },
   "outputs": [],
   "source": [
    "view = py3Dmol.view()\n",
    "view.setBackgroundColor('white')\n",
    "view.addModel(open('1wofa.pdb', 'r').read(),'pdb')\n",
    "view.addModel(open('5rh2_aligned.pdb', 'r').read(),'pdb')\n",
    "view.setStyle({'and':[{'model':0},{'chain':'A'}]}, {'cartoon': {'color':'purple'}})\n",
    "view.addStyle({'and':[{'model':0},{'chain':'A'}]}, {'stick': {'colorscheme':'purpleCarbon'}})\n",
    "view.setStyle({'model':1}, {'cartoon': {'color':'yellow'}})\n",
    "view.addStyle({'model':1}, {'stick': {'colorscheme':'yellowCarbon'}})\n",
    "view.zoomTo()\n",
    "view.show()"
   ]
  },
  {
   "cell_type": "markdown",
   "metadata": {
    "id": "lgzaiYkf6aJ4"
   },
   "source": [
    "MPro is actually a dimer. For simility we have only shown one of the monomers so far. Now let's look more closely at the side chain positions. Do you notice any patterns with side chains variations \n",
    "\n",
    "* on the surface \n",
    "* in the interior of the protein\n",
    "* at the interface between subunits?"
   ]
  },
  {
   "cell_type": "code",
   "execution_count": null,
   "metadata": {
    "id": "zOAKwxvg6Rz8"
   },
   "outputs": [],
   "source": [
    "view = py3Dmol.view()\n",
    "view.setBackgroundColor('white')\n",
    "view.addModel(open('1wof.pdb', 'r').read(),'pdb')\n",
    "view.addModel(open('5rh2_aligned.pdb', 'r').read(),'pdb')\n",
    "view.setStyle({'and':[{'model':0},{'chain':'A'}]}, {'cartoon': {'color':'purple'}})\n",
    "view.addStyle({'and':[{'model':0},{'chain':'A'}]}, {'stick': {'colorscheme':'purpleCarbon'}})\n",
    "view.setStyle({'and':[{'model':0},{'chain':'B'}]}, {'cartoon': {'color':'grey'}})\n",
    "view.setStyle({'model':1}, {'cartoon': {'color':'yellow'}})\n",
    "view.addStyle({'model':1}, {'stick': {'colorscheme':'yellowCarbon'}})\n",
    "view.zoomTo()\n",
    "view.show()"
   ]
  },
  {
   "cell_type": "markdown",
   "metadata": {
    "id": "2-3uHREEEaKG"
   },
   "source": [
    "# Part II - Template selection and sequence alignment"
   ]
  },
  {
   "cell_type": "markdown",
   "metadata": {
    "id": "TOfMKDLiHuyH"
   },
   "source": [
    "1. Let's move on to modeling the bat coronavirus MPro. The first step to structure prediction is to obtain the sequence that you want to model. We have obtained the amino acid sequence from [UniProt](https://www.uniprot.org/blast/?about=P0C6W6[3239-3544]&key=Chain&id=PRO_0000043082). Now lets store the sequence in a file."
   ]
  },
  {
   "cell_type": "code",
   "execution_count": null,
   "metadata": {
    "id": "SW50ijpkzV8D"
   },
   "outputs": [],
   "source": [
    "%cd /content/\n",
    "%mkdir modeller\n",
    "%cd modeller"
   ]
  },
  {
   "cell_type": "code",
   "execution_count": null,
   "metadata": {
    "id": "ClO1IZHkDM8W"
   },
   "outputs": [],
   "source": [
    "# sp|P0C6W6|3239-3544\n",
    "F = open('target.fasta','w')\n",
    "F.write(\"\"\">target\n",
    "SGFRKMAFPSGKVEGCMVQVTCGTTTLNGLWLDDTVYCPRHVICTAEDMLNPNYEDLLIR\n",
    "KSNHSFLVQAGNVQLRVIGHSMQNCLLRLKVDTSNPKTPKYKFVRIQPGQTFSVLACYNG\n",
    "SPSGVYQCAMRPNHTIKGSFLNGSCGSVGFNIDYDCVSFCYMHHMELPTEVHAGTDLEGK\n",
    "FYGPFVDRQTAQAAGTDTTITLNVLAWLYAAVINGDRWFLNRFTTTLNDFNLVAMKYNYE\n",
    "PLTQDHVDILGPLSAQTGIAVLDMCAALKELLQNGMNGRTILGSTILEDEFTPFDVVRQC\n",
    "SGVTFQ\"\"\")\n",
    "F.close()"
   ]
  },
  {
   "cell_type": "markdown",
   "metadata": {
    "id": "TF9HsgUtEuAv"
   },
   "source": [
    "Selecting an appropriate template for modeling a structure of a homologous protein is as crucial as an appropriate alignment to correctly position the different residues.\n",
    "\n",
    "**QUESTION:** What features of a crystal structure do you think are important for choosing the best template?"
   ]
  },
  {
   "cell_type": "markdown",
   "metadata": {
    "id": "Fji-N_jhSgQJ"
   },
   "source": [
    "2. We will find the potential best templates from the whole PDB database to model the structure of our target protein using the **profile.build()** command from MODELLER.\n",
    "\n",
    "  For this purpose, we need a text file containing a list of non-redundant PDB sequences at 95% sequence identity and an appropriate script for running MODELLER."
   ]
  },
  {
   "cell_type": "code",
   "execution_count": null,
   "metadata": {
    "id": "-XvmVrRdRrMm"
   },
   "outputs": [],
   "source": [
    "#Downloading pdb_95.pir\n",
    "!wget https://salilab.org/modeller/downloads/pdb_95.pir.gz\n",
    "!gunzip pdb_95.pir.gz\n",
    "#Downloading the build_profile.py script from GitHub\n",
    "!wget https://raw.githubusercontent.com/pb3lab/ibm3202/master/scripts/build_profile.py"
   ]
  },
  {
   "cell_type": "code",
   "execution_count": null,
   "metadata": {
    "id": "2bZ0bgu6SkOr"
   },
   "outputs": [],
   "source": [
    "#Running the build_profile script\n",
    "!mod10.1 build_profile.py\n",
    "#Printing only the list of potential templates\n",
    "!sed -n '/HITS FOUND IN ITERATION:     1/,/Weight Matrix/p;/Weight Matrix/q' build_profile.log"
   ]
  },
  {
   "cell_type": "markdown",
   "metadata": {
    "id": "ekC7m-xcQ72Q"
   },
   "source": [
    "In this particular example, a BLOSUM62 similarity matrix is being used for determining the sequence identity between target and potential templates. Also, we are employing only one search iteration and the parameter max_aln_evalue is set to 0.01, indicating that only sequences with e-values smaller than or equal to 0.01 will be included in the final profile.\n",
    "\n",
    "For simplicity, we just printed out the PDB table from the resulting log file generated during this analysis.\n",
    "\n",
    "As you can see, several PDB files are indicated. The important columns to determine the best templates from this analysis are the fifth, seventh and eight columns, which correspond to the sequence length of the target protein, the sequence identity and the e-value, respectively.\n",
    "\n",
    "**QUESTION:** From this analysis, which template would be better for modeling the structure of our target sequence?"
   ]
  },
  {
   "cell_type": "code",
   "execution_count": null,
   "metadata": {
    "id": "vuPrA0NeO060"
   },
   "outputs": [],
   "source": [
    "# --> Enter information for the template below\n",
    "template_pdb = ''\n",
    "template_chain = ''\n",
    "\n",
    "# Downloads and decompresses\n",
    "prody.parsePDB(template_pdb)\n",
    "!gunzip {template_pdb}.pdb.gz"
   ]
  },
  {
   "cell_type": "markdown",
   "metadata": {
    "id": "dt61bO8tOmrr"
   },
   "source": [
    "3. Now, we will **align the sequence of our template protein with the sequence of our target protein**, such that we can model the structure."
   ]
  },
  {
   "cell_type": "code",
   "execution_count": null,
   "metadata": {
    "id": "wnpjKfnsTdln"
   },
   "outputs": [],
   "source": [
    "F = open('align2D.py', 'w')\n",
    "F.write(f\"\"\"from modeller import *\n",
    "\n",
    "env = environ()\n",
    "aln = alignment(env)\n",
    "mdl = model(env, file='{template_pdb}', model_segment=('FIRST:{template_chain}','LAST:{template_chain}'))\n",
    "aln.append_model(mdl, align_codes='{template_pdb}{template_chain}', atom_files='{template_pdb}.pdb')\n",
    "aln.append(file='target.fasta', align_codes='target', alignment_format='FASTA')\n",
    "aln.align2d()\n",
    "aln.write(file='aligned.fasta', alignment_format='FASTA')\n",
    "aln.write(file='aligned.ali', alignment_format='PIR')\n",
    "aln.write(file='aligned.pap', alignment_format='PAP')\n",
    "\"\"\")\n",
    "F.close()"
   ]
  },
  {
   "cell_type": "code",
   "execution_count": null,
   "metadata": {
    "id": "oC1m363k7WMB"
   },
   "outputs": [],
   "source": [
    "!mod10.1 align2D.py"
   ]
  },
  {
   "cell_type": "markdown",
   "metadata": {
    "id": "YkiMEeNSTbWm"
   },
   "source": [
    "4. You will end up with two new files (aligned.ali and aligned.fasta) that contain the pairwise alignment of the target and template sequences. Load the FASTA file into [Alignment Viewer 2.0](https://fast.alignmentviewer.org/). You can also use our Colab-mounted MSA viewer below:"
   ]
  },
  {
   "cell_type": "code",
   "execution_count": null,
   "metadata": {
    "cellView": "form",
    "id": "PEi1eCVZEffo"
   },
   "outputs": [],
   "source": [
    "#@title Protein MSA Viewer in Google Colab\n",
    "#The following code is modified from the wonderful viewer developed by Damien Farrell\n",
    "#https://dmnfarrell.github.io/bioinformatics/bokeh-sequence-aligner\n",
    "\n",
    "#Importing all modules first\n",
    "import os, io, random\n",
    "import string\n",
    "import numpy as np\n",
    "\n",
    "from Bio.Seq import Seq\n",
    "from Bio.Align import MultipleSeqAlignment\n",
    "from Bio import AlignIO, SeqIO\n",
    "\n",
    "import panel as pn\n",
    "import panel.widgets as pnw\n",
    "pn.extension()\n",
    "\n",
    "from bokeh.plotting import figure\n",
    "from bokeh.models import ColumnDataSource, Plot, Grid, Range1d\n",
    "from bokeh.models.glyphs import Text, Rect\n",
    "from bokeh.layouts import gridplot\n",
    "\n",
    "#Setting up the amino color code according to Zappo color scheme\n",
    "def get_colors(seqs):\n",
    "    #make colors for bases in sequence\n",
    "    text = [i for s in list(seqs) for i in s]\n",
    "    #Use Zappo color scheme\n",
    "    clrs =  {'K':'red',\n",
    "             'R':'red',\n",
    "             'H':'red',             \n",
    "             'D':'green',\n",
    "             'E':'green',\n",
    "             'Q':'blue',\n",
    "             'N':'blue',\n",
    "             'S':'blue',\n",
    "             'T':'blue',\n",
    "             'A':'blue',\n",
    "             'I':'blue',\n",
    "             'L':'blue',\n",
    "             'M':'blue',\n",
    "             'V':'blue',\n",
    "             'F':'orange',\n",
    "             'Y':'orange',\n",
    "             'W':'orange',\n",
    "             'C':'blue',\n",
    "             'P':'yellow',\n",
    "             'G':'orange',\n",
    "             '-':'white'}\n",
    "    colors = [clrs[i] for i in text]\n",
    "    return colors\n",
    "\n",
    "#Setting up the MSA viewer\n",
    "def view_alignment(aln, fontsize=\"9pt\", plot_width=800):\n",
    "    \"\"\"Bokeh sequence alignment view\"\"\"\n",
    "\n",
    "    #make sequence and id lists from the aln object\n",
    "    seqs = [rec.seq for rec in (aln)]\n",
    "    ids = [rec.id for rec in aln]    \n",
    "    text = [i for s in list(seqs) for i in s]\n",
    "    colors = get_colors(seqs)    \n",
    "    N = len(seqs[0])\n",
    "    S = len(seqs)    \n",
    "    width = .4\n",
    "\n",
    "    x = np.arange(1,N+1)\n",
    "    y = np.arange(0,S,1)\n",
    "    #creates a 2D grid of coords from the 1D arrays\n",
    "    xx, yy = np.meshgrid(x, y)\n",
    "    #flattens the arrays\n",
    "    gx = xx.ravel()\n",
    "    gy = yy.flatten()\n",
    "    #use recty for rect coords with an offset\n",
    "    recty = gy+.5\n",
    "    h= 1/S\n",
    "    #now we can create the ColumnDataSource with all the arrays\n",
    "    source = ColumnDataSource(dict(x=gx, y=gy, recty=recty, text=text, colors=colors))\n",
    "    plot_height = len(seqs)*15+50\n",
    "    x_range = Range1d(0,N+1, bounds='auto')\n",
    "    if N>100:\n",
    "        viewlen=100\n",
    "    else:\n",
    "        viewlen=N\n",
    "    #view_range is for the close up view\n",
    "    view_range = (0,viewlen)\n",
    "    tools=\"xpan, xwheel_zoom, reset, save\"\n",
    "\n",
    "    #entire sequence view (no text, with zoom)\n",
    "    p = figure(title=None, plot_width= plot_width, plot_height=50,\n",
    "               x_range=x_range, y_range=(0,S), tools=tools,\n",
    "               min_border=0, toolbar_location='below')\n",
    "    rects = Rect(x=\"x\", y=\"recty\",  width=1, height=1, fill_color=\"colors\",\n",
    "                 line_color=None, fill_alpha=0.6)\n",
    "    p.add_glyph(source, rects)\n",
    "    p.yaxis.visible = False\n",
    "    p.grid.visible = False  \n",
    "\n",
    "    #sequence text view with ability to scroll along x axis\n",
    "    p1 = figure(title=None, plot_width=plot_width, plot_height=plot_height,\n",
    "                x_range=view_range, y_range=ids, tools=\"xpan,reset\",\n",
    "                min_border=0, toolbar_location='below')#, lod_factor=1)          \n",
    "    glyph = Text(x=\"x\", y=\"y\", text=\"text\", text_align='center',text_color=\"black\",\n",
    "                text_font=\"monospace\",text_font_size=fontsize)\n",
    "    rects = Rect(x=\"x\", y=\"recty\",  width=1, height=1, fill_color=\"colors\",\n",
    "                line_color=None, fill_alpha=0.4)\n",
    "    p1.add_glyph(source, glyph)\n",
    "    p1.add_glyph(source, rects)\n",
    "\n",
    "    p1.grid.visible = False\n",
    "    p1.xaxis.major_label_text_font_style = \"bold\"\n",
    "    p1.yaxis.minor_tick_line_width = 0\n",
    "    p1.yaxis.major_tick_line_width = 0\n",
    "\n",
    "    p = gridplot([[p],[p1]], toolbar_location='below')\n",
    "    return p\n",
    "\n",
    "#Loading the viewer by indicating the MSA file and format to read\n",
    "#@markdown Name of the MSA file (including the filetype)\n",
    "MSAfile = 'aligned.fasta' #@param {type:\"string\"}\n",
    "MSAformat = 'fasta' #@param {type:\"string\"}\n",
    "aln = AlignIO.read(MSAfile,MSAformat)\n",
    "p = view_alignment(aln, plot_width=900)\n",
    "pn.pane.Bokeh(p)"
   ]
  },
  {
   "cell_type": "markdown",
   "metadata": {
    "id": "3so-qzfD-zCU"
   },
   "source": [
    "# Part III - Generate and visualize a comparative model using MODELLER"
   ]
  },
  {
   "cell_type": "markdown",
   "metadata": {
    "id": "bOtoHH4rPRvr"
   },
   "source": [
    "1. Once your target and template sequences are aligned, use the **model-single.py** script for finally obtaining a structure of your target through comparative modeling. Again, read the script and check how the sequences and structures are called in MODELLER through these scripts. In this case, we are also performing this step on a separate folder.\n",
    "\n",
    "  Please note that 1 model is not enough, as there is an energy function defining the optimal position of atomic coordinates, thus different models will have different energies. Generally, between 50-100 are generated for sufficient evaluation.\n",
    "\n",
    "**💡 HINT:** For our example, the generation of 50 models takes around 15 min on Google Colab, whereas 10 models are generated in about 3 min. You can edit the number of models to generate on the `model-single.py` script."
   ]
  },
  {
   "cell_type": "code",
   "execution_count": null,
   "metadata": {
    "id": "_-I1WX2iPBfM"
   },
   "outputs": [],
   "source": [
    "%cd /content/\n",
    "%mkdir modeller\n",
    "%cd modeller"
   ]
  },
  {
   "cell_type": "code",
   "execution_count": null,
   "metadata": {
    "id": "PueeTZCbBRS9"
   },
   "outputs": [],
   "source": [
    "F = open('model-single.py', 'w')\n",
    "\n",
    "F.write(f\"\"\"from modeller import *\n",
    "from modeller.automodel import *\n",
    "#from modeller import soap_protein_od\n",
    "\n",
    "env = environ()\n",
    "a = automodel(env, alnfile='aligned.ali',\n",
    "              knowns='{template_pdb}{template_chain}', sequence='target',\n",
    "              assess_methods=(assess.DOPE,\n",
    "                              #soap_protein_od.Scorer(),\n",
    "                              assess.GA341))\n",
    "a.starting_model = 1\n",
    "a.ending_model = 50\n",
    "a.make()\n",
    "\n",
    "# Get a list of all successfully built models from a.outputs\n",
    "ok_models = filter(lambda x: x['failure'] is None, a.outputs)\n",
    "\n",
    "# Rank the models by DOPE score\n",
    "key = 'DOPE score'\n",
    "ok_models.sort(lambda a,b: cmp(a[key], b[key]))\n",
    "\n",
    "# Get top model\n",
    "m = ok_models[0]\n",
    "print \"Top model: %s (DOPE score %.3f)\" % (m['name'], m[key])\n",
    "\"\"\")\n",
    "F.close()"
   ]
  },
  {
   "cell_type": "code",
   "execution_count": null,
   "metadata": {
    "id": "QycjAY0JAbio"
   },
   "outputs": [],
   "source": [
    "#Running the model-single script\n",
    "!mod10.1 model-single.py"
   ]
  },
  {
   "cell_type": "code",
   "execution_count": null,
   "metadata": {
    "id": "Km_tauO74UWv"
   },
   "outputs": [],
   "source": [
    "# Shows the end of the log file, which includes the best model\n",
    "!tail model-single.log"
   ]
  },
  {
   "cell_type": "markdown",
   "metadata": {
    "id": "S-VeK98_PeES"
   },
   "source": [
    "2. The output from this process is a bunch of PDB files, each one of them corresponding to a comparative model of our target protein, that are numbered from 1 up to the total number of models requested during comparative modeling.\n",
    "\n",
    "  Also, the **model-single.log** output has the total potential energy for each structure,according to MODELLER’s DOPE (discrete optimized protein energy) score. For simplicity, this script was modified to indicate the model with the best DOPE score. We will be working only with the model with the best score for the remainder of the session.\n",
    "  \n",
    "  As an example, our best model during preparation of this tutorial showed the following DOPE score:\n",
    "\n",
    "```\n",
    "Top model: target.B99990021.pdb (DOPE score -35317.168)\n",
    "Total CPU time [seconds]                                 :     885.31\n",
    "```"
   ]
  },
  {
   "cell_type": "markdown",
   "metadata": {
    "id": "4z5y3ANOGczz"
   },
   "source": [
    "3. Before we check the quality of our model, we will take a look at it on **py3Dmol**.\n",
    "\n",
    "**💡 HINT:** We are creating a copy of our model and changing the chain id, to make it easier to load both structures into py3Dmol."
   ]
  },
  {
   "cell_type": "code",
   "execution_count": null,
   "metadata": {
    "id": "R0iY91aCSpMR"
   },
   "outputs": [],
   "source": [
    "# --> Modify this for your best model and chain\n",
    "# Copying our best model with a new chain id\n",
    "!sed \"s/ A / B /g\" target.B99990003.pdb > bestmodel.pdb"
   ]
  },
  {
   "cell_type": "code",
   "execution_count": null,
   "metadata": {
    "id": "N_wN77GlGoV8"
   },
   "outputs": [],
   "source": [
    "#Setting up py3Dmol for visualization\n",
    "view=py3Dmol.view()\n",
    "#Loading template\n",
    "view.addModel(open(f'{template_pdb}.pdb', 'r').read(),'pdb')\n",
    "#Loading best DOPE score model\n",
    "view.addModel(open('bestmodel.pdb', 'r').read(),'pdb')\n",
    "#Coloring the structures by chain id\n",
    "view.setStyle({'model':0}, {'cartoon': {'color':'purple'}})\n",
    "view.setStyle({'model':1}, {'cartoon': {'color':'yellow'}})\n",
    "view.zoomTo()\n",
    "view.setBackgroundColor('white')\n",
    "view.show()"
   ]
  },
  {
   "cell_type": "markdown",
   "metadata": {
    "id": "LHbw7i6MGDNw"
   },
   "source": [
    "4. Finally, to check the stereochemical quality of the model and its comparison to experimentally solved structures, we will use the [SAVES server](https://saves.mbi.ucla.edu), which employs several structure-based scoring strategies:\n",
    "\n",
    "* **VERIFY3D** (i.e. compatibility of an atomic 3D model to its 1D sequence when compared tothe energetics of good structures from the PDB).\n",
    "* **ERRAT** (i.e. quality of non-bonded interactions of a region when compared to similar regions from highly refined structures).\n",
    "* **PROCHECK** (stereochemical and geometrical quality of the model, via Ramachandran plots, sidechain rotamers, etc)."
   ]
  },
  {
   "cell_type": "markdown",
   "metadata": {
    "id": "BgjvtJccRs4-"
   },
   "source": [
    "5. Download your best model, upload it to SAVES and wait for the results. Briefly:\n",
    "- **Check the VERIFY3D results:** >80% of the residues should have an average score ≥ 0.2, whereas the score profile allows you to identify conflicting regions.\n",
    "- **Check the Ramachandran plot:** Are there any residues outside the allowed regions? What types of residues are found within those regions? (Check it by clicking on each dot in the plot)\n",
    "- **Check the errors in PROCHECK:** are the errors located within the loop regions?\n"
   ]
  },
  {
   "cell_type": "markdown",
   "metadata": {
    "id": "yy_dPWhIVOCp"
   },
   "source": [
    "\n",
    "<figure>\n",
    "<center>\n",
    "<img src='https://raw.githubusercontent.com/pb3lab/ibm3202/master/images/cm_04.png'/>\n",
    "</center>\n",
    "</figure>"
   ]
  },
  {
   "cell_type": "markdown",
   "metadata": {
    "id": "L57wIbIJYAiK"
   },
   "source": [
    "[This article](https://journals.plos.org/ploscompbiol/article?id=10.1371/journal.pcbi.1007449) contains more recommendations on comparative modelling of protein structures."
   ]
  },
  {
   "cell_type": "markdown",
   "metadata": {
    "id": "J0An8FyhNXcV"
   },
   "source": [
    "# Part IV - Modeling a complete dimer"
   ]
  },
  {
   "cell_type": "markdown",
   "metadata": {
    "id": "n3zsef4cNlmu"
   },
   "source": [
    "In Part III, we built a model of a single subunit of MPro. In this part, we will build a model of the dimer by aligning two copies of the monomer to the template structure."
   ]
  },
  {
   "cell_type": "code",
   "execution_count": null,
   "metadata": {
    "id": "BddMCyWWOFSW"
   },
   "outputs": [],
   "source": [
    "%cd /content/\n",
    "%mkdir modeller\n",
    "%cd modeller"
   ]
  },
  {
   "cell_type": "markdown",
   "metadata": {
    "id": "2rvfGvS1Ui6x"
   },
   "source": [
    "First, we align the model to each chain from the template."
   ]
  },
  {
   "cell_type": "code",
   "execution_count": null,
   "metadata": {
    "id": "kQYnV1QgOim7"
   },
   "outputs": [],
   "source": [
    "PDB_model = prody.parsePDB('bestmodel.pdb')\n",
    "PDB_template = prody.parsePDB(f'{template_pdb}.pdb')\n",
    "\n",
    "PDB_model_prot = PDB_model.select('protein')\n",
    "PDB_model_template = PDB_template.select('protein')\n",
    "\n",
    "matches = \\\n",
    "  prody.matchChains(PDB_model_prot, PDB_model_template)\n",
    "\n",
    "for match in matches:\n",
    "  map_model_template, map_template_model, seqid, overlap = match\n",
    "  chain = map_template_model.getChids()[0]\n",
    "  transformation = prody.calcTransformation(map_model_template, map_template_model)\n",
    "  inv_transformation = prody.calcTransformation(map_template_model, map_model_template)\n",
    "  PDB_model.setChids([chain for i in range(len(PDB_model.getChids()))])\n",
    "  prody.applyTransformation(transformation, PDB_model)\n",
    "  prody.writePDB(f'bestmodel_aligned_to_{template_pdb}{chain}.pdb', PDB_model)\n",
    "  prody.applyTransformation(inv_transformation, PDB_model)"
   ]
  },
  {
   "cell_type": "markdown",
   "metadata": {
    "id": "YJfszAHfUpNl"
   },
   "source": [
    "Next, we join the files together."
   ]
  },
  {
   "cell_type": "code",
   "execution_count": null,
   "metadata": {
    "id": "JAL5o6OaTnAP"
   },
   "outputs": [],
   "source": [
    "dat = ''\n",
    "for chain in ['A','B']:\n",
    "  with open(f'bestmodel_aligned_to_{template_pdb}{chain}.pdb', 'r') as F:\n",
    "    dat += F.read()\n",
    "with open(f'bestmodel_aligned.pdb', 'w') as F:\n",
    "  F.write(dat)"
   ]
  },
  {
   "cell_type": "markdown",
   "metadata": {
    "id": "zCviIc60Utxm"
   },
   "source": [
    "Finally, we visualize the model and the template."
   ]
  },
  {
   "cell_type": "code",
   "execution_count": null,
   "metadata": {
    "id": "nBv8eJFqPSqB"
   },
   "outputs": [],
   "source": [
    "#Setting up py3Dmol for visualization\n",
    "view=py3Dmol.view()\n",
    "#Loading template\n",
    "view.addModel(open(f'{template_pdb}.pdb', 'r').read(),'pdb')\n",
    "view.addModel(open(f'bestmodel_aligned.pdb', 'r').read(),'pdb')\n",
    "#Coloring the structures by model id\n",
    "view.setStyle({'model':0}, {'cartoon': {'color':'purple'}})\n",
    "view.setStyle({'model':1}, {'cartoon': {'color':'yellow'}})\n",
    "view.zoomTo()\n",
    "view.setBackgroundColor('white')\n",
    "view.show()"
   ]
  },
  {
   "cell_type": "markdown",
   "metadata": {
    "id": "iIqvRXvtUxRI"
   },
   "source": [
    "Be sure to download `bestmodel_aligned.pdb`. We will use it in future computer labs."
   ]
  },
  {
   "cell_type": "markdown",
   "metadata": {
    "id": "IBjMZe5ufofl"
   },
   "source": [
    "**This is the end of the fourth tutorial! Good Science!!**"
   ]
  }
 ],
 "metadata": {
  "colab": {
   "collapsed_sections": [],
   "name": "modeller.ipynb",
   "provenance": []
  },
  "kernelspec": {
   "display_name": "Python 3 (ipykernel)",
   "language": "python",
   "name": "python3"
  },
  "language_info": {
   "codemirror_mode": {
    "name": "ipython",
    "version": 3
   },
   "file_extension": ".py",
   "mimetype": "text/x-python",
   "name": "python",
   "nbconvert_exporter": "python",
   "pygments_lexer": "ipython3",
   "version": "3.8.5"
  }
 },
 "nbformat": 4,
 "nbformat_minor": 1
}
